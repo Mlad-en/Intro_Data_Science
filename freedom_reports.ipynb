{
 "cells": [
  {
   "cell_type": "code",
   "execution_count": 1,
   "metadata": {
    "collapsed": true,
    "ExecuteTime": {
     "end_time": "2023-09-26T08:48:00.351629Z",
     "start_time": "2023-09-26T08:47:59.972839Z"
    }
   },
   "outputs": [],
   "source": [
    "import pandas as pd\n",
    "from os import listdir\n",
    "from pathlib import Path"
   ]
  },
  {
   "cell_type": "code",
   "execution_count": 11,
   "outputs": [],
   "source": [
    "reports_path = Path(\".\") / \"Freedom_of_the_press\""
   ],
   "metadata": {
    "collapsed": false,
    "ExecuteTime": {
     "end_time": "2023-09-26T08:49:17.245298Z",
     "start_time": "2023-09-26T08:49:17.241240Z"
    }
   }
  },
  {
   "cell_type": "code",
   "execution_count": 111,
   "outputs": [],
   "source": [
    "dfs = []\n",
    "columns_in_common_2002_2021 = set()\n",
    "\n",
    "for index, report in enumerate(sorted(listdir(reports_path))[:-2]):\n",
    "    df = pd.read_csv(reports_path / report, sep=\";\")\n",
    "    if index == 0:\n",
    "        columns_in_common_2002_2021 = set(df.columns)\n",
    "    if index > 0:\n",
    "        initial_columns = columns_in_common_2002_2021.union(set(df.columns))\n",
    "    dfs.append(df)"
   ],
   "metadata": {
    "collapsed": false,
    "ExecuteTime": {
     "end_time": "2023-09-26T10:21:02.355250Z",
     "start_time": "2023-09-26T10:21:02.300955Z"
    }
   }
  },
  {
   "cell_type": "code",
   "execution_count": 112,
   "outputs": [],
   "source": [
    "for df in dfs:\n",
    "    df = df.loc[:, list(columns_in_common_2002_2021)]"
   ],
   "metadata": {
    "collapsed": false,
    "ExecuteTime": {
     "end_time": "2023-09-26T10:21:02.554819Z",
     "start_time": "2023-09-26T10:21:02.546743Z"
    }
   }
  },
  {
   "cell_type": "code",
   "execution_count": 113,
   "outputs": [],
   "source": [
    "reports_2002_2021 = pd.concat(dfs)"
   ],
   "metadata": {
    "collapsed": false,
    "ExecuteTime": {
     "end_time": "2023-09-26T10:21:04.108401Z",
     "start_time": "2023-09-26T10:21:04.094152Z"
    }
   }
  },
  {
   "cell_type": "code",
   "execution_count": 114,
   "outputs": [],
   "source": [
    "report_2022 = pd.read_csv(reports_path / \"2022.csv\").dropna(subset=[\"ISO\"])\n",
    "report_2023 = pd.read_csv(reports_path / \"2023.csv\", sep=\";\")"
   ],
   "metadata": {
    "collapsed": false,
    "ExecuteTime": {
     "end_time": "2023-09-26T10:21:04.895893Z",
     "start_time": "2023-09-26T10:21:04.884747Z"
    }
   }
  },
  {
   "cell_type": "code",
   "execution_count": 115,
   "outputs": [],
   "source": [
    "report_2022[\"Year (N)\"] = 2022\n",
    "report_2023[\"Year (N)\"] = 2023\n",
    "\n",
    "report_2023 = report_2023.rename(columns={\"Rank\": \"Rank N\", \"Score\": \"Score N\"})"
   ],
   "metadata": {
    "collapsed": false,
    "ExecuteTime": {
     "end_time": "2023-09-26T10:21:06.285156Z",
     "start_time": "2023-09-26T10:21:06.279955Z"
    }
   }
  },
  {
   "cell_type": "code",
   "execution_count": 116,
   "outputs": [],
   "source": [
    "reports_2022_2023 = pd.concat([report_2022, report_2023])"
   ],
   "metadata": {
    "collapsed": false,
    "ExecuteTime": {
     "end_time": "2023-09-26T10:21:07.341412Z",
     "start_time": "2023-09-26T10:21:07.336015Z"
    }
   }
  },
  {
   "cell_type": "code",
   "execution_count": 119,
   "outputs": [],
   "source": [
    "bind_columns = list(columns_in_common_2002_2021.intersection(set(reports_2022_2023.columns)))"
   ],
   "metadata": {
    "collapsed": false,
    "ExecuteTime": {
     "end_time": "2023-09-26T10:21:45.968376Z",
     "start_time": "2023-09-26T10:21:45.965576Z"
    }
   }
  },
  {
   "cell_type": "code",
   "execution_count": 122,
   "outputs": [],
   "source": [
    "combined_all = pd.concat([reports_2002_2021[bind_columns], reports_2022_2023[bind_columns]])"
   ],
   "metadata": {
    "collapsed": false,
    "ExecuteTime": {
     "end_time": "2023-09-26T10:23:01.546358Z",
     "start_time": "2023-09-26T10:23:01.541327Z"
    }
   }
  },
  {
   "cell_type": "code",
   "execution_count": 124,
   "outputs": [],
   "source": [
    "combined_all.to_pickle(\"freedom_of_the_press_all.pickle\")"
   ],
   "metadata": {
    "collapsed": false,
    "ExecuteTime": {
     "end_time": "2023-09-26T12:45:37.589386Z",
     "start_time": "2023-09-26T12:45:37.582955Z"
    }
   }
  },
  {
   "cell_type": "code",
   "execution_count": null,
   "outputs": [],
   "source": [],
   "metadata": {
    "collapsed": false
   }
  }
 ],
 "metadata": {
  "kernelspec": {
   "display_name": "Python 3",
   "language": "python",
   "name": "python3"
  },
  "language_info": {
   "codemirror_mode": {
    "name": "ipython",
    "version": 2
   },
   "file_extension": ".py",
   "mimetype": "text/x-python",
   "name": "python",
   "nbconvert_exporter": "python",
   "pygments_lexer": "ipython2",
   "version": "2.7.6"
  }
 },
 "nbformat": 4,
 "nbformat_minor": 0
}
