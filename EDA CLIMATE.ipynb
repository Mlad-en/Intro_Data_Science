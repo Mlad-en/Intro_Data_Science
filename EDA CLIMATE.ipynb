{
 "cells": [
  {
   "cell_type": "code",
   "execution_count": 2,
   "id": "d99c3384",
   "metadata": {},
   "outputs": [],
   "source": [
    "import os\n",
    "import numpy as np\n",
    "import pandas as pd\n",
    "import matplotlib.pyplot as plt\n",
    "import seaborn as sns"
   ]
  },
  {
   "cell_type": "code",
   "execution_count": 21,
   "id": "d624782d",
   "metadata": {},
   "outputs": [
    {
     "data": {
      "text/html": [
       "<div>\n",
       "<style scoped>\n",
       "    .dataframe tbody tr th:only-of-type {\n",
       "        vertical-align: middle;\n",
       "    }\n",
       "\n",
       "    .dataframe tbody tr th {\n",
       "        vertical-align: top;\n",
       "    }\n",
       "\n",
       "    .dataframe thead th {\n",
       "        text-align: right;\n",
       "    }\n",
       "</style>\n",
       "<table border=\"1\" class=\"dataframe\">\n",
       "  <thead>\n",
       "    <tr style=\"text-align: right;\">\n",
       "      <th></th>\n",
       "      <th>iso_3</th>\n",
       "      <th>year</th>\n",
       "      <th>sentiment</th>\n",
       "      <th>total_amount_paragraphs</th>\n",
       "      <th>amount_climate_change_paragraphs</th>\n",
       "      <th>amount_of_time_spent_on_climate</th>\n",
       "      <th>Region Name</th>\n",
       "      <th>Sub-region Name</th>\n",
       "      <th>Entity</th>\n",
       "      <th>Annual CO₂ emissions (per capita)</th>\n",
       "    </tr>\n",
       "  </thead>\n",
       "  <tbody>\n",
       "    <tr>\n",
       "      <th>0</th>\n",
       "      <td>AFG</td>\n",
       "      <td>2013</td>\n",
       "      <td>0.000000</td>\n",
       "      <td>37</td>\n",
       "      <td>0</td>\n",
       "      <td>0.000000</td>\n",
       "      <td>Asia</td>\n",
       "      <td>Southern Asia</td>\n",
       "      <td>Afghanistan</td>\n",
       "      <td>0.293283</td>\n",
       "    </tr>\n",
       "    <tr>\n",
       "      <th>1</th>\n",
       "      <td>AFG</td>\n",
       "      <td>2014</td>\n",
       "      <td>0.427633</td>\n",
       "      <td>22</td>\n",
       "      <td>3</td>\n",
       "      <td>0.136364</td>\n",
       "      <td>Asia</td>\n",
       "      <td>Southern Asia</td>\n",
       "      <td>Afghanistan</td>\n",
       "      <td>0.280299</td>\n",
       "    </tr>\n",
       "    <tr>\n",
       "      <th>2</th>\n",
       "      <td>AFG</td>\n",
       "      <td>2015</td>\n",
       "      <td>0.718400</td>\n",
       "      <td>19</td>\n",
       "      <td>1</td>\n",
       "      <td>0.052632</td>\n",
       "      <td>Asia</td>\n",
       "      <td>Southern Asia</td>\n",
       "      <td>Afghanistan</td>\n",
       "      <td>0.290076</td>\n",
       "    </tr>\n",
       "    <tr>\n",
       "      <th>3</th>\n",
       "      <td>AFG</td>\n",
       "      <td>2016</td>\n",
       "      <td>0.000000</td>\n",
       "      <td>32</td>\n",
       "      <td>0</td>\n",
       "      <td>0.000000</td>\n",
       "      <td>Asia</td>\n",
       "      <td>Southern Asia</td>\n",
       "      <td>Afghanistan</td>\n",
       "      <td>0.261795</td>\n",
       "    </tr>\n",
       "    <tr>\n",
       "      <th>4</th>\n",
       "      <td>AFG</td>\n",
       "      <td>2017</td>\n",
       "      <td>0.000000</td>\n",
       "      <td>18</td>\n",
       "      <td>0</td>\n",
       "      <td>0.000000</td>\n",
       "      <td>Asia</td>\n",
       "      <td>Southern Asia</td>\n",
       "      <td>Afghanistan</td>\n",
       "      <td>0.276853</td>\n",
       "    </tr>\n",
       "    <tr>\n",
       "      <th>5</th>\n",
       "      <td>AFG</td>\n",
       "      <td>2018</td>\n",
       "      <td>0.000000</td>\n",
       "      <td>19</td>\n",
       "      <td>0</td>\n",
       "      <td>0.000000</td>\n",
       "      <td>Asia</td>\n",
       "      <td>Southern Asia</td>\n",
       "      <td>Afghanistan</td>\n",
       "      <td>0.294876</td>\n",
       "    </tr>\n",
       "    <tr>\n",
       "      <th>6</th>\n",
       "      <td>AFG</td>\n",
       "      <td>2019</td>\n",
       "      <td>-0.859100</td>\n",
       "      <td>19</td>\n",
       "      <td>1</td>\n",
       "      <td>0.052632</td>\n",
       "      <td>Asia</td>\n",
       "      <td>Southern Asia</td>\n",
       "      <td>Afghanistan</td>\n",
       "      <td>0.293401</td>\n",
       "    </tr>\n",
       "    <tr>\n",
       "      <th>7</th>\n",
       "      <td>AFG</td>\n",
       "      <td>2020</td>\n",
       "      <td>0.014180</td>\n",
       "      <td>41</td>\n",
       "      <td>5</td>\n",
       "      <td>0.121951</td>\n",
       "      <td>Asia</td>\n",
       "      <td>Southern Asia</td>\n",
       "      <td>Afghanistan</td>\n",
       "      <td>0.299746</td>\n",
       "    </tr>\n",
       "    <tr>\n",
       "      <th>8</th>\n",
       "      <td>AGO</td>\n",
       "      <td>2013</td>\n",
       "      <td>-0.124600</td>\n",
       "      <td>35</td>\n",
       "      <td>5</td>\n",
       "      <td>0.142857</td>\n",
       "      <td>Africa</td>\n",
       "      <td>Sub-Saharan Africa</td>\n",
       "      <td>Angola</td>\n",
       "      <td>0.945370</td>\n",
       "    </tr>\n",
       "    <tr>\n",
       "      <th>9</th>\n",
       "      <td>AGO</td>\n",
       "      <td>2014</td>\n",
       "      <td>-0.401900</td>\n",
       "      <td>27</td>\n",
       "      <td>1</td>\n",
       "      <td>0.037037</td>\n",
       "      <td>Africa</td>\n",
       "      <td>Sub-Saharan Africa</td>\n",
       "      <td>Angola</td>\n",
       "      <td>0.926986</td>\n",
       "    </tr>\n",
       "  </tbody>\n",
       "</table>\n",
       "</div>"
      ],
      "text/plain": [
       "  iso_3  year  sentiment  total_amount_paragraphs  \\\n",
       "0   AFG  2013   0.000000                       37   \n",
       "1   AFG  2014   0.427633                       22   \n",
       "2   AFG  2015   0.718400                       19   \n",
       "3   AFG  2016   0.000000                       32   \n",
       "4   AFG  2017   0.000000                       18   \n",
       "5   AFG  2018   0.000000                       19   \n",
       "6   AFG  2019  -0.859100                       19   \n",
       "7   AFG  2020   0.014180                       41   \n",
       "8   AGO  2013  -0.124600                       35   \n",
       "9   AGO  2014  -0.401900                       27   \n",
       "\n",
       "   amount_climate_change_paragraphs  amount_of_time_spent_on_climate  \\\n",
       "0                                 0                         0.000000   \n",
       "1                                 3                         0.136364   \n",
       "2                                 1                         0.052632   \n",
       "3                                 0                         0.000000   \n",
       "4                                 0                         0.000000   \n",
       "5                                 0                         0.000000   \n",
       "6                                 1                         0.052632   \n",
       "7                                 5                         0.121951   \n",
       "8                                 5                         0.142857   \n",
       "9                                 1                         0.037037   \n",
       "\n",
       "  Region Name     Sub-region Name       Entity  \\\n",
       "0        Asia       Southern Asia  Afghanistan   \n",
       "1        Asia       Southern Asia  Afghanistan   \n",
       "2        Asia       Southern Asia  Afghanistan   \n",
       "3        Asia       Southern Asia  Afghanistan   \n",
       "4        Asia       Southern Asia  Afghanistan   \n",
       "5        Asia       Southern Asia  Afghanistan   \n",
       "6        Asia       Southern Asia  Afghanistan   \n",
       "7        Asia       Southern Asia  Afghanistan   \n",
       "8      Africa  Sub-Saharan Africa       Angola   \n",
       "9      Africa  Sub-Saharan Africa       Angola   \n",
       "\n",
       "   Annual CO₂ emissions (per capita)  \n",
       "0                           0.293283  \n",
       "1                           0.280299  \n",
       "2                           0.290076  \n",
       "3                           0.261795  \n",
       "4                           0.276853  \n",
       "5                           0.294876  \n",
       "6                           0.293401  \n",
       "7                           0.299746  \n",
       "8                           0.945370  \n",
       "9                           0.926986  "
      ]
     },
     "execution_count": 21,
     "metadata": {},
     "output_type": "execute_result"
    }
   ],
   "source": [
    "final_df = pd.read_parquet('https://github.com/Mlad-en/Intro_Data_Science/raw/main/cleaned_data/final_data_without_speech.parquet')\n",
    "final_df['sentiment'] = final_df['sentiment'].fillna(0)\n",
    "final_df.head(10)"
   ]
  },
  {
   "cell_type": "markdown",
   "id": "3f18d87e",
   "metadata": {},
   "source": [
    "# Exploratory Data Analysis"
   ]
  },
  {
   "cell_type": "markdown",
   "id": "cfd0afd0",
   "metadata": {},
   "source": [
    "For this EDA, we our going to examine the relationships between the sentiment score of a country (based on the grouped paragraphs of the text UN speech split) and the amount of time talked about climate change in the speeches. Also the relationship between the sentiment and the annual emissions for that country is analyzed.\n",
    "\n",
    "Both will initially be analyzed through correlations.\n",
    "\n"
   ]
  },
  {
   "cell_type": "markdown",
   "id": "9ee59a40",
   "metadata": {},
   "source": [
    "### Sentiment & Time Spent"
   ]
  },
  {
   "cell_type": "code",
   "execution_count": 22,
   "id": "8c9b98c0",
   "metadata": {},
   "outputs": [
    {
     "data": {
      "text/html": [
       "<div>\n",
       "<style scoped>\n",
       "    .dataframe tbody tr th:only-of-type {\n",
       "        vertical-align: middle;\n",
       "    }\n",
       "\n",
       "    .dataframe tbody tr th {\n",
       "        vertical-align: top;\n",
       "    }\n",
       "\n",
       "    .dataframe thead th {\n",
       "        text-align: right;\n",
       "    }\n",
       "</style>\n",
       "<table border=\"1\" class=\"dataframe\">\n",
       "  <thead>\n",
       "    <tr style=\"text-align: right;\">\n",
       "      <th></th>\n",
       "      <th>Entity</th>\n",
       "      <th>year</th>\n",
       "      <th>sentiment</th>\n",
       "    </tr>\n",
       "  </thead>\n",
       "  <tbody>\n",
       "    <tr>\n",
       "      <th>0</th>\n",
       "      <td>Afghanistan</td>\n",
       "      <td>2013</td>\n",
       "      <td>0.000000</td>\n",
       "    </tr>\n",
       "    <tr>\n",
       "      <th>1</th>\n",
       "      <td>Afghanistan</td>\n",
       "      <td>2014</td>\n",
       "      <td>0.427633</td>\n",
       "    </tr>\n",
       "    <tr>\n",
       "      <th>2</th>\n",
       "      <td>Afghanistan</td>\n",
       "      <td>2015</td>\n",
       "      <td>0.718400</td>\n",
       "    </tr>\n",
       "    <tr>\n",
       "      <th>3</th>\n",
       "      <td>Afghanistan</td>\n",
       "      <td>2016</td>\n",
       "      <td>0.000000</td>\n",
       "    </tr>\n",
       "    <tr>\n",
       "      <th>4</th>\n",
       "      <td>Afghanistan</td>\n",
       "      <td>2017</td>\n",
       "      <td>0.000000</td>\n",
       "    </tr>\n",
       "  </tbody>\n",
       "</table>\n",
       "</div>"
      ],
      "text/plain": [
       "        Entity  year  sentiment\n",
       "0  Afghanistan  2013   0.000000\n",
       "1  Afghanistan  2014   0.427633\n",
       "2  Afghanistan  2015   0.718400\n",
       "3  Afghanistan  2016   0.000000\n",
       "4  Afghanistan  2017   0.000000"
      ]
     },
     "execution_count": 22,
     "metadata": {},
     "output_type": "execute_result"
    }
   ],
   "source": [
    "# Group by country_name and year, calculate mean sentiment score\n",
    "grouped_sentiment_data = final_df.groupby(['Entity', 'year'])['sentiment'].mean().reset_index()\n",
    "\n",
    "# DataFrame with mean sentiment score for each country and year\n",
    "grouped_sentiment_data.head()"
   ]
  },
  {
   "cell_type": "code",
   "execution_count": 23,
   "id": "f1f550ae",
   "metadata": {},
   "outputs": [
    {
     "data": {
      "text/html": [
       "<div>\n",
       "<style scoped>\n",
       "    .dataframe tbody tr th:only-of-type {\n",
       "        vertical-align: middle;\n",
       "    }\n",
       "\n",
       "    .dataframe tbody tr th {\n",
       "        vertical-align: top;\n",
       "    }\n",
       "\n",
       "    .dataframe thead th {\n",
       "        text-align: right;\n",
       "    }\n",
       "</style>\n",
       "<table border=\"1\" class=\"dataframe\">\n",
       "  <thead>\n",
       "    <tr style=\"text-align: right;\">\n",
       "      <th></th>\n",
       "      <th>Entity</th>\n",
       "      <th>year</th>\n",
       "      <th>amount_of_time_spent_on_climate</th>\n",
       "    </tr>\n",
       "  </thead>\n",
       "  <tbody>\n",
       "    <tr>\n",
       "      <th>0</th>\n",
       "      <td>Afghanistan</td>\n",
       "      <td>2013</td>\n",
       "      <td>0.000000</td>\n",
       "    </tr>\n",
       "    <tr>\n",
       "      <th>1</th>\n",
       "      <td>Afghanistan</td>\n",
       "      <td>2014</td>\n",
       "      <td>0.136364</td>\n",
       "    </tr>\n",
       "    <tr>\n",
       "      <th>2</th>\n",
       "      <td>Afghanistan</td>\n",
       "      <td>2015</td>\n",
       "      <td>0.052632</td>\n",
       "    </tr>\n",
       "    <tr>\n",
       "      <th>3</th>\n",
       "      <td>Afghanistan</td>\n",
       "      <td>2016</td>\n",
       "      <td>0.000000</td>\n",
       "    </tr>\n",
       "    <tr>\n",
       "      <th>4</th>\n",
       "      <td>Afghanistan</td>\n",
       "      <td>2017</td>\n",
       "      <td>0.000000</td>\n",
       "    </tr>\n",
       "  </tbody>\n",
       "</table>\n",
       "</div>"
      ],
      "text/plain": [
       "        Entity  year  amount_of_time_spent_on_climate\n",
       "0  Afghanistan  2013                         0.000000\n",
       "1  Afghanistan  2014                         0.136364\n",
       "2  Afghanistan  2015                         0.052632\n",
       "3  Afghanistan  2016                         0.000000\n",
       "4  Afghanistan  2017                         0.000000"
      ]
     },
     "execution_count": 23,
     "metadata": {},
     "output_type": "execute_result"
    }
   ],
   "source": [
    "# Group by country_name and year, calculate mean corruption score\n",
    "grouped_timespent_data = final_df.groupby(['Entity', 'year'])['amount_of_time_spent_on_climate'].mean().reset_index()\n",
    "\n",
    "# DataFrame with mean corruption score for each country and year\n",
    "grouped_timespent_data.head()"
   ]
  },
  {
   "cell_type": "code",
   "execution_count": 24,
   "id": "e6255802",
   "metadata": {},
   "outputs": [
    {
     "data": {
      "text/html": [
       "<div>\n",
       "<style scoped>\n",
       "    .dataframe tbody tr th:only-of-type {\n",
       "        vertical-align: middle;\n",
       "    }\n",
       "\n",
       "    .dataframe tbody tr th {\n",
       "        vertical-align: top;\n",
       "    }\n",
       "\n",
       "    .dataframe thead th {\n",
       "        text-align: right;\n",
       "    }\n",
       "</style>\n",
       "<table border=\"1\" class=\"dataframe\">\n",
       "  <thead>\n",
       "    <tr style=\"text-align: right;\">\n",
       "      <th></th>\n",
       "      <th>Entity</th>\n",
       "      <th>year</th>\n",
       "      <th>sentiment</th>\n",
       "      <th>amount_of_time_spent_on_climate</th>\n",
       "    </tr>\n",
       "  </thead>\n",
       "  <tbody>\n",
       "    <tr>\n",
       "      <th>0</th>\n",
       "      <td>Afghanistan</td>\n",
       "      <td>2013</td>\n",
       "      <td>0.000000</td>\n",
       "      <td>0.000000</td>\n",
       "    </tr>\n",
       "    <tr>\n",
       "      <th>1</th>\n",
       "      <td>Afghanistan</td>\n",
       "      <td>2014</td>\n",
       "      <td>0.427633</td>\n",
       "      <td>0.136364</td>\n",
       "    </tr>\n",
       "    <tr>\n",
       "      <th>2</th>\n",
       "      <td>Afghanistan</td>\n",
       "      <td>2015</td>\n",
       "      <td>0.718400</td>\n",
       "      <td>0.052632</td>\n",
       "    </tr>\n",
       "    <tr>\n",
       "      <th>3</th>\n",
       "      <td>Afghanistan</td>\n",
       "      <td>2016</td>\n",
       "      <td>0.000000</td>\n",
       "      <td>0.000000</td>\n",
       "    </tr>\n",
       "    <tr>\n",
       "      <th>4</th>\n",
       "      <td>Afghanistan</td>\n",
       "      <td>2017</td>\n",
       "      <td>0.000000</td>\n",
       "      <td>0.000000</td>\n",
       "    </tr>\n",
       "  </tbody>\n",
       "</table>\n",
       "</div>"
      ],
      "text/plain": [
       "        Entity  year  sentiment  amount_of_time_spent_on_climate\n",
       "0  Afghanistan  2013   0.000000                         0.000000\n",
       "1  Afghanistan  2014   0.427633                         0.136364\n",
       "2  Afghanistan  2015   0.718400                         0.052632\n",
       "3  Afghanistan  2016   0.000000                         0.000000\n",
       "4  Afghanistan  2017   0.000000                         0.000000"
      ]
     },
     "execution_count": 24,
     "metadata": {},
     "output_type": "execute_result"
    }
   ],
   "source": [
    "# Merge DataFrames on 'country_name' and 'year'\n",
    "merged_df = pd.merge(grouped_sentiment_data, grouped_timespent_data, on=['Entity', 'year'])\n",
    "merged_df.head()"
   ]
  },
  {
   "cell_type": "code",
   "execution_count": 25,
   "id": "475c2959",
   "metadata": {},
   "outputs": [
    {
     "data": {
      "text/plain": [
       "0.2165818976767934"
      ]
     },
     "execution_count": 25,
     "metadata": {},
     "output_type": "execute_result"
    }
   ],
   "source": [
    "# Calculate overall correlation\n",
    "correlation = merged_df['sentiment'].corr(merged_df['amount_of_time_spent_on_climate'])\n",
    "correlation"
   ]
  },
  {
   "cell_type": "code",
   "execution_count": 26,
   "id": "a47cf985",
   "metadata": {},
   "outputs": [
    {
     "data": {
      "image/png": "[encoded data removed]",
      "text/plain": [
       "<Figure size 640x480 with 1 Axes>"
      ]
     },
     "metadata": {},
     "output_type": "display_data"
    }
   ],
   "source": [
    "# Calculate correlation for each year\n",
    "correlations_by_year = merged_df.groupby('year')[['sentiment', 'amount_of_time_spent_on_climate']].corr().iloc[0::2,-1].reset_index()\n",
    "correlations_by_year.rename(columns={'amount_of_time_spent_on_climate': 'correlation'}, inplace=True)\n",
    "\n",
    "# Plotting\n",
    "plt.plot(correlations_by_year['year'], correlations_by_year['correlation'], marker='o')\n",
    "plt.xlabel('Year')\n",
    "plt.ylabel('Correlation')\n",
    "plt.title('Correlation between Sentiment and Time Spent on Climate Talk by Year')\n",
    "plt.show()"
   ]
  },
  {
   "cell_type": "code",
   "execution_count": 27,
   "id": "e2ca5396",
   "metadata": {},
   "outputs": [
    {
     "name": "stdout",
     "output_type": "stream",
     "text": [
      "Correlation between Sentiment and Time Spent on Climate Talk by Year:\n",
      "   year    level_1  correlation\n",
      "0  2013  sentiment     0.145897\n",
      "1  2014  sentiment     0.221334\n",
      "2  2015  sentiment     0.341257\n",
      "3  2016  sentiment     0.343836\n",
      "4  2017  sentiment     0.246649\n",
      "5  2018  sentiment     0.347098\n",
      "6  2019  sentiment     0.138509\n",
      "7  2020  sentiment     0.161891\n",
      "8  2021  sentiment     0.048516\n"
     ]
    }
   ],
   "source": [
    "# Print the correlation values for each year\n",
    "print(\"Correlation between Sentiment and Time Spent on Climate Talk by Year:\")\n",
    "print(correlations_by_year)"
   ]
  },
  {
   "cell_type": "markdown",
   "id": "1e930427",
   "metadata": {},
   "source": [
    "### Sentiment & Annual Emissions "
   ]
  },
  {
   "cell_type": "code",
   "execution_count": 28,
   "id": "9f4b65b3",
   "metadata": {},
   "outputs": [
    {
     "data": {
      "text/html": [
       "<div>\n",
       "<style scoped>\n",
       "    .dataframe tbody tr th:only-of-type {\n",
       "        vertical-align: middle;\n",
       "    }\n",
       "\n",
       "    .dataframe tbody tr th {\n",
       "        vertical-align: top;\n",
       "    }\n",
       "\n",
       "    .dataframe thead th {\n",
       "        text-align: right;\n",
       "    }\n",
       "</style>\n",
       "<table border=\"1\" class=\"dataframe\">\n",
       "  <thead>\n",
       "    <tr style=\"text-align: right;\">\n",
       "      <th></th>\n",
       "      <th>Entity</th>\n",
       "      <th>year</th>\n",
       "      <th>Annual CO₂ emissions (per capita)</th>\n",
       "    </tr>\n",
       "  </thead>\n",
       "  <tbody>\n",
       "    <tr>\n",
       "      <th>0</th>\n",
       "      <td>Afghanistan</td>\n",
       "      <td>2013</td>\n",
       "      <td>0.293283</td>\n",
       "    </tr>\n",
       "    <tr>\n",
       "      <th>1</th>\n",
       "      <td>Afghanistan</td>\n",
       "      <td>2014</td>\n",
       "      <td>0.280299</td>\n",
       "    </tr>\n",
       "    <tr>\n",
       "      <th>2</th>\n",
       "      <td>Afghanistan</td>\n",
       "      <td>2015</td>\n",
       "      <td>0.290076</td>\n",
       "    </tr>\n",
       "    <tr>\n",
       "      <th>3</th>\n",
       "      <td>Afghanistan</td>\n",
       "      <td>2016</td>\n",
       "      <td>0.261795</td>\n",
       "    </tr>\n",
       "    <tr>\n",
       "      <th>4</th>\n",
       "      <td>Afghanistan</td>\n",
       "      <td>2017</td>\n",
       "      <td>0.276853</td>\n",
       "    </tr>\n",
       "  </tbody>\n",
       "</table>\n",
       "</div>"
      ],
      "text/plain": [
       "        Entity  year  Annual CO₂ emissions (per capita)\n",
       "0  Afghanistan  2013                           0.293283\n",
       "1  Afghanistan  2014                           0.280299\n",
       "2  Afghanistan  2015                           0.290076\n",
       "3  Afghanistan  2016                           0.261795\n",
       "4  Afghanistan  2017                           0.276853"
      ]
     },
     "execution_count": 28,
     "metadata": {},
     "output_type": "execute_result"
    }
   ],
   "source": [
    "# Group by country_name and year, calculate mean corruption score\n",
    "grouped_emissions_data = final_df.groupby(['Entity', 'year'])['Annual CO₂ emissions (per capita)'].mean().reset_index()\n",
    "\n",
    "# DataFrame with mean corruption score for each country and year\n",
    "grouped_emissions_data.head()"
   ]
  },
  {
   "cell_type": "code",
   "execution_count": 29,
   "id": "7f91e03d",
   "metadata": {},
   "outputs": [
    {
     "data": {
      "text/html": [
       "<div>\n",
       "<style scoped>\n",
       "    .dataframe tbody tr th:only-of-type {\n",
       "        vertical-align: middle;\n",
       "    }\n",
       "\n",
       "    .dataframe tbody tr th {\n",
       "        vertical-align: top;\n",
       "    }\n",
       "\n",
       "    .dataframe thead th {\n",
       "        text-align: right;\n",
       "    }\n",
       "</style>\n",
       "<table border=\"1\" class=\"dataframe\">\n",
       "  <thead>\n",
       "    <tr style=\"text-align: right;\">\n",
       "      <th></th>\n",
       "      <th>Entity</th>\n",
       "      <th>year</th>\n",
       "      <th>sentiment</th>\n",
       "      <th>Annual CO₂ emissions (per capita)</th>\n",
       "    </tr>\n",
       "  </thead>\n",
       "  <tbody>\n",
       "    <tr>\n",
       "      <th>0</th>\n",
       "      <td>Afghanistan</td>\n",
       "      <td>2013</td>\n",
       "      <td>0.000000</td>\n",
       "      <td>0.293283</td>\n",
       "    </tr>\n",
       "    <tr>\n",
       "      <th>1</th>\n",
       "      <td>Afghanistan</td>\n",
       "      <td>2014</td>\n",
       "      <td>0.427633</td>\n",
       "      <td>0.280299</td>\n",
       "    </tr>\n",
       "    <tr>\n",
       "      <th>2</th>\n",
       "      <td>Afghanistan</td>\n",
       "      <td>2015</td>\n",
       "      <td>0.718400</td>\n",
       "      <td>0.290076</td>\n",
       "    </tr>\n",
       "    <tr>\n",
       "      <th>3</th>\n",
       "      <td>Afghanistan</td>\n",
       "      <td>2016</td>\n",
       "      <td>0.000000</td>\n",
       "      <td>0.261795</td>\n",
       "    </tr>\n",
       "    <tr>\n",
       "      <th>4</th>\n",
       "      <td>Afghanistan</td>\n",
       "      <td>2017</td>\n",
       "      <td>0.000000</td>\n",
       "      <td>0.276853</td>\n",
       "    </tr>\n",
       "  </tbody>\n",
       "</table>\n",
       "</div>"
      ],
      "text/plain": [
       "        Entity  year  sentiment  Annual CO₂ emissions (per capita)\n",
       "0  Afghanistan  2013   0.000000                           0.293283\n",
       "1  Afghanistan  2014   0.427633                           0.280299\n",
       "2  Afghanistan  2015   0.718400                           0.290076\n",
       "3  Afghanistan  2016   0.000000                           0.261795\n",
       "4  Afghanistan  2017   0.000000                           0.276853"
      ]
     },
     "execution_count": 29,
     "metadata": {},
     "output_type": "execute_result"
    }
   ],
   "source": [
    "# Merge DataFrames on 'country_name' and 'year'\n",
    "merged_df2 = pd.merge(grouped_sentiment_data, grouped_emissions_data, on=['Entity', 'year'])\n",
    "merged_df2.head()"
   ]
  },
  {
   "cell_type": "code",
   "execution_count": 30,
   "id": "ed879cd4",
   "metadata": {},
   "outputs": [
    {
     "data": {
      "text/plain": [
       "0.03496631740109006"
      ]
     },
     "execution_count": 30,
     "metadata": {},
     "output_type": "execute_result"
    }
   ],
   "source": [
    "# Calculate overall correlation\n",
    "correlation = merged_df2['sentiment'].corr(merged_df2['Annual CO₂ emissions (per capita)'])\n",
    "correlation"
   ]
  },
  {
   "cell_type": "code",
   "execution_count": 31,
   "id": "f4809abe",
   "metadata": {},
   "outputs": [
    {
     "data": {
      "image/png": "[encoded data removed]",
      "text/plain": [
       "<Figure size 640x480 with 1 Axes>"
      ]
     },
     "metadata": {},
     "output_type": "display_data"
    }
   ],
   "source": [
    "# Calculate correlation for each year\n",
    "correlations_by_year2 = merged_df2.groupby('year')[['sentiment', 'Annual CO₂ emissions (per capita)']].corr().iloc[0::2,-1].reset_index()\n",
    "correlations_by_year2.rename(columns={'Annual CO₂ emissions (per capita)': 'correlation'}, inplace=True)\n",
    "\n",
    "# Plotting\n",
    "plt.plot(correlations_by_year2['year'], correlations_by_year2['correlation'], marker='o')\n",
    "plt.xlabel('Year')\n",
    "plt.ylabel('Correlation')\n",
    "plt.title('Correlation between Sentiment and Annual CO₂ emissions (per capita) by Year')\n",
    "plt.show()"
   ]
  },
  {
   "cell_type": "code",
   "execution_count": 32,
   "id": "d80fd7a7",
   "metadata": {},
   "outputs": [
    {
     "name": "stdout",
     "output_type": "stream",
     "text": [
      "Correlation between Sentiment and Emissions by Year:\n",
      "   year    level_1  correlation\n",
      "0  2013  sentiment     0.031741\n",
      "1  2014  sentiment     0.012427\n",
      "2  2015  sentiment     0.067486\n",
      "3  2016  sentiment    -0.055503\n",
      "4  2017  sentiment     0.147133\n",
      "5  2018  sentiment     0.046458\n",
      "6  2019  sentiment    -0.044615\n",
      "7  2020  sentiment     0.003354\n",
      "8  2021  sentiment     0.073876\n"
     ]
    }
   ],
   "source": [
    "# Print the correlation values for each year\n",
    "print(\"Correlation between Sentiment and Emissions by Year:\")\n",
    "print(correlations_by_year2)"
   ]
  },
  {
   "cell_type": "markdown",
   "id": "ae09fb9e",
   "metadata": {},
   "source": [
    "## Mean time spent on climate change per continent"
   ]
  },
  {
   "cell_type": "code",
   "execution_count": 33,
   "id": "08579095",
   "metadata": {},
   "outputs": [
    {
     "name": "stderr",
     "output_type": "stream",
     "text": [
      "C:\\Users\\easto\\AppData\\Local\\Temp\\ipykernel_27332\\39186094.py:2: FutureWarning:\n",
      "\n",
      "The default value of numeric_only in DataFrameGroupBy.mean is deprecated. In a future version, numeric_only will default to False. Either specify numeric_only or select only columns which should be valid for the function.\n",
      "\n"
     ]
    },
    {
     "data": {
      "application/vnd.plotly.v1+json": {
       "config": {
        "linkText": "Export to plot.ly",
        "plotlyServerURL": "https://plot.ly",
        "showLink": false
       },
       "data": [
        {
         "locations": [
          "AFG",
          "AGO",
          "ALB",
          "AND",
          "ARE",
          "ARG",
          "ARM",
          "AUS",
          "AUT",
          "AZE",
          "BDI",
          "BEL",
          "BEN",
          "BFA",
          "BGD",
          "BGR",
          "BHR",
          "BIH",
          "BLR",
          "BLZ",
          "BOL",
          "BRA",
          "BRN",
          "BTN",
          "BWA",
          "CAF",
          "CAN",
          "CHE",
          "CHL",
          "CHN",
          "CIV",
          "CMR",
          "COD",
          "COG",
          "COL",
          "COM",
          "CPV",
          "CRI",
          "CUB",
          "CYP",
          "CZE",
          "DEU",
          "DJI",
          "DNK",
          "DOM",
          "DZA",
          "ECU",
          "EGY",
          "ERI",
          "ESP",
          "EST",
          "ETH",
          "FIN",
          "FJI",
          "FRA",
          "GAB",
          "GBR",
          "GEO",
          "GHA",
          "GIN",
          "GMB",
          "GNB",
          "GNQ",
          "GRC",
          "GTM",
          "GUY",
          "HND",
          "HRV",
          "HTI",
          "HUN",
          "IDN",
          "IND",
          "IRL",
          "IRN",
          "IRQ",
          "ISL",
          "ISR",
          "ITA",
          "JAM",
          "JOR",
          "JPN",
          "KAZ",
          "KEN",
          "KGZ",
          "KHM",
          "KOR",
          "KWT",
          "LAO",
          "LBN",
          "LBR",
          "LBY",
          "LIE",
          "LKA",
          "LSO",
          "LTU",
          "LUX",
          "LVA",
          "MAR",
          "MDA",
          "MDG",
          "MDV",
          "MEX",
          "MKD",
          "MLI",
          "MLT",
          "MMR",
          "MNE",
          "MNG",
          "MOZ",
          "MRT",
          "MUS",
          "MWI",
          "MYS",
          "NAM",
          "NER",
          "NGA",
          "NIC",
          "NLD",
          "NOR",
          "NPL",
          "NZL",
          "OMN",
          "PAK",
          "PAN",
          "PER",
          "PHL",
          "PNG",
          "POL",
          "PRK",
          "PRT",
          "PRY",
          "QAT",
          "ROU",
          "RUS",
          "RWA",
          "SAU",
          "SDN",
          "SEN",
          "SGP",
          "SLE",
          "SLV",
          "SOM",
          "SRB",
          "SSD",
          "SUR",
          "SVK",
          "SVN",
          "SWE",
          "SWZ",
          "SYC",
          "SYR",
          "TCD",
          "TGO",
          "THA",
          "TJK",
          "TKM",
          "TLS",
          "TON",
          "TTO",
          "TUN",
          "TUR",
          "TZA",
          "UGA",
          "UKR",
          "URY",
          "USA",
          "UZB",
          "VEN",
          "VNM",
          "WSM",
          "YEM",
          "ZAF",
          "ZMB",
          "ZWE"
         ],
         "type": "choropleth",
         "z": [
          0.04544725172132104,
          0.09794795134664416,
          0.02831432886077695,
          0.1324869147460793,
          0.01968253968253968,
          0.07818052774383294,
          0.025506072874493926,
          0.12655819469400115,
          0.03318481388656827,
          0.03167212904055009,
          0.05839042460556714,
          0.11675724391547332,
          0.187340521114106,
          0.0975801532212081,
          0.13204015223151488,
          0.04373553988444875,
          0.05259071980086473,
          0.0795906714035369,
          0.11646331683588335,
          0.07819046844502277,
          0.12014692096391442,
          0.12029638013791948,
          0.13022907543584236,
          0.17492877492877493,
          0.160232181945051,
          0.06996264874617365,
          0.07270733114722884,
          0.1272087117675353,
          0.25573568203285185,
          0.12553723137643638,
          0.1451674868341535,
          0.19034317534317532,
          0.09938470398996715,
          0.1846744634675669,
          0.06765058746127035,
          0.11136998440920008,
          0.14540753868557074,
          0.08230919382219794,
          0.03260341330646604,
          0.05459216709216709,
          0.10897244273203352,
          0.06398224015790233,
          0.12713267438320522,
          0.18831589511550284,
          0.2564253647586981,
          0.0456257982120051,
          0.13222335488669426,
          0.046050297943706076,
          0.03932980599647266,
          0.09114661690402749,
          0.11154476605456996,
          0.1914234429714306,
          0.18678741012074346,
          0.12674026590693258,
          0.18015651297405733,
          0.1864517945480086,
          0.11726275883038756,
          0.022895622895622896,
          0.08915288627932307,
          0.06163359788359789,
          0.0574008280775198,
          0.07045193589909036,
          0.04515679570027396,
          0.05251477397930487,
          0.06485917921009199,
          0.14642154606312313,
          0.10284979449739175,
          0.0782238264496329,
          0.10251299011001976,
          0.12057446560370538,
          0.170128257647234,
          0.10056466882553838,
          0.09865268566248958,
          0,
          0.060618861425313045,
          0.08718233449527212,
          0,
          0.09147047065707353,
          0.07647221091665536,
          0.027777777777777776,
          0.03188920012449424,
          0.07015518521448065,
          0.16285056894667593,
          0.04102808317195026,
          0.20518680754615418,
          0.11451213646335597,
          0.05394079540966366,
          0.1282091982091982,
          0.023629964806435397,
          0.13147806897806896,
          0.01994047619047619,
          0.13272383027284987,
          0.19857955096050336,
          0.1748570773338575,
          0.08762987884364695,
          0.10228515128400711,
          0.06357432063367795,
          0.14148680536016775,
          0.05231005328233734,
          0.09075800742467409,
          0.08827856678733871,
          0.11706950456950456,
          0.06891592406943284,
          0.0708185797086167,
          0.07624105909585811,
          0.06473777098240771,
          0.07531684002272238,
          0.1015950412146372,
          0.14454654152011356,
          0.09622794440569378,
          0.132770960695489,
          0.17482424982424982,
          0.05115652050517951,
          0.1197040546678228,
          0.13504587661818046,
          0.08403269388563506,
          0.09497871030018773,
          0.16288563288563288,
          0.14196529988836692,
          0.11218169038169656,
          0.13227403134847668,
          0.05041644515328726,
          0.05911614899620897,
          0.10737087427563617,
          0.04076479076479076,
          0.10177927850230374,
          0.13233964313470675,
          0.08863449986453849,
          0.04133557800224467,
          0.05500614167280834,
          0.06073357580402045,
          0.010504201680672268,
          0.08680289484887187,
          0.03409730547411707,
          0.1879722531896445,
          0.08537414965986394,
          0.045658970658970656,
          0.07718919383175249,
          0.17829960511412124,
          0.11276697854561034,
          0.07684377169671287,
          0.060483283490529866,
          0.052495802193869824,
          0.028432832503556188,
          0.11707153298484568,
          0.19090386912967558,
          0.07726517309850643,
          0.17427845380890136,
          0.14517050126000036,
          0.08319428480718803,
          0,
          0.08432151405500257,
          0.1286281179138322,
          0.08297614042368084,
          0.11639671817690395,
          0.047522458754342814,
          0.16206182956274295,
          0.08455102402470822,
          0.0975918606353389,
          0.030847953216374274,
          0.04676024824505806,
          0.10463702069982263,
          0.2184862012987013,
          0.019206706706706704,
          0.11012238790016567,
          0.04601346415176723,
          0.0538743719466611,
          0.03480306418274934,
          0.1409592356960778,
          0.14719391697048703,
          0,
          0.11344922999893761,
          0.1167211328976035,
          0.13884990457571103
         ]
        }
       ],
       "layout": {
        "geo": {
         "scope": "world"
        },
        "template": {
         "data": {
          "bar": [
           {
            "error_x": {
             "color": "#2a3f5f"
            },
            "error_y": {
             "color": "#2a3f5f"
            },
            "marker": {
             "line": {
              "color": "#E5ECF6",
              "width": 0.5
             },
             "pattern": {
              "fillmode": "overlay",
              "size": 10,
              "solidity": 0.2
             }
            },
            "type": "bar"
           }
          ],
          "barpolar": [
           {
            "marker": {
             "line": {
              "color": "#E5ECF6",
              "width": 0.5
             },
             "pattern": {
              "fillmode": "overlay",
              "size": 10,
              "solidity": 0.2
             }
            },
            "type": "barpolar"
           }
          ],
          "carpet": [
           {
            "aaxis": {
             "endlinecolor": "#2a3f5f",
             "gridcolor": "white",
             "linecolor": "white",
             "minorgridcolor": "white",
             "startlinecolor": "#2a3f5f"
            },
            "baxis": {
             "endlinecolor": "#2a3f5f",
             "gridcolor": "white",
             "linecolor": "white",
             "minorgridcolor": "white",
             "startlinecolor": "#2a3f5f"
            },
            "type": "carpet"
           }
          ],
          "choropleth": [
           {
            "colorbar": {
             "outlinewidth": 0,
             "ticks": ""
            },
            "type": "choropleth"
           }
          ],
          "contour": [
           {
            "colorbar": {
             "outlinewidth": 0,
             "ticks": ""
            },
            "colorscale": [
             [
              0,
              "#0d0887"
             ],
             [
              0.1111111111111111,
              "#46039f"
             ],
             [
              0.2222222222222222,
              "#7201a8"
             ],
             [
              0.3333333333333333,
              "#9c179e"
             ],
             [
              0.4444444444444444,
              "#bd3786"
             ],
             [
              0.5555555555555556,
              "#d8576b"
             ],
             [
              0.6666666666666666,
              "#ed7953"
             ],
             [
              0.7777777777777778,
              "#fb9f3a"
             ],
             [
              0.8888888888888888,
              "#fdca26"
             ],
             [
              1,
              "#f0f921"
             ]
            ],
            "type": "contour"
           }
          ],
          "contourcarpet": [
           {
            "colorbar": {
             "outlinewidth": 0,
             "ticks": ""
            },
            "type": "contourcarpet"
           }
          ],
          "heatmap": [
           {
            "colorbar": {
             "outlinewidth": 0,
             "ticks": ""
            },
            "colorscale": [
             [
              0,
              "#0d0887"
             ],
             [
              0.1111111111111111,
              "#46039f"
             ],
             [
              0.2222222222222222,
              "#7201a8"
             ],
             [
              0.3333333333333333,
              "#9c179e"
             ],
             [
              0.4444444444444444,
              "#bd3786"
             ],
             [
              0.5555555555555556,
              "#d8576b"
             ],
             [
              0.6666666666666666,
              "#ed7953"
             ],
             [
              0.7777777777777778,
              "#fb9f3a"
             ],
             [
              0.8888888888888888,
              "#fdca26"
             ],
             [
              1,
              "#f0f921"
             ]
            ],
            "type": "heatmap"
           }
          ],
          "heatmapgl": [
           {
            "colorbar": {
             "outlinewidth": 0,
             "ticks": ""
            },
            "colorscale": [
             [
              0,
              "#0d0887"
             ],
             [
              0.1111111111111111,
              "#46039f"
             ],
             [
              0.2222222222222222,
              "#7201a8"
             ],
             [
              0.3333333333333333,
              "#9c179e"
             ],
             [
              0.4444444444444444,
              "#bd3786"
             ],
             [
              0.5555555555555556,
              "#d8576b"
             ],
             [
              0.6666666666666666,
              "#ed7953"
             ],
             [
              0.7777777777777778,
              "#fb9f3a"
             ],
             [
              0.8888888888888888,
              "#fdca26"
             ],
             [
              1,
              "#f0f921"
             ]
            ],
            "type": "heatmapgl"
           }
          ],
          "histogram": [
           {
            "marker": {
             "pattern": {
              "fillmode": "overlay",
              "size": 10,
              "solidity": 0.2
             }
            },
            "type": "histogram"
           }
          ],
          "histogram2d": [
           {
            "colorbar": {
             "outlinewidth": 0,
             "ticks": ""
            },
            "colorscale": [
             [
              0,
              "#0d0887"
             ],
             [
              0.1111111111111111,
              "#46039f"
             ],
             [
              0.2222222222222222,
              "#7201a8"
             ],
             [
              0.3333333333333333,
              "#9c179e"
             ],
             [
              0.4444444444444444,
              "#bd3786"
             ],
             [
              0.5555555555555556,
              "#d8576b"
             ],
             [
              0.6666666666666666,
              "#ed7953"
             ],
             [
              0.7777777777777778,
              "#fb9f3a"
             ],
             [
              0.8888888888888888,
              "#fdca26"
             ],
             [
              1,
              "#f0f921"
             ]
            ],
            "type": "histogram2d"
           }
          ],
          "histogram2dcontour": [
           {
            "colorbar": {
             "outlinewidth": 0,
             "ticks": ""
            },
            "colorscale": [
             [
              0,
              "#0d0887"
             ],
             [
              0.1111111111111111,
              "#46039f"
             ],
             [
              0.2222222222222222,
              "#7201a8"
             ],
             [
              0.3333333333333333,
              "#9c179e"
             ],
             [
              0.4444444444444444,
              "#bd3786"
             ],
             [
              0.5555555555555556,
              "#d8576b"
             ],
             [
              0.6666666666666666,
              "#ed7953"
             ],
             [
              0.7777777777777778,
              "#fb9f3a"
             ],
             [
              0.8888888888888888,
              "#fdca26"
             ],
             [
              1,
              "#f0f921"
             ]
            ],
            "type": "histogram2dcontour"
           }
          ],
          "mesh3d": [
           {
            "colorbar": {
             "outlinewidth": 0,
             "ticks": ""
            },
            "type": "mesh3d"
           }
          ],
          "parcoords": [
           {
            "line": {
             "colorbar": {
              "outlinewidth": 0,
              "ticks": ""
             }
            },
            "type": "parcoords"
           }
          ],
          "pie": [
           {
            "automargin": true,
            "type": "pie"
           }
          ],
          "scatter": [
           {
            "fillpattern": {
             "fillmode": "overlay",
             "size": 10,
             "solidity": 0.2
            },
            "type": "scatter"
           }
          ],
          "scatter3d": [
           {
            "line": {
             "colorbar": {
              "outlinewidth": 0,
              "ticks": ""
             }
            },
            "marker": {
             "colorbar": {
              "outlinewidth": 0,
              "ticks": ""
             }
            },
            "type": "scatter3d"
           }
          ],
          "scattercarpet": [
           {
            "marker": {
             "colorbar": {
              "outlinewidth": 0,
              "ticks": ""
             }
            },
            "type": "scattercarpet"
           }
          ],
          "scattergeo": [
           {
            "marker": {
             "colorbar": {
              "outlinewidth": 0,
              "ticks": ""
             }
            },
            "type": "scattergeo"
           }
          ],
          "scattergl": [
           {
            "marker": {
             "colorbar": {
              "outlinewidth": 0,
              "ticks": ""
             }
            },
            "type": "scattergl"
           }
          ],
          "scattermapbox": [
           {
            "marker": {
             "colorbar": {
              "outlinewidth": 0,
              "ticks": ""
             }
            },
            "type": "scattermapbox"
           }
          ],
          "scatterpolar": [
           {
            "marker": {
             "colorbar": {
              "outlinewidth": 0,
              "ticks": ""
             }
            },
            "type": "scatterpolar"
           }
          ],
          "scatterpolargl": [
           {
            "marker": {
             "colorbar": {
              "outlinewidth": 0,
              "ticks": ""
             }
            },
            "type": "scatterpolargl"
           }
          ],
          "scatterternary": [
           {
            "marker": {
             "colorbar": {
              "outlinewidth": 0,
              "ticks": ""
             }
            },
            "type": "scatterternary"
           }
          ],
          "surface": [
           {
            "colorbar": {
             "outlinewidth": 0,
             "ticks": ""
            },
            "colorscale": [
             [
              0,
              "#0d0887"
             ],
             [
              0.1111111111111111,
              "#46039f"
             ],
             [
              0.2222222222222222,
              "#7201a8"
             ],
             [
              0.3333333333333333,
              "#9c179e"
             ],
             [
              0.4444444444444444,
              "#bd3786"
             ],
             [
              0.5555555555555556,
              "#d8576b"
             ],
             [
              0.6666666666666666,
              "#ed7953"
             ],
             [
              0.7777777777777778,
              "#fb9f3a"
             ],
             [
              0.8888888888888888,
              "#fdca26"
             ],
             [
              1,
              "#f0f921"
             ]
            ],
            "type": "surface"
           }
          ],
          "table": [
           {
            "cells": {
             "fill": {
              "color": "#EBF0F8"
             },
             "line": {
              "color": "white"
             }
            },
            "header": {
             "fill": {
              "color": "#C8D4E3"
             },
             "line": {
              "color": "white"
             }
            },
            "type": "table"
           }
          ]
         },
         "layout": {
          "annotationdefaults": {
           "arrowcolor": "#2a3f5f",
           "arrowhead": 0,
           "arrowwidth": 1
          },
          "autotypenumbers": "strict",
          "coloraxis": {
           "colorbar": {
            "outlinewidth": 0,
            "ticks": ""
           }
          },
          "colorscale": {
           "diverging": [
            [
             0,
             "#8e0152"
            ],
            [
             0.1,
             "#c51b7d"
            ],
            [
             0.2,
             "#de77ae"
            ],
            [
             0.3,
             "#f1b6da"
            ],
            [
             0.4,
             "#fde0ef"
            ],
            [
             0.5,
             "#f7f7f7"
            ],
            [
             0.6,
             "#e6f5d0"
            ],
            [
             0.7,
             "#b8e186"
            ],
            [
             0.8,
             "#7fbc41"
            ],
            [
             0.9,
             "#4d9221"
            ],
            [
             1,
             "#276419"
            ]
           ],
           "sequential": [
            [
             0,
             "#0d0887"
            ],
            [
             0.1111111111111111,
             "#46039f"
            ],
            [
             0.2222222222222222,
             "#7201a8"
            ],
            [
             0.3333333333333333,
             "#9c179e"
            ],
            [
             0.4444444444444444,
             "#bd3786"
            ],
            [
             0.5555555555555556,
             "#d8576b"
            ],
            [
             0.6666666666666666,
             "#ed7953"
            ],
            [
             0.7777777777777778,
             "#fb9f3a"
            ],
            [
             0.8888888888888888,
             "#fdca26"
            ],
            [
             1,
             "#f0f921"
            ]
           ],
           "sequentialminus": [
            [
             0,
             "#0d0887"
            ],
            [
             0.1111111111111111,
             "#46039f"
            ],
            [
             0.2222222222222222,
             "#7201a8"
            ],
            [
             0.3333333333333333,
             "#9c179e"
            ],
            [
             0.4444444444444444,
             "#bd3786"
            ],
            [
             0.5555555555555556,
             "#d8576b"
            ],
            [
             0.6666666666666666,
             "#ed7953"
            ],
            [
             0.7777777777777778,
             "#fb9f3a"
            ],
            [
             0.8888888888888888,
             "#fdca26"
            ],
            [
             1,
             "#f0f921"
            ]
           ]
          },
          "colorway": [
           "#636efa",
           "#EF553B",
           "#00cc96",
           "#ab63fa",
           "#FFA15A",
           "#19d3f3",
           "#FF6692",
           "#B6E880",
           "#FF97FF",
           "#FECB52"
          ],
          "font": {
           "color": "#2a3f5f"
          },
          "geo": {
           "bgcolor": "white",
           "lakecolor": "white",
           "landcolor": "#E5ECF6",
           "showlakes": true,
           "showland": true,
           "subunitcolor": "white"
          },
          "hoverlabel": {
           "align": "left"
          },
          "hovermode": "closest",
          "mapbox": {
           "style": "light"
          },
          "paper_bgcolor": "white",
          "plot_bgcolor": "#E5ECF6",
          "polar": {
           "angularaxis": {
            "gridcolor": "white",
            "linecolor": "white",
            "ticks": ""
           },
           "bgcolor": "#E5ECF6",
           "radialaxis": {
            "gridcolor": "white",
            "linecolor": "white",
            "ticks": ""
           }
          },
          "scene": {
           "xaxis": {
            "backgroundcolor": "#E5ECF6",
            "gridcolor": "white",
            "gridwidth": 2,
            "linecolor": "white",
            "showbackground": true,
            "ticks": "",
            "zerolinecolor": "white"
           },
           "yaxis": {
            "backgroundcolor": "#E5ECF6",
            "gridcolor": "white",
            "gridwidth": 2,
            "linecolor": "white",
            "showbackground": true,
            "ticks": "",
            "zerolinecolor": "white"
           },
           "zaxis": {
            "backgroundcolor": "#E5ECF6",
            "gridcolor": "white",
            "gridwidth": 2,
            "linecolor": "white",
            "showbackground": true,
            "ticks": "",
            "zerolinecolor": "white"
           }
          },
          "shapedefaults": {
           "line": {
            "color": "#2a3f5f"
           }
          },
          "ternary": {
           "aaxis": {
            "gridcolor": "white",
            "linecolor": "white",
            "ticks": ""
           },
           "baxis": {
            "gridcolor": "white",
            "linecolor": "white",
            "ticks": ""
           },
           "bgcolor": "#E5ECF6",
           "caxis": {
            "gridcolor": "white",
            "linecolor": "white",
            "ticks": ""
           }
          },
          "title": {
           "x": 0.05
          },
          "xaxis": {
           "automargin": true,
           "gridcolor": "white",
           "linecolor": "white",
           "ticks": "",
           "title": {
            "standoff": 15
           },
           "zerolinecolor": "white",
           "zerolinewidth": 2
          },
          "yaxis": {
           "automargin": true,
           "gridcolor": "white",
           "linecolor": "white",
           "ticks": "",
           "title": {
            "standoff": 15
           },
           "zerolinecolor": "white",
           "zerolinewidth": 2
          }
         }
        }
       }
      },
      "text/html": [
       "<div>                            <div id=\"6bc45cb5-a37b-4d60-8eb0-4653dc61d667\" class=\"plotly-graph-div\" style=\"height:525px; width:100%;\"></div>            <script type=\"text/javascript\">                require([\"plotly\"], function(Plotly) {                    window.PLOTLYENV=window.PLOTLYENV || {};                                    if (document.getElementById(\"6bc45cb5-a37b-4d60-8eb0-4653dc61d667\")) {                    Plotly.newPlot(                        \"6bc45cb5-a37b-4d60-8eb0-4653dc61d667\",                        [{\"locations\":[\"AFG\",\"AGO\",\"ALB\",\"AND\",\"ARE\",\"ARG\",\"ARM\",\"AUS\",\"AUT\",\"AZE\",\"BDI\",\"BEL\",\"BEN\",\"BFA\",\"BGD\",\"BGR\",\"BHR\",\"BIH\",\"BLR\",\"BLZ\",\"BOL\",\"BRA\",\"BRN\",\"BTN\",\"BWA\",\"CAF\",\"CAN\",\"CHE\",\"CHL\",\"CHN\",\"CIV\",\"CMR\",\"COD\",\"COG\",\"COL\",\"COM\",\"CPV\",\"CRI\",\"CUB\",\"CYP\",\"CZE\",\"DEU\",\"DJI\",\"DNK\",\"DOM\",\"DZA\",\"ECU\",\"EGY\",\"ERI\",\"ESP\",\"EST\",\"ETH\",\"FIN\",\"FJI\",\"FRA\",\"GAB\",\"GBR\",\"GEO\",\"GHA\",\"GIN\",\"GMB\",\"GNB\",\"GNQ\",\"GRC\",\"GTM\",\"GUY\",\"HND\",\"HRV\",\"HTI\",\"HUN\",\"IDN\",\"IND\",\"IRL\",\"IRN\",\"IRQ\",\"ISL\",\"ISR\",\"ITA\",\"JAM\",\"JOR\",\"JPN\",\"KAZ\",\"KEN\",\"KGZ\",\"KHM\",\"KOR\",\"KWT\",\"LAO\",\"LBN\",\"LBR\",\"LBY\",\"LIE\",\"LKA\",\"LSO\",\"LTU\",\"LUX\",\"LVA\",\"MAR\",\"MDA\",\"MDG\",\"MDV\",\"MEX\",\"MKD\",\"MLI\",\"MLT\",\"MMR\",\"MNE\",\"MNG\",\"MOZ\",\"MRT\",\"MUS\",\"MWI\",\"MYS\",\"NAM\",\"NER\",\"NGA\",\"NIC\",\"NLD\",\"NOR\",\"NPL\",\"NZL\",\"OMN\",\"PAK\",\"PAN\",\"PER\",\"PHL\",\"PNG\",\"POL\",\"PRK\",\"PRT\",\"PRY\",\"QAT\",\"ROU\",\"RUS\",\"RWA\",\"SAU\",\"SDN\",\"SEN\",\"SGP\",\"SLE\",\"SLV\",\"SOM\",\"SRB\",\"SSD\",\"SUR\",\"SVK\",\"SVN\",\"SWE\",\"SWZ\",\"SYC\",\"SYR\",\"TCD\",\"TGO\",\"THA\",\"TJK\",\"TKM\",\"TLS\",\"TON\",\"TTO\",\"TUN\",\"TUR\",\"TZA\",\"UGA\",\"UKR\",\"URY\",\"USA\",\"UZB\",\"VEN\",\"VNM\",\"WSM\",\"YEM\",\"ZAF\",\"ZMB\",\"ZWE\"],\"z\":[0.04544725172132104,0.09794795134664416,0.02831432886077695,0.1324869147460793,0.01968253968253968,0.07818052774383294,0.025506072874493926,0.12655819469400115,0.03318481388656827,0.03167212904055009,0.05839042460556714,0.11675724391547332,0.187340521114106,0.0975801532212081,0.13204015223151488,0.04373553988444875,0.05259071980086473,0.0795906714035369,0.11646331683588335,0.07819046844502277,0.12014692096391442,0.12029638013791948,0.13022907543584236,0.17492877492877493,0.160232181945051,0.06996264874617365,0.07270733114722884,0.1272087117675353,0.25573568203285185,0.12553723137643638,0.1451674868341535,0.19034317534317532,0.09938470398996715,0.1846744634675669,0.06765058746127035,0.11136998440920008,0.14540753868557074,0.08230919382219794,0.03260341330646604,0.05459216709216709,0.10897244273203352,0.06398224015790233,0.12713267438320522,0.18831589511550284,0.2564253647586981,0.0456257982120051,0.13222335488669426,0.046050297943706076,0.03932980599647266,0.09114661690402749,0.11154476605456996,0.1914234429714306,0.18678741012074346,0.12674026590693258,0.18015651297405733,0.1864517945480086,0.11726275883038756,0.022895622895622896,0.08915288627932307,0.06163359788359789,0.0574008280775198,0.07045193589909036,0.04515679570027396,0.05251477397930487,0.06485917921009199,0.14642154606312313,0.10284979449739175,0.0782238264496329,0.10251299011001976,0.12057446560370538,0.170128257647234,0.10056466882553838,0.09865268566248958,0.0,0.060618861425313045,0.08718233449527212,0.0,0.09147047065707353,0.07647221091665536,0.027777777777777776,0.03188920012449424,0.07015518521448065,0.16285056894667593,0.04102808317195026,0.20518680754615418,0.11451213646335597,0.05394079540966366,0.1282091982091982,0.023629964806435397,0.13147806897806896,0.01994047619047619,0.13272383027284987,0.19857955096050336,0.1748570773338575,0.08762987884364695,0.10228515128400711,0.06357432063367795,0.14148680536016775,0.05231005328233734,0.09075800742467409,0.08827856678733871,0.11706950456950456,0.06891592406943284,0.0708185797086167,0.07624105909585811,0.06473777098240771,0.07531684002272238,0.1015950412146372,0.14454654152011356,0.09622794440569378,0.132770960695489,0.17482424982424982,0.05115652050517951,0.1197040546678228,0.13504587661818046,0.08403269388563506,0.09497871030018773,0.16288563288563288,0.14196529988836692,0.11218169038169656,0.13227403134847668,0.05041644515328726,0.05911614899620897,0.10737087427563617,0.04076479076479076,0.10177927850230374,0.13233964313470675,0.08863449986453849,0.04133557800224467,0.05500614167280834,0.06073357580402045,0.010504201680672268,0.08680289484887187,0.03409730547411707,0.1879722531896445,0.08537414965986394,0.045658970658970656,0.07718919383175249,0.17829960511412124,0.11276697854561034,0.07684377169671287,0.060483283490529866,0.052495802193869824,0.028432832503556188,0.11707153298484568,0.19090386912967558,0.07726517309850643,0.17427845380890136,0.14517050126000036,0.08319428480718803,0.0,0.08432151405500257,0.1286281179138322,0.08297614042368084,0.11639671817690395,0.047522458754342814,0.16206182956274295,0.08455102402470822,0.0975918606353389,0.030847953216374274,0.04676024824505806,0.10463702069982263,0.2184862012987013,0.019206706706706704,0.11012238790016567,0.04601346415176723,0.0538743719466611,0.03480306418274934,0.1409592356960778,0.14719391697048703,0.0,0.11344922999893761,0.1167211328976035,0.13884990457571103],\"type\":\"choropleth\"}],                        {\"geo\":{\"scope\":\"world\"},\"template\":{\"data\":{\"barpolar\":[{\"marker\":{\"line\":{\"color\":\"#E5ECF6\",\"width\":0.5},\"pattern\":{\"fillmode\":\"overlay\",\"size\":10,\"solidity\":0.2}},\"type\":\"barpolar\"}],\"bar\":[{\"error_x\":{\"color\":\"#2a3f5f\"},\"error_y\":{\"color\":\"#2a3f5f\"},\"marker\":{\"line\":{\"color\":\"#E5ECF6\",\"width\":0.5},\"pattern\":{\"fillmode\":\"overlay\",\"size\":10,\"solidity\":0.2}},\"type\":\"bar\"}],\"carpet\":[{\"aaxis\":{\"endlinecolor\":\"#2a3f5f\",\"gridcolor\":\"white\",\"linecolor\":\"white\",\"minorgridcolor\":\"white\",\"startlinecolor\":\"#2a3f5f\"},\"baxis\":{\"endlinecolor\":\"#2a3f5f\",\"gridcolor\":\"white\",\"linecolor\":\"white\",\"minorgridcolor\":\"white\",\"startlinecolor\":\"#2a3f5f\"},\"type\":\"carpet\"}],\"choropleth\":[{\"colorbar\":{\"outlinewidth\":0,\"ticks\":\"\"},\"type\":\"choropleth\"}],\"contourcarpet\":[{\"colorbar\":{\"outlinewidth\":0,\"ticks\":\"\"},\"type\":\"contourcarpet\"}],\"contour\":[{\"colorbar\":{\"outlinewidth\":0,\"ticks\":\"\"},\"colorscale\":[[0.0,\"#0d0887\"],[0.1111111111111111,\"#46039f\"],[0.2222222222222222,\"#7201a8\"],[0.3333333333333333,\"#9c179e\"],[0.4444444444444444,\"#bd3786\"],[0.5555555555555556,\"#d8576b\"],[0.6666666666666666,\"#ed7953\"],[0.7777777777777778,\"#fb9f3a\"],[0.8888888888888888,\"#fdca26\"],[1.0,\"#f0f921\"]],\"type\":\"contour\"}],\"heatmapgl\":[{\"colorbar\":{\"outlinewidth\":0,\"ticks\":\"\"},\"colorscale\":[[0.0,\"#0d0887\"],[0.1111111111111111,\"#46039f\"],[0.2222222222222222,\"#7201a8\"],[0.3333333333333333,\"#9c179e\"],[0.4444444444444444,\"#bd3786\"],[0.5555555555555556,\"#d8576b\"],[0.6666666666666666,\"#ed7953\"],[0.7777777777777778,\"#fb9f3a\"],[0.8888888888888888,\"#fdca26\"],[1.0,\"#f0f921\"]],\"type\":\"heatmapgl\"}],\"heatmap\":[{\"colorbar\":{\"outlinewidth\":0,\"ticks\":\"\"},\"colorscale\":[[0.0,\"#0d0887\"],[0.1111111111111111,\"#46039f\"],[0.2222222222222222,\"#7201a8\"],[0.3333333333333333,\"#9c179e\"],[0.4444444444444444,\"#bd3786\"],[0.5555555555555556,\"#d8576b\"],[0.6666666666666666,\"#ed7953\"],[0.7777777777777778,\"#fb9f3a\"],[0.8888888888888888,\"#fdca26\"],[1.0,\"#f0f921\"]],\"type\":\"heatmap\"}],\"histogram2dcontour\":[{\"colorbar\":{\"outlinewidth\":0,\"ticks\":\"\"},\"colorscale\":[[0.0,\"#0d0887\"],[0.1111111111111111,\"#46039f\"],[0.2222222222222222,\"#7201a8\"],[0.3333333333333333,\"#9c179e\"],[0.4444444444444444,\"#bd3786\"],[0.5555555555555556,\"#d8576b\"],[0.6666666666666666,\"#ed7953\"],[0.7777777777777778,\"#fb9f3a\"],[0.8888888888888888,\"#fdca26\"],[1.0,\"#f0f921\"]],\"type\":\"histogram2dcontour\"}],\"histogram2d\":[{\"colorbar\":{\"outlinewidth\":0,\"ticks\":\"\"},\"colorscale\":[[0.0,\"#0d0887\"],[0.1111111111111111,\"#46039f\"],[0.2222222222222222,\"#7201a8\"],[0.3333333333333333,\"#9c179e\"],[0.4444444444444444,\"#bd3786\"],[0.5555555555555556,\"#d8576b\"],[0.6666666666666666,\"#ed7953\"],[0.7777777777777778,\"#fb9f3a\"],[0.8888888888888888,\"#fdca26\"],[1.0,\"#f0f921\"]],\"type\":\"histogram2d\"}],\"histogram\":[{\"marker\":{\"pattern\":{\"fillmode\":\"overlay\",\"size\":10,\"solidity\":0.2}},\"type\":\"histogram\"}],\"mesh3d\":[{\"colorbar\":{\"outlinewidth\":0,\"ticks\":\"\"},\"type\":\"mesh3d\"}],\"parcoords\":[{\"line\":{\"colorbar\":{\"outlinewidth\":0,\"ticks\":\"\"}},\"type\":\"parcoords\"}],\"pie\":[{\"automargin\":true,\"type\":\"pie\"}],\"scatter3d\":[{\"line\":{\"colorbar\":{\"outlinewidth\":0,\"ticks\":\"\"}},\"marker\":{\"colorbar\":{\"outlinewidth\":0,\"ticks\":\"\"}},\"type\":\"scatter3d\"}],\"scattercarpet\":[{\"marker\":{\"colorbar\":{\"outlinewidth\":0,\"ticks\":\"\"}},\"type\":\"scattercarpet\"}],\"scattergeo\":[{\"marker\":{\"colorbar\":{\"outlinewidth\":0,\"ticks\":\"\"}},\"type\":\"scattergeo\"}],\"scattergl\":[{\"marker\":{\"colorbar\":{\"outlinewidth\":0,\"ticks\":\"\"}},\"type\":\"scattergl\"}],\"scattermapbox\":[{\"marker\":{\"colorbar\":{\"outlinewidth\":0,\"ticks\":\"\"}},\"type\":\"scattermapbox\"}],\"scatterpolargl\":[{\"marker\":{\"colorbar\":{\"outlinewidth\":0,\"ticks\":\"\"}},\"type\":\"scatterpolargl\"}],\"scatterpolar\":[{\"marker\":{\"colorbar\":{\"outlinewidth\":0,\"ticks\":\"\"}},\"type\":\"scatterpolar\"}],\"scatter\":[{\"fillpattern\":{\"fillmode\":\"overlay\",\"size\":10,\"solidity\":0.2},\"type\":\"scatter\"}],\"scatterternary\":[{\"marker\":{\"colorbar\":{\"outlinewidth\":0,\"ticks\":\"\"}},\"type\":\"scatterternary\"}],\"surface\":[{\"colorbar\":{\"outlinewidth\":0,\"ticks\":\"\"},\"colorscale\":[[0.0,\"#0d0887\"],[0.1111111111111111,\"#46039f\"],[0.2222222222222222,\"#7201a8\"],[0.3333333333333333,\"#9c179e\"],[0.4444444444444444,\"#bd3786\"],[0.5555555555555556,\"#d8576b\"],[0.6666666666666666,\"#ed7953\"],[0.7777777777777778,\"#fb9f3a\"],[0.8888888888888888,\"#fdca26\"],[1.0,\"#f0f921\"]],\"type\":\"surface\"}],\"table\":[{\"cells\":{\"fill\":{\"color\":\"#EBF0F8\"},\"line\":{\"color\":\"white\"}},\"header\":{\"fill\":{\"color\":\"#C8D4E3\"},\"line\":{\"color\":\"white\"}},\"type\":\"table\"}]},\"layout\":{\"annotationdefaults\":{\"arrowcolor\":\"#2a3f5f\",\"arrowhead\":0,\"arrowwidth\":1},\"autotypenumbers\":\"strict\",\"coloraxis\":{\"colorbar\":{\"outlinewidth\":0,\"ticks\":\"\"}},\"colorscale\":{\"diverging\":[[0,\"#8e0152\"],[0.1,\"#c51b7d\"],[0.2,\"#de77ae\"],[0.3,\"#f1b6da\"],[0.4,\"#fde0ef\"],[0.5,\"#f7f7f7\"],[0.6,\"#e6f5d0\"],[0.7,\"#b8e186\"],[0.8,\"#7fbc41\"],[0.9,\"#4d9221\"],[1,\"#276419\"]],\"sequential\":[[0.0,\"#0d0887\"],[0.1111111111111111,\"#46039f\"],[0.2222222222222222,\"#7201a8\"],[0.3333333333333333,\"#9c179e\"],[0.4444444444444444,\"#bd3786\"],[0.5555555555555556,\"#d8576b\"],[0.6666666666666666,\"#ed7953\"],[0.7777777777777778,\"#fb9f3a\"],[0.8888888888888888,\"#fdca26\"],[1.0,\"#f0f921\"]],\"sequentialminus\":[[0.0,\"#0d0887\"],[0.1111111111111111,\"#46039f\"],[0.2222222222222222,\"#7201a8\"],[0.3333333333333333,\"#9c179e\"],[0.4444444444444444,\"#bd3786\"],[0.5555555555555556,\"#d8576b\"],[0.6666666666666666,\"#ed7953\"],[0.7777777777777778,\"#fb9f3a\"],[0.8888888888888888,\"#fdca26\"],[1.0,\"#f0f921\"]]},\"colorway\":[\"#636efa\",\"#EF553B\",\"#00cc96\",\"#ab63fa\",\"#FFA15A\",\"#19d3f3\",\"#FF6692\",\"#B6E880\",\"#FF97FF\",\"#FECB52\"],\"font\":{\"color\":\"#2a3f5f\"},\"geo\":{\"bgcolor\":\"white\",\"lakecolor\":\"white\",\"landcolor\":\"#E5ECF6\",\"showlakes\":true,\"showland\":true,\"subunitcolor\":\"white\"},\"hoverlabel\":{\"align\":\"left\"},\"hovermode\":\"closest\",\"mapbox\":{\"style\":\"light\"},\"paper_bgcolor\":\"white\",\"plot_bgcolor\":\"#E5ECF6\",\"polar\":{\"angularaxis\":{\"gridcolor\":\"white\",\"linecolor\":\"white\",\"ticks\":\"\"},\"bgcolor\":\"#E5ECF6\",\"radialaxis\":{\"gridcolor\":\"white\",\"linecolor\":\"white\",\"ticks\":\"\"}},\"scene\":{\"xaxis\":{\"backgroundcolor\":\"#E5ECF6\",\"gridcolor\":\"white\",\"gridwidth\":2,\"linecolor\":\"white\",\"showbackground\":true,\"ticks\":\"\",\"zerolinecolor\":\"white\"},\"yaxis\":{\"backgroundcolor\":\"#E5ECF6\",\"gridcolor\":\"white\",\"gridwidth\":2,\"linecolor\":\"white\",\"showbackground\":true,\"ticks\":\"\",\"zerolinecolor\":\"white\"},\"zaxis\":{\"backgroundcolor\":\"#E5ECF6\",\"gridcolor\":\"white\",\"gridwidth\":2,\"linecolor\":\"white\",\"showbackground\":true,\"ticks\":\"\",\"zerolinecolor\":\"white\"}},\"shapedefaults\":{\"line\":{\"color\":\"#2a3f5f\"}},\"ternary\":{\"aaxis\":{\"gridcolor\":\"white\",\"linecolor\":\"white\",\"ticks\":\"\"},\"baxis\":{\"gridcolor\":\"white\",\"linecolor\":\"white\",\"ticks\":\"\"},\"bgcolor\":\"#E5ECF6\",\"caxis\":{\"gridcolor\":\"white\",\"linecolor\":\"white\",\"ticks\":\"\"}},\"title\":{\"x\":0.05},\"xaxis\":{\"automargin\":true,\"gridcolor\":\"white\",\"linecolor\":\"white\",\"ticks\":\"\",\"title\":{\"standoff\":15},\"zerolinecolor\":\"white\",\"zerolinewidth\":2},\"yaxis\":{\"automargin\":true,\"gridcolor\":\"white\",\"linecolor\":\"white\",\"ticks\":\"\",\"title\":{\"standoff\":15},\"zerolinecolor\":\"white\",\"zerolinewidth\":2}}}},                        {\"responsive\": true}                    ).then(function(){\n",
       "                            \n",
       "var gd = document.getElementById('6bc45cb5-a37b-4d60-8eb0-4653dc61d667');\n",
       "var x = new MutationObserver(function (mutations, observer) {{\n",
       "        var display = window.getComputedStyle(gd).display;\n",
       "        if (!display || display === 'none') {{\n",
       "            console.log([gd, 'removed!']);\n",
       "            Plotly.purge(gd);\n",
       "            observer.disconnect();\n",
       "        }}\n",
       "}});\n",
       "\n",
       "// Listen for the removal of the full notebook cells\n",
       "var notebookContainer = gd.closest('#notebook-container');\n",
       "if (notebookContainer) {{\n",
       "    x.observe(notebookContainer, {childList: true});\n",
       "}}\n",
       "\n",
       "// Listen for the clearing of the current output cell\n",
       "var outputEl = gd.closest('.output');\n",
       "if (outputEl) {{\n",
       "    x.observe(outputEl, {childList: true});\n",
       "}}\n",
       "\n",
       "                        })                };                });            </script>        </div>"
      ]
     },
     "metadata": {},
     "output_type": "display_data"
    }
   ],
   "source": [
    "import plotly\n",
    "df_ccc = final_df.groupby(['iso_3']).mean()['amount_of_time_spent_on_climate'].reset_index()\n",
    "\n",
    "data = [dict(type='choropleth', \n",
    "            locations = df_ccc['iso_3'],\n",
    "            z=df_ccc['amount_of_time_spent_on_climate'])]\n",
    "\n",
    "\n",
    "layout = dict(geo=dict(scope='world'))\n",
    "  \n",
    "fig = dict(data=data, \n",
    "           layout=layout)\n",
    "plotly.offline.iplot(fig)\n"
   ]
  },
  {
   "cell_type": "markdown",
   "id": "c0fa51c9",
   "metadata": {},
   "source": [
    "## Amount of time spent during UN General Debat per year"
   ]
  },
  {
   "cell_type": "code",
   "execution_count": 39,
   "id": "3eb01fd3",
   "metadata": {},
   "outputs": [
    {
     "name": "stderr",
     "output_type": "stream",
     "text": [
      "C:\\Users\\easto\\AppData\\Local\\Temp\\ipykernel_27332\\1272860076.py:1: FutureWarning:\n",
      "\n",
      "The default value of numeric_only in DataFrameGroupBy.sum is deprecated. In a future version, numeric_only will default to False. Either specify numeric_only or select only columns which should be valid for the function.\n",
      "\n"
     ]
    },
    {
     "data": {
      "image/png": "[encoded data removed]",
      "text/plain": [
       "<Figure size 640x480 with 1 Axes>"
      ]
     },
     "metadata": {},
     "output_type": "display_data"
    }
   ],
   "source": [
    "final_df.groupby('year').sum()['amount_of_time_spent_on_climate'].plot()\n",
    "\n",
    "plt.xlabel('Year')\n",
    "plt.ylabel('relative time spent on Climate change during UN General Debate')\n",
    "plt.title('Time spent on Climate change during UN General Debate per year')\n",
    "plt.show()"
   ]
  },
  {
   "cell_type": "markdown",
   "id": "92f047f7",
   "metadata": {},
   "source": [
    "## Total emmisions per year"
   ]
  },
  {
   "cell_type": "code",
   "execution_count": 40,
   "id": "e358897c",
   "metadata": {},
   "outputs": [
    {
     "name": "stderr",
     "output_type": "stream",
     "text": [
      "C:\\Users\\easto\\AppData\\Local\\Temp\\ipykernel_27332\\3002665112.py:1: FutureWarning:\n",
      "\n",
      "The default value of numeric_only in DataFrameGroupBy.sum is deprecated. In a future version, numeric_only will default to False. Either specify numeric_only or select only columns which should be valid for the function.\n",
      "\n"
     ]
    },
    {
     "data": {
      "image/png": "[encoded data removed]",
      "text/plain": [
       "<Figure size 640x480 with 1 Axes>"
      ]
     },
     "metadata": {},
     "output_type": "display_data"
    }
   ],
   "source": [
    "final_df.groupby('year').sum()['Annual CO₂ emissions (per capita)'].plot()\n",
    "\n",
    "plt.xlabel('Year')\n",
    "plt.ylabel('Total CO2 emissions')\n",
    "plt.title('Total CO2 emissions per year')\n",
    "plt.show()"
   ]
  },
  {
   "cell_type": "code",
   "execution_count": null,
   "id": "208aed7b",
   "metadata": {},
   "outputs": [],
   "source": []
  }
 ],
 "metadata": {
  "kernelspec": {
   "display_name": "Python 3 (ipykernel)",
   "language": "python",
   "name": "python3"
  },
  "language_info": {
   "codemirror_mode": {
    "name": "ipython",
    "version": 3
   },
   "file_extension": ".py",
   "mimetype": "text/x-python",
   "name": "python",
   "nbconvert_exporter": "python",
   "pygments_lexer": "ipython3",
   "version": "3.11.4"
  }
 },
 "nbformat": 4,
 "nbformat_minor": 5
}
