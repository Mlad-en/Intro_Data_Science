{
 "cells": [
  {
   "cell_type": "code",
   "execution_count": 1,
   "id": "d99c3384",
   "metadata": {},
   "outputs": [],
   "source": [
    "import os\n",
    "import numpy as np\n",
    "import pandas as pd\n",
    "import matplotlib.pyplot as plt\n",
    "import seaborn as sns"
   ]
  },
  {
   "cell_type": "code",
   "execution_count": 4,
   "id": "d624782d",
   "metadata": {},
   "outputs": [
    {
     "data": {
      "text/html": [
       "<div>\n",
       "<style scoped>\n",
       "    .dataframe tbody tr th:only-of-type {\n",
       "        vertical-align: middle;\n",
       "    }\n",
       "\n",
       "    .dataframe tbody tr th {\n",
       "        vertical-align: top;\n",
       "    }\n",
       "\n",
       "    .dataframe thead th {\n",
       "        text-align: right;\n",
       "    }\n",
       "</style>\n",
       "<table border=\"1\" class=\"dataframe\">\n",
       "  <thead>\n",
       "    <tr style=\"text-align: right;\">\n",
       "      <th></th>\n",
       "      <th>iso_3</th>\n",
       "      <th>year_x</th>\n",
       "      <th>sentiment</th>\n",
       "      <th>total_amount_paragraphs</th>\n",
       "      <th>amount_climate_change_paragraphs</th>\n",
       "      <th>amount_of_time_spent_on_climate</th>\n",
       "      <th>Region Name</th>\n",
       "      <th>Sub-region Name</th>\n",
       "      <th>Entity</th>\n",
       "      <th>year_y</th>\n",
       "      <th>Annual CO₂ emissions (per capita)</th>\n",
       "    </tr>\n",
       "  </thead>\n",
       "  <tbody>\n",
       "    <tr>\n",
       "      <th>0</th>\n",
       "      <td>AFG</td>\n",
       "      <td>2013</td>\n",
       "      <td>NaN</td>\n",
       "      <td>37</td>\n",
       "      <td>0</td>\n",
       "      <td>0.0</td>\n",
       "      <td>Asia</td>\n",
       "      <td>Southern Asia</td>\n",
       "      <td>Afghanistan</td>\n",
       "      <td>1949</td>\n",
       "      <td>0.001992</td>\n",
       "    </tr>\n",
       "    <tr>\n",
       "      <th>1</th>\n",
       "      <td>AFG</td>\n",
       "      <td>2013</td>\n",
       "      <td>NaN</td>\n",
       "      <td>37</td>\n",
       "      <td>0</td>\n",
       "      <td>0.0</td>\n",
       "      <td>Asia</td>\n",
       "      <td>Southern Asia</td>\n",
       "      <td>Afghanistan</td>\n",
       "      <td>1950</td>\n",
       "      <td>0.011266</td>\n",
       "    </tr>\n",
       "    <tr>\n",
       "      <th>2</th>\n",
       "      <td>AFG</td>\n",
       "      <td>2013</td>\n",
       "      <td>NaN</td>\n",
       "      <td>37</td>\n",
       "      <td>0</td>\n",
       "      <td>0.0</td>\n",
       "      <td>Asia</td>\n",
       "      <td>Southern Asia</td>\n",
       "      <td>Afghanistan</td>\n",
       "      <td>1951</td>\n",
       "      <td>0.012098</td>\n",
       "    </tr>\n",
       "    <tr>\n",
       "      <th>3</th>\n",
       "      <td>AFG</td>\n",
       "      <td>2013</td>\n",
       "      <td>NaN</td>\n",
       "      <td>37</td>\n",
       "      <td>0</td>\n",
       "      <td>0.0</td>\n",
       "      <td>Asia</td>\n",
       "      <td>Southern Asia</td>\n",
       "      <td>Afghanistan</td>\n",
       "      <td>1952</td>\n",
       "      <td>0.011946</td>\n",
       "    </tr>\n",
       "    <tr>\n",
       "      <th>4</th>\n",
       "      <td>AFG</td>\n",
       "      <td>2013</td>\n",
       "      <td>NaN</td>\n",
       "      <td>37</td>\n",
       "      <td>0</td>\n",
       "      <td>0.0</td>\n",
       "      <td>Asia</td>\n",
       "      <td>Southern Asia</td>\n",
       "      <td>Afghanistan</td>\n",
       "      <td>1953</td>\n",
       "      <td>0.013685</td>\n",
       "    </tr>\n",
       "  </tbody>\n",
       "</table>\n",
       "</div>"
      ],
      "text/plain": [
       "  iso_3  year_x  sentiment  total_amount_paragraphs  \\\n",
       "0   AFG    2013        NaN                       37   \n",
       "1   AFG    2013        NaN                       37   \n",
       "2   AFG    2013        NaN                       37   \n",
       "3   AFG    2013        NaN                       37   \n",
       "4   AFG    2013        NaN                       37   \n",
       "\n",
       "   amount_climate_change_paragraphs  amount_of_time_spent_on_climate  \\\n",
       "0                                 0                              0.0   \n",
       "1                                 0                              0.0   \n",
       "2                                 0                              0.0   \n",
       "3                                 0                              0.0   \n",
       "4                                 0                              0.0   \n",
       "\n",
       "  Region Name Sub-region Name       Entity  year_y  \\\n",
       "0        Asia   Southern Asia  Afghanistan    1949   \n",
       "1        Asia   Southern Asia  Afghanistan    1950   \n",
       "2        Asia   Southern Asia  Afghanistan    1951   \n",
       "3        Asia   Southern Asia  Afghanistan    1952   \n",
       "4        Asia   Southern Asia  Afghanistan    1953   \n",
       "\n",
       "   Annual CO₂ emissions (per capita)  \n",
       "0                           0.001992  \n",
       "1                           0.011266  \n",
       "2                           0.012098  \n",
       "3                           0.011946  \n",
       "4                           0.013685  "
      ]
     },
     "execution_count": 4,
     "metadata": {},
     "output_type": "execute_result"
    }
   ],
   "source": [
    "final_df = pd.read_parquet('final_data_without_speech.parquet')\n",
    "\n",
    "final_df.head()"
   ]
  },
  {
   "cell_type": "markdown",
   "id": "3f18d87e",
   "metadata": {},
   "source": [
    "# Exploratory Data Analysis"
   ]
  },
  {
   "cell_type": "markdown",
   "id": "cfd0afd0",
   "metadata": {},
   "source": [
    "For this EDA, we our going to examine the relationships between the sentiment score of a country (based on the grouped paragraphs of the text UN speech split) and the amount of time talked about climate change in the speeches. Also the relationship between the sentiment and the annual emissions for that country is analyzed.\n",
    "\n",
    "Both will initially be analyzed through correlations.\n",
    "\n"
   ]
  },
  {
   "cell_type": "markdown",
   "id": "9ee59a40",
   "metadata": {},
   "source": [
    "### Sentiment & Time Spent"
   ]
  },
  {
   "cell_type": "code",
   "execution_count": 7,
   "id": "8c9b98c0",
   "metadata": {},
   "outputs": [
    {
     "data": {
      "text/html": [
       "<div>\n",
       "<style scoped>\n",
       "    .dataframe tbody tr th:only-of-type {\n",
       "        vertical-align: middle;\n",
       "    }\n",
       "\n",
       "    .dataframe tbody tr th {\n",
       "        vertical-align: top;\n",
       "    }\n",
       "\n",
       "    .dataframe thead th {\n",
       "        text-align: right;\n",
       "    }\n",
       "</style>\n",
       "<table border=\"1\" class=\"dataframe\">\n",
       "  <thead>\n",
       "    <tr style=\"text-align: right;\">\n",
       "      <th></th>\n",
       "      <th>Entity</th>\n",
       "      <th>year_y</th>\n",
       "      <th>sentiment</th>\n",
       "    </tr>\n",
       "  </thead>\n",
       "  <tbody>\n",
       "    <tr>\n",
       "      <th>0</th>\n",
       "      <td>Afghanistan</td>\n",
       "      <td>1949</td>\n",
       "      <td>0.075278</td>\n",
       "    </tr>\n",
       "    <tr>\n",
       "      <th>1</th>\n",
       "      <td>Afghanistan</td>\n",
       "      <td>1950</td>\n",
       "      <td>0.075278</td>\n",
       "    </tr>\n",
       "    <tr>\n",
       "      <th>2</th>\n",
       "      <td>Afghanistan</td>\n",
       "      <td>1951</td>\n",
       "      <td>0.075278</td>\n",
       "    </tr>\n",
       "    <tr>\n",
       "      <th>3</th>\n",
       "      <td>Afghanistan</td>\n",
       "      <td>1952</td>\n",
       "      <td>0.075278</td>\n",
       "    </tr>\n",
       "    <tr>\n",
       "      <th>4</th>\n",
       "      <td>Afghanistan</td>\n",
       "      <td>1953</td>\n",
       "      <td>0.075278</td>\n",
       "    </tr>\n",
       "  </tbody>\n",
       "</table>\n",
       "</div>"
      ],
      "text/plain": [
       "        Entity  year_y  sentiment\n",
       "0  Afghanistan    1949   0.075278\n",
       "1  Afghanistan    1950   0.075278\n",
       "2  Afghanistan    1951   0.075278\n",
       "3  Afghanistan    1952   0.075278\n",
       "4  Afghanistan    1953   0.075278"
      ]
     },
     "execution_count": 7,
     "metadata": {},
     "output_type": "execute_result"
    }
   ],
   "source": [
    "# Group by country_name and year, calculate mean sentiment score\n",
    "grouped_sentiment_data = final_df.groupby(['Entity', 'year_y'])['sentiment'].mean().reset_index()\n",
    "\n",
    "# DataFrame with mean sentiment score for each country and year\n",
    "grouped_sentiment_data.head()"
   ]
  },
  {
   "cell_type": "code",
   "execution_count": 9,
   "id": "f1f550ae",
   "metadata": {},
   "outputs": [
    {
     "data": {
      "text/html": [
       "<div>\n",
       "<style scoped>\n",
       "    .dataframe tbody tr th:only-of-type {\n",
       "        vertical-align: middle;\n",
       "    }\n",
       "\n",
       "    .dataframe tbody tr th {\n",
       "        vertical-align: top;\n",
       "    }\n",
       "\n",
       "    .dataframe thead th {\n",
       "        text-align: right;\n",
       "    }\n",
       "</style>\n",
       "<table border=\"1\" class=\"dataframe\">\n",
       "  <thead>\n",
       "    <tr style=\"text-align: right;\">\n",
       "      <th></th>\n",
       "      <th>Entity</th>\n",
       "      <th>year_y</th>\n",
       "      <th>amount_of_time_spent_on_climate</th>\n",
       "    </tr>\n",
       "  </thead>\n",
       "  <tbody>\n",
       "    <tr>\n",
       "      <th>0</th>\n",
       "      <td>Afghanistan</td>\n",
       "      <td>1949</td>\n",
       "      <td>0.045447</td>\n",
       "    </tr>\n",
       "    <tr>\n",
       "      <th>1</th>\n",
       "      <td>Afghanistan</td>\n",
       "      <td>1950</td>\n",
       "      <td>0.045447</td>\n",
       "    </tr>\n",
       "    <tr>\n",
       "      <th>2</th>\n",
       "      <td>Afghanistan</td>\n",
       "      <td>1951</td>\n",
       "      <td>0.045447</td>\n",
       "    </tr>\n",
       "    <tr>\n",
       "      <th>3</th>\n",
       "      <td>Afghanistan</td>\n",
       "      <td>1952</td>\n",
       "      <td>0.045447</td>\n",
       "    </tr>\n",
       "    <tr>\n",
       "      <th>4</th>\n",
       "      <td>Afghanistan</td>\n",
       "      <td>1953</td>\n",
       "      <td>0.045447</td>\n",
       "    </tr>\n",
       "  </tbody>\n",
       "</table>\n",
       "</div>"
      ],
      "text/plain": [
       "        Entity  year_y  amount_of_time_spent_on_climate\n",
       "0  Afghanistan    1949                         0.045447\n",
       "1  Afghanistan    1950                         0.045447\n",
       "2  Afghanistan    1951                         0.045447\n",
       "3  Afghanistan    1952                         0.045447\n",
       "4  Afghanistan    1953                         0.045447"
      ]
     },
     "execution_count": 9,
     "metadata": {},
     "output_type": "execute_result"
    }
   ],
   "source": [
    "# Group by country_name and year, calculate mean corruption score\n",
    "grouped_timespent_data = final_df.groupby(['Entity', 'year_y'])['amount_of_time_spent_on_climate'].mean().reset_index()\n",
    "\n",
    "# DataFrame with mean corruption score for each country and year\n",
    "grouped_timespent_data.head()"
   ]
  },
  {
   "cell_type": "code",
   "execution_count": 10,
   "id": "e6255802",
   "metadata": {},
   "outputs": [
    {
     "data": {
      "text/html": [
       "<div>\n",
       "<style scoped>\n",
       "    .dataframe tbody tr th:only-of-type {\n",
       "        vertical-align: middle;\n",
       "    }\n",
       "\n",
       "    .dataframe tbody tr th {\n",
       "        vertical-align: top;\n",
       "    }\n",
       "\n",
       "    .dataframe thead th {\n",
       "        text-align: right;\n",
       "    }\n",
       "</style>\n",
       "<table border=\"1\" class=\"dataframe\">\n",
       "  <thead>\n",
       "    <tr style=\"text-align: right;\">\n",
       "      <th></th>\n",
       "      <th>Entity</th>\n",
       "      <th>year_y</th>\n",
       "      <th>sentiment</th>\n",
       "      <th>amount_of_time_spent_on_climate</th>\n",
       "    </tr>\n",
       "  </thead>\n",
       "  <tbody>\n",
       "    <tr>\n",
       "      <th>0</th>\n",
       "      <td>Afghanistan</td>\n",
       "      <td>1949</td>\n",
       "      <td>0.075278</td>\n",
       "      <td>0.045447</td>\n",
       "    </tr>\n",
       "    <tr>\n",
       "      <th>1</th>\n",
       "      <td>Afghanistan</td>\n",
       "      <td>1950</td>\n",
       "      <td>0.075278</td>\n",
       "      <td>0.045447</td>\n",
       "    </tr>\n",
       "    <tr>\n",
       "      <th>2</th>\n",
       "      <td>Afghanistan</td>\n",
       "      <td>1951</td>\n",
       "      <td>0.075278</td>\n",
       "      <td>0.045447</td>\n",
       "    </tr>\n",
       "    <tr>\n",
       "      <th>3</th>\n",
       "      <td>Afghanistan</td>\n",
       "      <td>1952</td>\n",
       "      <td>0.075278</td>\n",
       "      <td>0.045447</td>\n",
       "    </tr>\n",
       "    <tr>\n",
       "      <th>4</th>\n",
       "      <td>Afghanistan</td>\n",
       "      <td>1953</td>\n",
       "      <td>0.075278</td>\n",
       "      <td>0.045447</td>\n",
       "    </tr>\n",
       "  </tbody>\n",
       "</table>\n",
       "</div>"
      ],
      "text/plain": [
       "        Entity  year_y  sentiment  amount_of_time_spent_on_climate\n",
       "0  Afghanistan    1949   0.075278                         0.045447\n",
       "1  Afghanistan    1950   0.075278                         0.045447\n",
       "2  Afghanistan    1951   0.075278                         0.045447\n",
       "3  Afghanistan    1952   0.075278                         0.045447\n",
       "4  Afghanistan    1953   0.075278                         0.045447"
      ]
     },
     "execution_count": 10,
     "metadata": {},
     "output_type": "execute_result"
    }
   ],
   "source": [
    "# Merge DataFrames on 'country_name' and 'year'\n",
    "merged_df = pd.merge(grouped_sentiment_data, grouped_timespent_data, on=['Entity', 'year_y'])\n",
    "merged_df.head()"
   ]
  },
  {
   "cell_type": "code",
   "execution_count": 11,
   "id": "475c2959",
   "metadata": {},
   "outputs": [
    {
     "data": {
      "text/plain": [
       "0.07488595098276377"
      ]
     },
     "execution_count": 11,
     "metadata": {},
     "output_type": "execute_result"
    }
   ],
   "source": [
    "# Calculate overall correlation\n",
    "correlation = merged_df['sentiment'].corr(merged_df['amount_of_time_spent_on_climate'])\n",
    "correlation"
   ]
  },
  {
   "cell_type": "code",
   "execution_count": 13,
   "id": "a47cf985",
   "metadata": {},
   "outputs": [
    {
     "data": {
      "image/png": "[encoded data removed]",
      "text/plain": [
       "<Figure size 640x480 with 1 Axes>"
      ]
     },
     "metadata": {},
     "output_type": "display_data"
    }
   ],
   "source": [
    "# Calculate correlation for each year\n",
    "correlations_by_year = merged_df.groupby('year_y')[['sentiment', 'amount_of_time_spent_on_climate']].corr().iloc[0::2,-1].reset_index()\n",
    "correlations_by_year.rename(columns={'amount_of_time_spent_on_climate': 'correlation'}, inplace=True)\n",
    "\n",
    "# Plotting\n",
    "plt.plot(correlations_by_year['year_y'], correlations_by_year['correlation'], marker='o')\n",
    "plt.xlabel('Year')\n",
    "plt.ylabel('Correlation')\n",
    "plt.title('Correlation between Sentiment and Time Spent on Climate Talk by Year')\n",
    "plt.show()"
   ]
  },
  {
   "cell_type": "code",
   "execution_count": 14,
   "id": "e2ca5396",
   "metadata": {},
   "outputs": [
    {
     "name": "stdout",
     "output_type": "stream",
     "text": [
      "Correlation between Sentiment and Corruption Scores by Year:\n",
      "     year_y    level_1  correlation\n",
      "0      1750  sentiment    -0.291265\n",
      "1      1760  sentiment    -0.291265\n",
      "2      1770  sentiment    -0.291265\n",
      "3      1780  sentiment    -0.291265\n",
      "4      1790  sentiment    -0.136908\n",
      "..      ...        ...          ...\n",
      "222    2017  sentiment     0.031247\n",
      "223    2018  sentiment     0.031247\n",
      "224    2019  sentiment     0.031247\n",
      "225    2020  sentiment     0.031247\n",
      "226    2021  sentiment     0.031247\n",
      "\n",
      "[227 rows x 3 columns]\n"
     ]
    }
   ],
   "source": [
    "# Print the correlation values for each year\n",
    "print(\"Correlation between Sentiment and Time Spent on Climate Talk by Year:\")\n",
    "print(correlations_by_year)"
   ]
  },
  {
   "cell_type": "markdown",
   "id": "1e930427",
   "metadata": {},
   "source": [
    "### Sentiment & Annual Emissions "
   ]
  },
  {
   "cell_type": "code",
   "execution_count": 15,
   "id": "9f4b65b3",
   "metadata": {},
   "outputs": [
    {
     "data": {
      "text/html": [
       "<div>\n",
       "<style scoped>\n",
       "    .dataframe tbody tr th:only-of-type {\n",
       "        vertical-align: middle;\n",
       "    }\n",
       "\n",
       "    .dataframe tbody tr th {\n",
       "        vertical-align: top;\n",
       "    }\n",
       "\n",
       "    .dataframe thead th {\n",
       "        text-align: right;\n",
       "    }\n",
       "</style>\n",
       "<table border=\"1\" class=\"dataframe\">\n",
       "  <thead>\n",
       "    <tr style=\"text-align: right;\">\n",
       "      <th></th>\n",
       "      <th>Entity</th>\n",
       "      <th>year_y</th>\n",
       "      <th>Annual CO₂ emissions (per capita)</th>\n",
       "    </tr>\n",
       "  </thead>\n",
       "  <tbody>\n",
       "    <tr>\n",
       "      <th>0</th>\n",
       "      <td>Afghanistan</td>\n",
       "      <td>1949</td>\n",
       "      <td>0.001992</td>\n",
       "    </tr>\n",
       "    <tr>\n",
       "      <th>1</th>\n",
       "      <td>Afghanistan</td>\n",
       "      <td>1950</td>\n",
       "      <td>0.011266</td>\n",
       "    </tr>\n",
       "    <tr>\n",
       "      <th>2</th>\n",
       "      <td>Afghanistan</td>\n",
       "      <td>1951</td>\n",
       "      <td>0.012098</td>\n",
       "    </tr>\n",
       "    <tr>\n",
       "      <th>3</th>\n",
       "      <td>Afghanistan</td>\n",
       "      <td>1952</td>\n",
       "      <td>0.011946</td>\n",
       "    </tr>\n",
       "    <tr>\n",
       "      <th>4</th>\n",
       "      <td>Afghanistan</td>\n",
       "      <td>1953</td>\n",
       "      <td>0.013685</td>\n",
       "    </tr>\n",
       "  </tbody>\n",
       "</table>\n",
       "</div>"
      ],
      "text/plain": [
       "        Entity  year_y  Annual CO₂ emissions (per capita)\n",
       "0  Afghanistan    1949                           0.001992\n",
       "1  Afghanistan    1950                           0.011266\n",
       "2  Afghanistan    1951                           0.012098\n",
       "3  Afghanistan    1952                           0.011946\n",
       "4  Afghanistan    1953                           0.013685"
      ]
     },
     "execution_count": 15,
     "metadata": {},
     "output_type": "execute_result"
    }
   ],
   "source": [
    "# Group by country_name and year, calculate mean corruption score\n",
    "grouped_emissions_data = final_df.groupby(['Entity', 'year_y'])['Annual CO₂ emissions (per capita)'].mean().reset_index()\n",
    "\n",
    "# DataFrame with mean corruption score for each country and year\n",
    "grouped_emissions_data.head()"
   ]
  },
  {
   "cell_type": "code",
   "execution_count": 16,
   "id": "7f91e03d",
   "metadata": {},
   "outputs": [
    {
     "data": {
      "text/html": [
       "<div>\n",
       "<style scoped>\n",
       "    .dataframe tbody tr th:only-of-type {\n",
       "        vertical-align: middle;\n",
       "    }\n",
       "\n",
       "    .dataframe tbody tr th {\n",
       "        vertical-align: top;\n",
       "    }\n",
       "\n",
       "    .dataframe thead th {\n",
       "        text-align: right;\n",
       "    }\n",
       "</style>\n",
       "<table border=\"1\" class=\"dataframe\">\n",
       "  <thead>\n",
       "    <tr style=\"text-align: right;\">\n",
       "      <th></th>\n",
       "      <th>Entity</th>\n",
       "      <th>year_y</th>\n",
       "      <th>sentiment</th>\n",
       "      <th>Annual CO₂ emissions (per capita)</th>\n",
       "    </tr>\n",
       "  </thead>\n",
       "  <tbody>\n",
       "    <tr>\n",
       "      <th>0</th>\n",
       "      <td>Afghanistan</td>\n",
       "      <td>1949</td>\n",
       "      <td>0.075278</td>\n",
       "      <td>0.001992</td>\n",
       "    </tr>\n",
       "    <tr>\n",
       "      <th>1</th>\n",
       "      <td>Afghanistan</td>\n",
       "      <td>1950</td>\n",
       "      <td>0.075278</td>\n",
       "      <td>0.011266</td>\n",
       "    </tr>\n",
       "    <tr>\n",
       "      <th>2</th>\n",
       "      <td>Afghanistan</td>\n",
       "      <td>1951</td>\n",
       "      <td>0.075278</td>\n",
       "      <td>0.012098</td>\n",
       "    </tr>\n",
       "    <tr>\n",
       "      <th>3</th>\n",
       "      <td>Afghanistan</td>\n",
       "      <td>1952</td>\n",
       "      <td>0.075278</td>\n",
       "      <td>0.011946</td>\n",
       "    </tr>\n",
       "    <tr>\n",
       "      <th>4</th>\n",
       "      <td>Afghanistan</td>\n",
       "      <td>1953</td>\n",
       "      <td>0.075278</td>\n",
       "      <td>0.013685</td>\n",
       "    </tr>\n",
       "  </tbody>\n",
       "</table>\n",
       "</div>"
      ],
      "text/plain": [
       "        Entity  year_y  sentiment  Annual CO₂ emissions (per capita)\n",
       "0  Afghanistan    1949   0.075278                           0.001992\n",
       "1  Afghanistan    1950   0.075278                           0.011266\n",
       "2  Afghanistan    1951   0.075278                           0.012098\n",
       "3  Afghanistan    1952   0.075278                           0.011946\n",
       "4  Afghanistan    1953   0.075278                           0.013685"
      ]
     },
     "execution_count": 16,
     "metadata": {},
     "output_type": "execute_result"
    }
   ],
   "source": [
    "# Merge DataFrames on 'country_name' and 'year'\n",
    "merged_df2 = pd.merge(grouped_sentiment_data, grouped_emissions_data, on=['Entity', 'year_y'])\n",
    "merged_df2.head()"
   ]
  },
  {
   "cell_type": "code",
   "execution_count": 17,
   "id": "ed879cd4",
   "metadata": {},
   "outputs": [
    {
     "data": {
      "text/plain": [
       "0.09714415800381376"
      ]
     },
     "execution_count": 17,
     "metadata": {},
     "output_type": "execute_result"
    }
   ],
   "source": [
    "# Calculate overall correlation\n",
    "correlation = merged_df2['sentiment'].corr(merged_df2['Annual CO₂ emissions (per capita)'])\n",
    "correlation"
   ]
  },
  {
   "cell_type": "code",
   "execution_count": 22,
   "id": "f4809abe",
   "metadata": {},
   "outputs": [
    {
     "data": {
      "image/png": "[encoded data removed]",
      "text/plain": [
       "<Figure size 640x480 with 1 Axes>"
      ]
     },
     "metadata": {},
     "output_type": "display_data"
    }
   ],
   "source": [
    "# Calculate correlation for each year\n",
    "correlations_by_year2 = merged_df2.groupby('year_y')[['sentiment', 'Annual CO₂ emissions (per capita)']].corr().iloc[0::2,-1].reset_index()\n",
    "correlations_by_year2.rename(columns={'Annual CO₂ emissions (per capita)': 'correlation'}, inplace=True)\n",
    "\n",
    "# Plotting\n",
    "plt.plot(correlations_by_year2['year_y'], correlations_by_year2['correlation'], marker='o')\n",
    "plt.xlabel('Year')\n",
    "plt.ylabel('Correlation')\n",
    "plt.title('Correlation between Sentiment and Annual CO₂ emissions (per capita) by Year')\n",
    "plt.show()"
   ]
  },
  {
   "cell_type": "code",
   "execution_count": 23,
   "id": "d80fd7a7",
   "metadata": {},
   "outputs": [
    {
     "name": "stdout",
     "output_type": "stream",
     "text": [
      "Correlation between Sentiment and Emissions by Year:\n",
      "     year_y    level_1  correlation\n",
      "0      1750  sentiment     0.284354\n",
      "1      1760  sentiment     0.284354\n",
      "2      1770  sentiment     0.284354\n",
      "3      1780  sentiment     0.284354\n",
      "4      1790  sentiment     0.293851\n",
      "..      ...        ...          ...\n",
      "222    2017  sentiment     0.221206\n",
      "223    2018  sentiment     0.228718\n",
      "224    2019  sentiment     0.240051\n",
      "225    2020  sentiment     0.247208\n",
      "226    2021  sentiment     0.244918\n",
      "\n",
      "[227 rows x 3 columns]\n"
     ]
    }
   ],
   "source": [
    "# Print the correlation values for each year\n",
    "print(\"Correlation between Sentiment and Emissions by Year:\")\n",
    "print(correlations_by_year2)"
   ]
  }
 ],
 "metadata": {
  "kernelspec": {
   "display_name": "Python 3 (ipykernel)",
   "language": "python",
   "name": "python3"
  },
  "language_info": {
   "codemirror_mode": {
    "name": "ipython",
    "version": 3
   },
   "file_extension": ".py",
   "mimetype": "text/x-python",
   "name": "python",
   "nbconvert_exporter": "python",
   "pygments_lexer": "ipython3",
   "version": "3.11.3"
  }
 },
 "nbformat": 4,
 "nbformat_minor": 5
}
