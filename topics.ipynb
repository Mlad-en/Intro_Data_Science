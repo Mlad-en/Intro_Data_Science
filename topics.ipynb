{
 "cells": [
  {
   "cell_type": "code",
   "execution_count": 1,
   "metadata": {
    "collapsed": true,
    "ExecuteTime": {
     "end_time": "2023-09-26T07:30:49.930439Z",
     "start_time": "2023-09-26T07:30:34.034415Z"
    }
   },
   "outputs": [],
   "source": [
    "import pandas as pd\n",
    "from bertopic import BERTopic\n",
    "from umap import UMAP\n",
    "from hdbscan import HDBSCAN\n",
    "from sklearn.feature_extraction.text import CountVectorizer\n",
    "from sklearn.feature_extraction.text import TfidfVectorizer\n",
    "from bertopic.vectorizers import ClassTfidfTransformer\n",
    "from bertopic.representation import KeyBERTInspired\n",
    "import spacy"
   ]
  },
  {
   "cell_type": "code",
   "execution_count": 2,
   "outputs": [],
   "source": [
    "data = pd.read_parquet(\"all_speeches_1960_2022.parquet\")"
   ],
   "metadata": {
    "collapsed": false,
    "ExecuteTime": {
     "end_time": "2023-09-26T07:30:50.539421Z",
     "start_time": "2023-09-26T07:30:49.932537Z"
    }
   }
  },
  {
   "cell_type": "code",
   "execution_count": 19,
   "outputs": [],
   "source": [
    "umap_model =  UMAP(n_neighbors=5, n_components=5, min_dist=0.0, metric='cosine')\n",
    "hdbscan_model = HDBSCAN(min_cluster_size=15, metric='euclidean', cluster_selection_method='eom', prediction_data=True)\n",
    "vectorizer_model = CountVectorizer(ngram_range=(1, 15), stop_words=\"english\")\n",
    "\n",
    "representation_model = KeyBERTInspired()\n",
    "topic_model = BERTopic(\n",
    "    embedding_model=\"multi-qa-mpnet-base-dot-v1\",\n",
    "    umap_model=umap_model,\n",
    "    hdbscan_model=hdbscan_model,\n",
    "    vectorizer_model=vectorizer_model,\n",
    "    # ctfidf_model=ctfidf_model\n",
    ")"
   ],
   "metadata": {
    "collapsed": false,
    "ExecuteTime": {
     "end_time": "2023-09-26T07:35:42.259940Z",
     "start_time": "2023-09-26T07:35:42.256565Z"
    }
   }
  },
  {
   "cell_type": "code",
   "execution_count": 25,
   "outputs": [],
   "source": [
    "c_1 = data[(data['year'] > 1960) & (data['iso_3'] == 'ALB')][\"text\"].to_list()\n",
    "time= data[\"year\"].to_list()"
   ],
   "metadata": {
    "collapsed": false,
    "ExecuteTime": {
     "end_time": "2023-09-26T07:43:43.818164Z",
     "start_time": "2023-09-26T07:43:43.813492Z"
    }
   }
  },
  {
   "cell_type": "code",
   "execution_count": 26,
   "outputs": [],
   "source": [
    "topics, probs = topic_model.fit_transform(c_1)"
   ],
   "metadata": {
    "collapsed": false,
    "ExecuteTime": {
     "end_time": "2023-09-26T07:44:35.208066Z",
     "start_time": "2023-09-26T07:43:44.409314Z"
    }
   }
  },
  {
   "cell_type": "code",
   "execution_count": 27,
   "outputs": [
    {
     "data": {
      "text/plain": "   Topic  Count                                     Name  \\\n0     -1      8      -1_peoples_people_countries_albania   \n1      0     32  0_albania_united_nations_united nations   \n2      1     22           1_people_peoples_states_united   \n\n                                      Representation  \\\n0  [peoples, people, countries, albania, world, u...   \n1  [albania, united, nations, united nations, int...   \n2  [people, peoples, states, united, countries, u...   \n\n                                 Representative_Docs  \n0  [Mr. President, I should first of all like to ...  \n1  [Allow me first, Sir, to\\ncongratulate you on ...  \n2  [﻿86.\\tMr. President, on behalf of the People'...  ",
      "text/html": "<div>\n<style scoped>\n    .dataframe tbody tr th:only-of-type {\n        vertical-align: middle;\n    }\n\n    .dataframe tbody tr th {\n        vertical-align: top;\n    }\n\n    .dataframe thead th {\n        text-align: right;\n    }\n</style>\n<table border=\"1\" class=\"dataframe\">\n  <thead>\n    <tr style=\"text-align: right;\">\n      <th></th>\n      <th>Topic</th>\n      <th>Count</th>\n      <th>Name</th>\n      <th>Representation</th>\n      <th>Representative_Docs</th>\n    </tr>\n  </thead>\n  <tbody>\n    <tr>\n      <th>0</th>\n      <td>-1</td>\n      <td>8</td>\n      <td>-1_peoples_people_countries_albania</td>\n      <td>[peoples, people, countries, albania, world, u...</td>\n      <td>[Mr. President, I should first of all like to ...</td>\n    </tr>\n    <tr>\n      <th>1</th>\n      <td>0</td>\n      <td>32</td>\n      <td>0_albania_united_nations_united nations</td>\n      <td>[albania, united, nations, united nations, int...</td>\n      <td>[Allow me first, Sir, to\\ncongratulate you on ...</td>\n    </tr>\n    <tr>\n      <th>2</th>\n      <td>1</td>\n      <td>22</td>\n      <td>1_people_peoples_states_united</td>\n      <td>[people, peoples, states, united, countries, u...</td>\n      <td>[﻿86.\\tMr. President, on behalf of the People'...</td>\n    </tr>\n  </tbody>\n</table>\n</div>"
     },
     "execution_count": 27,
     "metadata": {},
     "output_type": "execute_result"
    }
   ],
   "source": [
    "topic_model.get_topic_info()"
   ],
   "metadata": {
    "collapsed": false,
    "ExecuteTime": {
     "end_time": "2023-09-26T07:44:35.228610Z",
     "start_time": "2023-09-26T07:44:35.224592Z"
    }
   }
  },
  {
   "cell_type": "code",
   "execution_count": null,
   "outputs": [],
   "source": [],
   "metadata": {
    "collapsed": false
   }
  }
 ],
 "metadata": {
  "kernelspec": {
   "display_name": "Python 3",
   "language": "python",
   "name": "python3"
  },
  "language_info": {
   "codemirror_mode": {
    "name": "ipython",
    "version": 2
   },
   "file_extension": ".py",
   "mimetype": "text/x-python",
   "name": "python",
   "nbconvert_exporter": "python",
   "pygments_lexer": "ipython2",
   "version": "2.7.6"
  }
 },
 "nbformat": 4,
 "nbformat_minor": 0
}
