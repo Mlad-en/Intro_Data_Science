{
 "cells": [
  {
   "cell_type": "code",
   "execution_count": 28,
   "metadata": {
    "collapsed": true,
    "ExecuteTime": {
     "end_time": "2023-09-26T13:20:55.533330Z",
     "start_time": "2023-09-26T13:20:55.529518Z"
    }
   },
   "outputs": [],
   "source": [
    "import pandas as pd\n",
    "from bertopic import BERTopic\n",
    "from umap import UMAP\n",
    "from hdbscan import HDBSCAN\n",
    "from sklearn.feature_extraction.text import CountVectorizer\n",
    "from bertopic.representation import KeyBERTInspired, MaximalMarginalRelevance\n",
    "import spacy"
   ]
  },
  {
   "cell_type": "code",
   "execution_count": 29,
   "outputs": [],
   "source": [
    "data = pd.read_parquet(\"Speeches_from_2013_2022_.parquet\")"
   ],
   "metadata": {
    "collapsed": false,
    "ExecuteTime": {
     "end_time": "2023-09-26T13:20:56.715871Z",
     "start_time": "2023-09-26T13:20:56.589082Z"
    }
   }
  },
  {
   "cell_type": "code",
   "execution_count": 30,
   "outputs": [],
   "source": [
    "umap_model =  UMAP(n_neighbors=5, n_components=5, min_dist=0.0, metric='cosine')\n",
    "hdbscan_model = HDBSCAN(min_cluster_size=15, metric='euclidean', cluster_selection_method='eom', prediction_data=True)\n",
    "vectorizer_model = CountVectorizer(ngram_range=(1, 4), stop_words=\"english\")\n",
    "representation_model = {\n",
    "    \"KeyBERT\": KeyBERTInspired(),\n",
    "    \"MMR\": MaximalMarginalRelevance(diversity=0.3),\n",
    "}\n",
    "\n",
    "topic_model = BERTopic(\n",
    "    embedding_model=\"multi-qa-mpnet-base-dot-v1\",\n",
    "    umap_model=umap_model,\n",
    "    hdbscan_model=hdbscan_model,\n",
    "    vectorizer_model=vectorizer_model,\n",
    "    representation_model=representation_model\n",
    ")"
   ],
   "metadata": {
    "collapsed": false,
    "ExecuteTime": {
     "end_time": "2023-09-26T13:20:58.589439Z",
     "start_time": "2023-09-26T13:20:58.583362Z"
    }
   }
  },
  {
   "cell_type": "code",
   "execution_count": 31,
   "outputs": [],
   "source": [
    "c_1 = data[\"text_split\"].to_list()\n",
    "time= data[\"year\"].to_list()"
   ],
   "metadata": {
    "collapsed": false,
    "ExecuteTime": {
     "end_time": "2023-09-26T13:21:20.983010Z",
     "start_time": "2023-09-26T13:21:20.974142Z"
    }
   }
  },
  {
   "cell_type": "code",
   "execution_count": 32,
   "outputs": [
    {
     "name": "stdout",
     "output_type": "stream",
     "text": [
      "huggingface/tokenizers: The current process just got forked, after parallelism has already been used. Disabling parallelism to avoid deadlocks...\n",
      "To disable this warning, you can either:\n",
      "\t- Avoid using `tokenizers` before the fork if possible\n",
      "\t- Explicitly set the environment variable TOKENIZERS_PARALLELISM=(true | false)\n",
      "huggingface/tokenizers: The current process just got forked, after parallelism has already been used. Disabling parallelism to avoid deadlocks...\n",
      "To disable this warning, you can either:\n",
      "\t- Avoid using `tokenizers` before the fork if possible\n",
      "\t- Explicitly set the environment variable TOKENIZERS_PARALLELISM=(true | false)\n",
      "huggingface/tokenizers: The current process just got forked, after parallelism has already been used. Disabling parallelism to avoid deadlocks...\n",
      "To disable this warning, you can either:\n",
      "\t- Avoid using `tokenizers` before the fork if possible\n",
      "\t- Explicitly set the environment variable TOKENIZERS_PARALLELISM=(true | false)\n",
      "huggingface/tokenizers: The current process just got forked, after parallelism has already been used. Disabling parallelism to avoid deadlocks...\n",
      "To disable this warning, you can either:\n",
      "\t- Avoid using `tokenizers` before the fork if possible\n",
      "\t- Explicitly set the environment variable TOKENIZERS_PARALLELISM=(true | false)\n",
      "huggingface/tokenizers: The current process just got forked, after parallelism has already been used. Disabling parallelism to avoid deadlocks...\n",
      "To disable this warning, you can either:\n",
      "\t- Avoid using `tokenizers` before the fork if possible\n",
      "\t- Explicitly set the environment variable TOKENIZERS_PARALLELISM=(true | false)\n"
     ]
    }
   ],
   "source": [
    "topics, probs = topic_model.fit_transform(c_1)"
   ],
   "metadata": {
    "collapsed": false,
    "ExecuteTime": {
     "end_time": "2023-09-26T14:21:22.377077Z",
     "start_time": "2023-09-26T13:21:21.886720Z"
    }
   }
  },
  {
   "cell_type": "code",
   "execution_count": 34,
   "outputs": [],
   "source": [
    "topics = topic_model.get_topic_info()"
   ],
   "metadata": {
    "collapsed": false,
    "ExecuteTime": {
     "end_time": "2023-09-26T15:03:27.278055Z",
     "start_time": "2023-09-26T15:03:27.274393Z"
    }
   }
  },
  {
   "cell_type": "code",
   "execution_count": 35,
   "outputs": [
    {
     "data": {
      "text/plain": "     Topic  Count                                               Name  \\\n0       -1  21235                -1_nations_united_development_world   \n1        0   2181                       0_pandemic_covid_covid 19_19   \n2        1   1013            1_terrorism_terrorist_extremism_islamic   \n3        2    919                       2_ukraine_russia_russian_war   \n4        3    646               3_palestinian_israel_state_palestine   \n..     ...    ...                                                ...   \n625    624     15  624_development goals_development goals develo...   \n626    625     15  625_assembly_year addressed assembly_year addr...   \n627    626     15  626_guatemala_peacekeeping_country guided prin...   \n628    627     15  627_mediation_alliance civilizations_civilizat...   \n629    628     15                  628_lebanon_unifil_1701_1701 2006   \n\n                                        Representation  \\\n0    [nations, united, development, world, united n...   \n1    [pandemic, covid, covid 19, 19, health, vaccin...   \n2    [terrorism, terrorist, extremism, islamic, isl...   \n3    [ukraine, russia, russian, war, ukrainian, agg...   \n4    [palestinian, israel, state, palestine, soluti...   \n..                                                 ...   \n625  [development goals, development goals developm...   \n626  [assembly, year addressed assembly, year addre...   \n627  [guatemala, peacekeeping, country guided princ...   \n628  [mediation, alliance civilizations, civilizati...   \n629  [lebanon, unifil, 1701, 1701 2006, resolution ...   \n\n                                   Representative_Docs  \n0    [Mr. President,, We are fully committed to the...  \n1    [THREAT OF TERRORISM DUE TO COVID-19, COVID-19...  \n2    [The United Nations has done much to set stand...  \n3    [The aggression against Ukraine has been stron...  \n4    [We call for a just, comprehensive, all-encomp...  \n..                                                 ...  \n625  [Development Goals and other Internationally A...  \n626  [Assembly at its sixty-ninth session, with its...  \n627  [My country’s role in the multilateral sphere ...  \n628  [We cannot condone the prioritization of oppre...  \n629  [In this context, Lebanon reiterates its commi...  \n\n[630 rows x 5 columns]",
      "text/html": "<div>\n<style scoped>\n    .dataframe tbody tr th:only-of-type {\n        vertical-align: middle;\n    }\n\n    .dataframe tbody tr th {\n        vertical-align: top;\n    }\n\n    .dataframe thead th {\n        text-align: right;\n    }\n</style>\n<table border=\"1\" class=\"dataframe\">\n  <thead>\n    <tr style=\"text-align: right;\">\n      <th></th>\n      <th>Topic</th>\n      <th>Count</th>\n      <th>Name</th>\n      <th>Representation</th>\n      <th>Representative_Docs</th>\n    </tr>\n  </thead>\n  <tbody>\n    <tr>\n      <th>0</th>\n      <td>-1</td>\n      <td>21235</td>\n      <td>-1_nations_united_development_world</td>\n      <td>[nations, united, development, world, united n...</td>\n      <td>[Mr. President,, We are fully committed to the...</td>\n    </tr>\n    <tr>\n      <th>1</th>\n      <td>0</td>\n      <td>2181</td>\n      <td>0_pandemic_covid_covid 19_19</td>\n      <td>[pandemic, covid, covid 19, 19, health, vaccin...</td>\n      <td>[THREAT OF TERRORISM DUE TO COVID-19, COVID-19...</td>\n    </tr>\n    <tr>\n      <th>2</th>\n      <td>1</td>\n      <td>1013</td>\n      <td>1_terrorism_terrorist_extremism_islamic</td>\n      <td>[terrorism, terrorist, extremism, islamic, isl...</td>\n      <td>[The United Nations has done much to set stand...</td>\n    </tr>\n    <tr>\n      <th>3</th>\n      <td>2</td>\n      <td>919</td>\n      <td>2_ukraine_russia_russian_war</td>\n      <td>[ukraine, russia, russian, war, ukrainian, agg...</td>\n      <td>[The aggression against Ukraine has been stron...</td>\n    </tr>\n    <tr>\n      <th>4</th>\n      <td>3</td>\n      <td>646</td>\n      <td>3_palestinian_israel_state_palestine</td>\n      <td>[palestinian, israel, state, palestine, soluti...</td>\n      <td>[We call for a just, comprehensive, all-encomp...</td>\n    </tr>\n    <tr>\n      <th>...</th>\n      <td>...</td>\n      <td>...</td>\n      <td>...</td>\n      <td>...</td>\n      <td>...</td>\n    </tr>\n    <tr>\n      <th>625</th>\n      <td>624</td>\n      <td>15</td>\n      <td>624_development goals_development goals develo...</td>\n      <td>[development goals, development goals developm...</td>\n      <td>[Development Goals and other Internationally A...</td>\n    </tr>\n    <tr>\n      <th>626</th>\n      <td>625</td>\n      <td>15</td>\n      <td>625_assembly_year addressed assembly_year addr...</td>\n      <td>[assembly, year addressed assembly, year addre...</td>\n      <td>[Assembly at its sixty-ninth session, with its...</td>\n    </tr>\n    <tr>\n      <th>627</th>\n      <td>626</td>\n      <td>15</td>\n      <td>626_guatemala_peacekeeping_country guided prin...</td>\n      <td>[guatemala, peacekeeping, country guided princ...</td>\n      <td>[My country’s role in the multilateral sphere ...</td>\n    </tr>\n    <tr>\n      <th>628</th>\n      <td>627</td>\n      <td>15</td>\n      <td>627_mediation_alliance civilizations_civilizat...</td>\n      <td>[mediation, alliance civilizations, civilizati...</td>\n      <td>[We cannot condone the prioritization of oppre...</td>\n    </tr>\n    <tr>\n      <th>629</th>\n      <td>628</td>\n      <td>15</td>\n      <td>628_lebanon_unifil_1701_1701 2006</td>\n      <td>[lebanon, unifil, 1701, 1701 2006, resolution ...</td>\n      <td>[In this context, Lebanon reiterates its commi...</td>\n    </tr>\n  </tbody>\n</table>\n<p>630 rows × 5 columns</p>\n</div>"
     },
     "execution_count": 35,
     "metadata": {},
     "output_type": "execute_result"
    }
   ],
   "source": [
    "topics.to_parquet(\"Topics_\")"
   ],
   "metadata": {
    "collapsed": false,
    "ExecuteTime": {
     "end_time": "2023-09-26T15:03:33.137433Z",
     "start_time": "2023-09-26T15:03:33.117291Z"
    }
   }
  },
  {
   "cell_type": "code",
   "execution_count": 37,
   "outputs": [
    {
     "name": "stderr",
     "output_type": "stream",
     "text": [
      "/Users/mladenrm/.local/share/virtualenvs/Intro_Data_Science-DkECzZON/lib/python3.10/site-packages/scipy/sparse/_index.py:143: SparseEfficiencyWarning: Changing the sparsity structure of a csr_matrix is expensive. lil_matrix is more efficient.\n",
      "  self._set_arrayXarray(i, j, x)\n"
     ]
    }
   ],
   "source": [
    "topic_model.save(\"topic_model_bert_simple\")"
   ],
   "metadata": {
    "collapsed": false,
    "ExecuteTime": {
     "end_time": "2023-09-26T15:18:20.421806Z",
     "start_time": "2023-09-26T15:15:16.750475Z"
    }
   }
  },
  {
   "cell_type": "code",
   "execution_count": null,
   "outputs": [],
   "source": [],
   "metadata": {
    "collapsed": false
   }
  }
 ],
 "metadata": {
  "kernelspec": {
   "display_name": "Python 3",
   "language": "python",
   "name": "python3"
  },
  "language_info": {
   "codemirror_mode": {
    "name": "ipython",
    "version": 2
   },
   "file_extension": ".py",
   "mimetype": "text/x-python",
   "name": "python",
   "nbconvert_exporter": "python",
   "pygments_lexer": "ipython2",
   "version": "2.7.6"
  }
 },
 "nbformat": 4,
 "nbformat_minor": 0
}
