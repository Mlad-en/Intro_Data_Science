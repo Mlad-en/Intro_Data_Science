{
 "cells": [
  {
   "cell_type": "code",
   "execution_count": 1,
   "metadata": {
    "collapsed": true,
    "ExecuteTime": {
     "end_time": "2023-09-26T11:50:17.414642Z",
     "start_time": "2023-09-26T11:50:17.072723Z"
    }
   },
   "outputs": [],
   "source": [
    "import pandas as pd"
   ]
  },
  {
   "cell_type": "code",
   "execution_count": 63,
   "outputs": [],
   "source": [
    "df = pd.read_parquet(\"all_speeches_1960_2022.parquet\")"
   ],
   "metadata": {
    "collapsed": false,
    "ExecuteTime": {
     "end_time": "2023-09-26T12:37:25.098810Z",
     "start_time": "2023-09-26T12:37:24.685670Z"
    }
   }
  },
  {
   "cell_type": "code",
   "execution_count": 64,
   "outputs": [],
   "source": [
    "df = df[df['year'] >= 2013]"
   ],
   "metadata": {
    "collapsed": false,
    "ExecuteTime": {
     "end_time": "2023-09-26T12:37:25.176479Z",
     "start_time": "2023-09-26T12:37:25.116426Z"
    }
   }
  },
  {
   "cell_type": "code",
   "execution_count": 65,
   "outputs": [],
   "source": [
    "import re\n",
    "\n",
    "def replace_new_paragraph_line(text):\n",
    "    pattern = re.compile(\"\\n[A-Z]\")\n",
    "    matches = re.finditer(pattern, text)\n",
    "    positions = [match.start() for match in matches]\n",
    "    initial_position = 0\n",
    "    text_list = []\n",
    "    for end_position in positions:\n",
    "        text_list.append(text[initial_position:end_position])\n",
    "        initial_position = end_position + 1\n",
    "    text_list.append(text[initial_position:])\n",
    "    return text_list"
   ],
   "metadata": {
    "collapsed": false,
    "ExecuteTime": {
     "end_time": "2023-09-26T12:37:26.293340Z",
     "start_time": "2023-09-26T12:37:26.289527Z"
    }
   }
  },
  {
   "cell_type": "code",
   "execution_count": 67,
   "outputs": [],
   "source": [
    "df[\"text_split\"] = df[\"text\"].apply(lambda x: replace_new_paragraph_line(x))"
   ],
   "metadata": {
    "collapsed": false,
    "ExecuteTime": {
     "end_time": "2023-09-26T12:38:08.671730Z",
     "start_time": "2023-09-26T12:38:08.638502Z"
    }
   }
  },
  {
   "cell_type": "code",
   "execution_count": 73,
   "outputs": [],
   "source": [
    "df.drop(\"text\", axis=1).explode(\"text_split\").to_parquet(\"Speeches_from_2013_2022_.parquet\")"
   ],
   "metadata": {
    "collapsed": false,
    "ExecuteTime": {
     "end_time": "2023-09-26T12:45:49.644345Z",
     "start_time": "2023-09-26T12:45:49.458136Z"
    }
   }
  },
  {
   "cell_type": "code",
   "execution_count": null,
   "outputs": [],
   "source": [],
   "metadata": {
    "collapsed": false
   }
  }
 ],
 "metadata": {
  "kernelspec": {
   "display_name": "Python 3",
   "language": "python",
   "name": "python3"
  },
  "language_info": {
   "codemirror_mode": {
    "name": "ipython",
    "version": 2
   },
   "file_extension": ".py",
   "mimetype": "text/x-python",
   "name": "python",
   "nbconvert_exporter": "python",
   "pygments_lexer": "ipython2",
   "version": "2.7.6"
  }
 },
 "nbformat": 4,
 "nbformat_minor": 0
}
