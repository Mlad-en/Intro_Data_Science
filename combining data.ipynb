{
 "cells": [
  {
   "cell_type": "code",
   "execution_count": 1,
   "id": "056baab7",
   "metadata": {},
   "outputs": [],
   "source": [
    "import os\n",
    "import numpy as np\n",
    "import pandas as pd"
   ]
  },
  {
   "cell_type": "markdown",
   "id": "cd942adc",
   "metadata": {},
   "source": [
    "## Import dataset from Mike and Barbara's sentiment"
   ]
  },
  {
   "cell_type": "code",
   "execution_count": 34,
   "id": "bd3a08db",
   "metadata": {},
   "outputs": [],
   "source": [
    "df = pd.read_parquet(\"https://github.com/Mlad-en/Intro_Data_Science/raw/main/cleaned_data/climate_change_sentiment_and_proportion_talked_about_climate_change.parquet\")"
   ]
  },
  {
   "cell_type": "markdown",
   "id": "052c56b7",
   "metadata": {},
   "source": [
    "# !!!Your code and the sentiment analysis should actually come above. The sentiment analysis code is provided below"
   ]
  },
  {
   "cell_type": "code",
   "execution_count": 3,
   "id": "edc4c1b4",
   "metadata": {},
   "outputs": [],
   "source": [
    "## Drop the rows where the text is NaN (so no speech)\n",
    "# df = df[df['text_split'].notna()]\n",
    "\n",
    "# from nltk.sentiment import SentimentIntensityAnalyzer\n",
    "# sia = SentimentIntensityAnalyzer()\n",
    "\n",
    "# df['sentiment'] = [sia.polarity_scores(speech)['compound'] for speech in df['text_split']]"
   ]
  },
  {
   "cell_type": "markdown",
   "id": "a923c152",
   "metadata": {},
   "source": [
    "## Import dataset with continents"
   ]
  },
  {
   "cell_type": "code",
   "execution_count": 35,
   "id": "faf9ae5d",
   "metadata": {},
   "outputs": [],
   "source": [
    "df_codes = pd.read_csv('UNSD — Methodology.csv', sep=\";\")\n",
    "df_codes = df_codes[['Region Name', 'Sub-region Name', 'ISO-alpha3 Code' ]].rename(columns={'ISO-alpha3 Code':'iso_3'})"
   ]
  },
  {
   "cell_type": "markdown",
   "id": "c7431a47",
   "metadata": {},
   "source": [
    "## Import dataset with co2 emissions"
   ]
  },
  {
   "cell_type": "code",
   "execution_count": 36,
   "id": "18661073",
   "metadata": {},
   "outputs": [],
   "source": [
    "df_climate = pd.read_csv('co-emissions-per-capita.csv', sep=\",\", dtype=str)\n",
    "df_climate = df_climate.rename(columns={'Code':'iso_3', 'Year':'year'})\n"
   ]
  },
  {
   "cell_type": "code",
   "execution_count": 37,
   "id": "c0be60ef",
   "metadata": {},
   "outputs": [
    {
     "name": "stderr",
     "output_type": "stream",
     "text": [
      "C:\\Users\\easto\\AppData\\Local\\Temp\\ipykernel_41476\\2256849972.py:1: FutureWarning: The default value of regex will change from True to False in a future version. In addition, single character regular expressions will *not* be treated as literal strings when regex=True.\n",
      "  df_climate['Annual CO₂ emissions (per capita)']=df_climate['Annual CO₂ emissions (per capita)'].str.replace(\".\", \"\").astype(float)\n"
     ]
    }
   ],
   "source": [
    "df_climate['Annual CO₂ emissions (per capita)']=df_climate['Annual CO₂ emissions (per capita)'].str.replace(\".\", \"\").astype(float)\n",
    "df_climate['year'] = df_climate['year'].astype(int)"
   ]
  },
  {
   "cell_type": "markdown",
   "id": "64a7bd56",
   "metadata": {},
   "source": [
    "## Merge"
   ]
  },
  {
   "cell_type": "code",
   "execution_count": 38,
   "id": "a0ba3dfa",
   "metadata": {},
   "outputs": [],
   "source": [
    "df_final = pd.merge(df, df_climate, on=['iso_3', 'year'])"
   ]
  },
  {
   "cell_type": "code",
   "execution_count": 39,
   "id": "7ad79180",
   "metadata": {},
   "outputs": [],
   "source": [
    "df_final = pd.merge(df_final, df_codes, on=['iso_3'])"
   ]
  },
  {
   "cell_type": "markdown",
   "id": "1474b3e9",
   "metadata": {},
   "source": [
    "## Order"
   ]
  },
  {
   "cell_type": "code",
   "execution_count": 40,
   "id": "c471e2ae",
   "metadata": {},
   "outputs": [],
   "source": [
    "df_final.sort_values(['iso_3', 'year'], ascending=True, inplace=True)"
   ]
  },
  {
   "cell_type": "markdown",
   "id": "f8cc39b2",
   "metadata": {},
   "source": [
    "## Add the difference in CO2 and the CO2 of next year, per country"
   ]
  },
  {
   "cell_type": "code",
   "execution_count": 41,
   "id": "50294065",
   "metadata": {},
   "outputs": [],
   "source": [
    "diff = []\n",
    "for i in sorted(list(set(df_final.iso_3.values))):\n",
    "    df = df_final[df_final['iso_3'] == i][['iso_3', 'year', 'Annual CO₂ emissions (per capita)']]\n",
    "    df['diff_co2'] = df['Annual CO₂ emissions (per capita)'].diff()\n",
    "    for j in df['diff_co2'].values:\n",
    "        diff.append(j)"
   ]
  },
  {
   "cell_type": "code",
   "execution_count": 49,
   "id": "9a614941",
   "metadata": {},
   "outputs": [],
   "source": [
    "y = []\n",
    "for i in sorted(list(set(df_final.iso_3.values))):\n",
    "    df = df_final[df_final['iso_3'] == i][['iso_3', 'year', 'Annual CO₂ emissions (per capita)']]\n",
    "    for j in list(df['year'].values)[:-1]:\n",
    "        t = df[df['year']==(j+1)]['Annual CO₂ emissions (per capita)'].values\n",
    "        if len(t) > 0:\n",
    "            y.append(t[0])\n",
    "        else:\n",
    "            y.append(np.nan)\n",
    "    y.append(np.nan)"
   ]
  },
  {
   "cell_type": "code",
   "execution_count": 50,
   "id": "d12b0af8",
   "metadata": {},
   "outputs": [],
   "source": [
    "df_final['diff_co2'] = diff"
   ]
  },
  {
   "cell_type": "code",
   "execution_count": 51,
   "id": "82f75640",
   "metadata": {},
   "outputs": [],
   "source": [
    "df_final['next_year_co2'] = y"
   ]
  },
  {
   "cell_type": "markdown",
   "id": "9f2e7bee",
   "metadata": {},
   "source": [
    "## Diff for time spent"
   ]
  },
  {
   "cell_type": "code",
   "execution_count": 52,
   "id": "e215ee19",
   "metadata": {},
   "outputs": [],
   "source": [
    "diff2 = []\n",
    "for i in sorted(list(set(df_final.iso_3.values))):\n",
    "    df = df_final[df_final['iso_3'] == i][['iso_3', 'year', 'amount_of_time_spent_on_climate']]\n",
    "    df['diff_time_spent'] = df['amount_of_time_spent_on_climate'].diff()\n",
    "    for j in df['diff_time_spent'].values:\n",
    "        diff2.append(j)"
   ]
  },
  {
   "cell_type": "code",
   "execution_count": 53,
   "id": "634fdd97",
   "metadata": {},
   "outputs": [],
   "source": [
    "df_final['diff_time_spent'] = diff2"
   ]
  },
  {
   "cell_type": "markdown",
   "id": "a20bb28c",
   "metadata": {},
   "source": [
    "## The dataset"
   ]
  },
  {
   "cell_type": "code",
   "execution_count": 54,
   "id": "ed40a4f6",
   "metadata": {},
   "outputs": [
    {
     "data": {
      "text/html": [
       "<div>\n",
       "<style scoped>\n",
       "    .dataframe tbody tr th:only-of-type {\n",
       "        vertical-align: middle;\n",
       "    }\n",
       "\n",
       "    .dataframe tbody tr th {\n",
       "        vertical-align: top;\n",
       "    }\n",
       "\n",
       "    .dataframe thead th {\n",
       "        text-align: right;\n",
       "    }\n",
       "</style>\n",
       "<table border=\"1\" class=\"dataframe\">\n",
       "  <thead>\n",
       "    <tr style=\"text-align: right;\">\n",
       "      <th></th>\n",
       "      <th>iso_3</th>\n",
       "      <th>year</th>\n",
       "      <th>sentiment</th>\n",
       "      <th>total_amount_paragraphs</th>\n",
       "      <th>amount_climate_change_paragraphs</th>\n",
       "      <th>amount_of_time_spent_on_climate</th>\n",
       "      <th>Entity</th>\n",
       "      <th>Annual CO₂ emissions (per capita)</th>\n",
       "      <th>Region Name</th>\n",
       "      <th>Sub-region Name</th>\n",
       "      <th>diff_co2</th>\n",
       "      <th>next_year_co2</th>\n",
       "      <th>diff_time_spent</th>\n",
       "    </tr>\n",
       "  </thead>\n",
       "  <tbody>\n",
       "    <tr>\n",
       "      <th>0</th>\n",
       "      <td>AFG</td>\n",
       "      <td>2013</td>\n",
       "      <td>NaN</td>\n",
       "      <td>37</td>\n",
       "      <td>0</td>\n",
       "      <td>0.000000</td>\n",
       "      <td>Afghanistan</td>\n",
       "      <td>29328325.0</td>\n",
       "      <td>Asia</td>\n",
       "      <td>Southern Asia</td>\n",
       "      <td>NaN</td>\n",
       "      <td>2802986.0</td>\n",
       "      <td>NaN</td>\n",
       "    </tr>\n",
       "    <tr>\n",
       "      <th>1</th>\n",
       "      <td>AFG</td>\n",
       "      <td>2014</td>\n",
       "      <td>0.427633</td>\n",
       "      <td>22</td>\n",
       "      <td>3</td>\n",
       "      <td>0.136364</td>\n",
       "      <td>Afghanistan</td>\n",
       "      <td>2802986.0</td>\n",
       "      <td>Asia</td>\n",
       "      <td>Southern Asia</td>\n",
       "      <td>-26525339.0</td>\n",
       "      <td>29007638.0</td>\n",
       "      <td>0.136364</td>\n",
       "    </tr>\n",
       "    <tr>\n",
       "      <th>2</th>\n",
       "      <td>AFG</td>\n",
       "      <td>2015</td>\n",
       "      <td>0.718400</td>\n",
       "      <td>19</td>\n",
       "      <td>1</td>\n",
       "      <td>0.052632</td>\n",
       "      <td>Afghanistan</td>\n",
       "      <td>29007638.0</td>\n",
       "      <td>Asia</td>\n",
       "      <td>Southern Asia</td>\n",
       "      <td>26204652.0</td>\n",
       "      <td>2617953.0</td>\n",
       "      <td>-0.083732</td>\n",
       "    </tr>\n",
       "    <tr>\n",
       "      <th>3</th>\n",
       "      <td>AFG</td>\n",
       "      <td>2016</td>\n",
       "      <td>NaN</td>\n",
       "      <td>32</td>\n",
       "      <td>0</td>\n",
       "      <td>0.000000</td>\n",
       "      <td>Afghanistan</td>\n",
       "      <td>2617953.0</td>\n",
       "      <td>Asia</td>\n",
       "      <td>Southern Asia</td>\n",
       "      <td>-26389685.0</td>\n",
       "      <td>2768525.0</td>\n",
       "      <td>-0.052632</td>\n",
       "    </tr>\n",
       "    <tr>\n",
       "      <th>4</th>\n",
       "      <td>AFG</td>\n",
       "      <td>2017</td>\n",
       "      <td>NaN</td>\n",
       "      <td>18</td>\n",
       "      <td>0</td>\n",
       "      <td>0.000000</td>\n",
       "      <td>Afghanistan</td>\n",
       "      <td>2768525.0</td>\n",
       "      <td>Asia</td>\n",
       "      <td>Southern Asia</td>\n",
       "      <td>150572.0</td>\n",
       "      <td>29487586.0</td>\n",
       "      <td>0.000000</td>\n",
       "    </tr>\n",
       "    <tr>\n",
       "      <th>...</th>\n",
       "      <td>...</td>\n",
       "      <td>...</td>\n",
       "      <td>...</td>\n",
       "      <td>...</td>\n",
       "      <td>...</td>\n",
       "      <td>...</td>\n",
       "      <td>...</td>\n",
       "      <td>...</td>\n",
       "      <td>...</td>\n",
       "      <td>...</td>\n",
       "      <td>...</td>\n",
       "      <td>...</td>\n",
       "      <td>...</td>\n",
       "    </tr>\n",
       "    <tr>\n",
       "      <th>1527</th>\n",
       "      <td>ZWE</td>\n",
       "      <td>2017</td>\n",
       "      <td>0.419033</td>\n",
       "      <td>15</td>\n",
       "      <td>3</td>\n",
       "      <td>0.200000</td>\n",
       "      <td>Zimbabwe</td>\n",
       "      <td>65053254.0</td>\n",
       "      <td>Africa</td>\n",
       "      <td>Sub-Saharan Africa</td>\n",
       "      <td>-7828969.0</td>\n",
       "      <td>7836386.0</td>\n",
       "      <td>0.200000</td>\n",
       "    </tr>\n",
       "    <tr>\n",
       "      <th>1528</th>\n",
       "      <td>ZWE</td>\n",
       "      <td>2018</td>\n",
       "      <td>0.401900</td>\n",
       "      <td>10</td>\n",
       "      <td>1</td>\n",
       "      <td>0.100000</td>\n",
       "      <td>Zimbabwe</td>\n",
       "      <td>7836386.0</td>\n",
       "      <td>Africa</td>\n",
       "      <td>Sub-Saharan Africa</td>\n",
       "      <td>-57216868.0</td>\n",
       "      <td>72386146.0</td>\n",
       "      <td>-0.100000</td>\n",
       "    </tr>\n",
       "    <tr>\n",
       "      <th>1529</th>\n",
       "      <td>ZWE</td>\n",
       "      <td>2019</td>\n",
       "      <td>-0.184433</td>\n",
       "      <td>16</td>\n",
       "      <td>3</td>\n",
       "      <td>0.187500</td>\n",
       "      <td>Zimbabwe</td>\n",
       "      <td>72386146.0</td>\n",
       "      <td>Africa</td>\n",
       "      <td>Sub-Saharan Africa</td>\n",
       "      <td>64549760.0</td>\n",
       "      <td>67697036.0</td>\n",
       "      <td>0.087500</td>\n",
       "    </tr>\n",
       "    <tr>\n",
       "      <th>1530</th>\n",
       "      <td>ZWE</td>\n",
       "      <td>2020</td>\n",
       "      <td>NaN</td>\n",
       "      <td>26</td>\n",
       "      <td>0</td>\n",
       "      <td>0.000000</td>\n",
       "      <td>Zimbabwe</td>\n",
       "      <td>67697036.0</td>\n",
       "      <td>Africa</td>\n",
       "      <td>Sub-Saharan Africa</td>\n",
       "      <td>-4689110.0</td>\n",
       "      <td>7062929.0</td>\n",
       "      <td>-0.187500</td>\n",
       "    </tr>\n",
       "    <tr>\n",
       "      <th>1531</th>\n",
       "      <td>ZWE</td>\n",
       "      <td>2021</td>\n",
       "      <td>0.359300</td>\n",
       "      <td>31</td>\n",
       "      <td>4</td>\n",
       "      <td>0.129032</td>\n",
       "      <td>Zimbabwe</td>\n",
       "      <td>7062929.0</td>\n",
       "      <td>Africa</td>\n",
       "      <td>Sub-Saharan Africa</td>\n",
       "      <td>-60634107.0</td>\n",
       "      <td>NaN</td>\n",
       "      <td>0.129032</td>\n",
       "    </tr>\n",
       "  </tbody>\n",
       "</table>\n",
       "<p>1532 rows × 13 columns</p>\n",
       "</div>"
      ],
      "text/plain": [
       "     iso_3  year  sentiment  total_amount_paragraphs  \\\n",
       "0      AFG  2013        NaN                       37   \n",
       "1      AFG  2014   0.427633                       22   \n",
       "2      AFG  2015   0.718400                       19   \n",
       "3      AFG  2016        NaN                       32   \n",
       "4      AFG  2017        NaN                       18   \n",
       "...    ...   ...        ...                      ...   \n",
       "1527   ZWE  2017   0.419033                       15   \n",
       "1528   ZWE  2018   0.401900                       10   \n",
       "1529   ZWE  2019  -0.184433                       16   \n",
       "1530   ZWE  2020        NaN                       26   \n",
       "1531   ZWE  2021   0.359300                       31   \n",
       "\n",
       "      amount_climate_change_paragraphs  amount_of_time_spent_on_climate  \\\n",
       "0                                    0                         0.000000   \n",
       "1                                    3                         0.136364   \n",
       "2                                    1                         0.052632   \n",
       "3                                    0                         0.000000   \n",
       "4                                    0                         0.000000   \n",
       "...                                ...                              ...   \n",
       "1527                                 3                         0.200000   \n",
       "1528                                 1                         0.100000   \n",
       "1529                                 3                         0.187500   \n",
       "1530                                 0                         0.000000   \n",
       "1531                                 4                         0.129032   \n",
       "\n",
       "           Entity  Annual CO₂ emissions (per capita) Region Name  \\\n",
       "0     Afghanistan                         29328325.0        Asia   \n",
       "1     Afghanistan                          2802986.0        Asia   \n",
       "2     Afghanistan                         29007638.0        Asia   \n",
       "3     Afghanistan                          2617953.0        Asia   \n",
       "4     Afghanistan                          2768525.0        Asia   \n",
       "...           ...                                ...         ...   \n",
       "1527     Zimbabwe                         65053254.0      Africa   \n",
       "1528     Zimbabwe                          7836386.0      Africa   \n",
       "1529     Zimbabwe                         72386146.0      Africa   \n",
       "1530     Zimbabwe                         67697036.0      Africa   \n",
       "1531     Zimbabwe                          7062929.0      Africa   \n",
       "\n",
       "         Sub-region Name    diff_co2  next_year_co2  diff_time_spent  \n",
       "0          Southern Asia         NaN      2802986.0              NaN  \n",
       "1          Southern Asia -26525339.0     29007638.0         0.136364  \n",
       "2          Southern Asia  26204652.0      2617953.0        -0.083732  \n",
       "3          Southern Asia -26389685.0      2768525.0        -0.052632  \n",
       "4          Southern Asia    150572.0     29487586.0         0.000000  \n",
       "...                  ...         ...            ...              ...  \n",
       "1527  Sub-Saharan Africa  -7828969.0      7836386.0         0.200000  \n",
       "1528  Sub-Saharan Africa -57216868.0     72386146.0        -0.100000  \n",
       "1529  Sub-Saharan Africa  64549760.0     67697036.0         0.087500  \n",
       "1530  Sub-Saharan Africa  -4689110.0      7062929.0        -0.187500  \n",
       "1531  Sub-Saharan Africa -60634107.0            NaN         0.129032  \n",
       "\n",
       "[1532 rows x 13 columns]"
      ]
     },
     "execution_count": 54,
     "metadata": {},
     "output_type": "execute_result"
    }
   ],
   "source": [
    "df_final"
   ]
  },
  {
   "cell_type": "code",
   "execution_count": 55,
   "id": "4286069f",
   "metadata": {},
   "outputs": [],
   "source": [
    "df_final.to_parquet('FINAL_DATA_assignment1.parquet')"
   ]
  },
  {
   "cell_type": "code",
   "execution_count": null,
   "id": "7fd88018",
   "metadata": {},
   "outputs": [],
   "source": []
  }
 ],
 "metadata": {
  "kernelspec": {
   "display_name": "Python 3 (ipykernel)",
   "language": "python",
   "name": "python3"
  },
  "language_info": {
   "codemirror_mode": {
    "name": "ipython",
    "version": 3
   },
   "file_extension": ".py",
   "mimetype": "text/x-python",
   "name": "python",
   "nbconvert_exporter": "python",
   "pygments_lexer": "ipython3",
   "version": "3.11.4"
  }
 },
 "nbformat": 4,
 "nbformat_minor": 5
}
