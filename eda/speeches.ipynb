{
 "cells": [
  {
   "cell_type": "code",
   "execution_count": 93,
   "outputs": [],
   "source": [
    "import os\n",
    "from pathlib import Path\n",
    "import pandas as pd"
   ],
   "metadata": {
    "collapsed": false,
    "ExecuteTime": {
     "end_time": "2023-09-27T14:41:05.372121Z",
     "start_time": "2023-09-27T14:41:05.348142Z"
    }
   }
  },
  {
   "cell_type": "code",
   "execution_count": 94,
   "outputs": [],
   "source": [
    "root = Path(\"./..\").resolve()\n",
    "exploratory_datasets_path = root / \"exploratory_datasets\"\n",
    "assert os.path.exists(exploratory_datasets_path)\n",
    "all_speeches_folder = exploratory_datasets_path / \"TXT\"\n",
    "assert os.path.exists(all_speeches_folder)"
   ],
   "metadata": {
    "collapsed": false,
    "ExecuteTime": {
     "end_time": "2023-09-27T14:41:05.372280Z",
     "start_time": "2023-09-27T14:41:05.353977Z"
    }
   }
  },
  {
   "cell_type": "code",
   "execution_count": 95,
   "outputs": [],
   "source": [
    "folders_to_read = [session for session in [folder for folder in os.listdir(all_speeches_folder) if not folder.startswith(\".\")] if int(session[-4:]) >= 2013]"
   ],
   "metadata": {
    "collapsed": false,
    "ExecuteTime": {
     "end_time": "2023-09-27T14:41:05.382172Z",
     "start_time": "2023-09-27T14:41:05.360917Z"
    }
   }
  },
  {
   "cell_type": "code",
   "execution_count": 96,
   "outputs": [],
   "source": [
    "folders_to_read.sort(key=lambda x: int(x[-4:]))"
   ],
   "metadata": {
    "collapsed": false,
    "ExecuteTime": {
     "end_time": "2023-09-27T14:41:05.382383Z",
     "start_time": "2023-09-27T14:41:05.367293Z"
    }
   }
  },
  {
   "cell_type": "code",
   "execution_count": 97,
   "outputs": [],
   "source": [
    "all_speeches_to_read = []\n",
    "\n",
    "for folder in folders_to_read:\n",
    "    speeches_in_folder = [\n",
    "        (open(all_speeches_folder / folder / speech, 'r').read(), speech[0:3], speech[-8:-4])\n",
    "        for speech in os.listdir(all_speeches_folder / folder)\n",
    "        if not speech.startswith(\".\")\n",
    "    ]\n",
    "    all_speeches_to_read.extend(speeches_in_folder)\n"
   ],
   "metadata": {
    "collapsed": false,
    "ExecuteTime": {
     "end_time": "2023-09-27T14:41:05.572681Z",
     "start_time": "2023-09-27T14:41:05.375439Z"
    }
   }
  },
  {
   "cell_type": "code",
   "execution_count": 98,
   "outputs": [],
   "source": [
    "all_speeches = pd.DataFrame(all_speeches_to_read)"
   ],
   "metadata": {
    "collapsed": false,
    "ExecuteTime": {
     "end_time": "2023-09-27T14:41:05.587243Z",
     "start_time": "2023-09-27T14:41:05.571484Z"
    }
   }
  },
  {
   "cell_type": "code",
   "execution_count": 99,
   "outputs": [],
   "source": [
    "all_speeches.columns = ['text', 'iso_3', 'year']"
   ],
   "metadata": {
    "collapsed": false,
    "ExecuteTime": {
     "end_time": "2023-09-27T14:41:05.587507Z",
     "start_time": "2023-09-27T14:41:05.575548Z"
    }
   }
  },
  {
   "cell_type": "code",
   "execution_count": 100,
   "outputs": [],
   "source": [
    "all_speeches[\"year\"] = all_speeches[\"year\"].astype(int)"
   ],
   "metadata": {
    "collapsed": false,
    "ExecuteTime": {
     "end_time": "2023-09-27T14:41:05.587587Z",
     "start_time": "2023-09-27T14:41:05.581329Z"
    }
   }
  },
  {
   "cell_type": "code",
   "execution_count": 101,
   "outputs": [],
   "source": [
    "all_speeches.to_parquet(root / \"cleaned_data\" / \"all_speeches_2013_2022.parquet\")"
   ],
   "metadata": {
    "collapsed": false,
    "ExecuteTime": {
     "end_time": "2023-09-27T14:41:05.743922Z",
     "start_time": "2023-09-27T14:41:05.587430Z"
    }
   }
  },
  {
   "cell_type": "code",
   "execution_count": 101,
   "outputs": [],
   "source": [],
   "metadata": {
    "collapsed": false,
    "ExecuteTime": {
     "end_time": "2023-09-27T14:41:05.748407Z",
     "start_time": "2023-09-27T14:41:05.745117Z"
    }
   }
  }
 ],
 "metadata": {
  "kernelspec": {
   "display_name": "Python 3 (ipykernel)",
   "language": "python",
   "name": "python3"
  },
  "language_info": {
   "codemirror_mode": {
    "name": "ipython",
    "version": 3
   },
   "file_extension": ".py",
   "mimetype": "text/x-python",
   "name": "python",
   "nbconvert_exporter": "python",
   "pygments_lexer": "ipython3",
   "version": "3.11.4"
  }
 },
 "nbformat": 4,
 "nbformat_minor": 5
}
