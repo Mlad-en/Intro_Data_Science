{
 "cells": [
  {
   "cell_type": "code",
   "execution_count": 117,
   "metadata": {
    "collapsed": true,
    "ExecuteTime": {
     "end_time": "2023-09-27T14:30:15.794052Z",
     "start_time": "2023-09-27T14:30:15.749349Z"
    }
   },
   "outputs": [],
   "source": [
    "import pandas as pd\n",
    "from os import path\n",
    "from pathlib import Path"
   ]
  },
  {
   "cell_type": "code",
   "execution_count": 118,
   "outputs": [],
   "source": [
    "root = Path(\"./..\").resolve()\n",
    "datasets_folder = root / \"exploratory_datasets\"\n",
    "cleaned_data_folder = root / \"cleaned_data\"\n",
    "corruption_file = \"CPI2022_GlobalResultsTrends.xlsx\"\n"
   ],
   "metadata": {
    "collapsed": false,
    "ExecuteTime": {
     "end_time": "2023-09-27T14:30:15.794331Z",
     "start_time": "2023-09-27T14:30:15.757108Z"
    }
   }
  },
  {
   "cell_type": "code",
   "execution_count": 119,
   "outputs": [],
   "source": [
    "corruption = pd.read_excel(datasets_folder / corruption_file, engine=\"openpyxl\", sheet_name=\"CPI Timeseries 2012 - 2022\", skiprows=2)"
   ],
   "metadata": {
    "collapsed": false,
    "ExecuteTime": {
     "end_time": "2023-09-27T14:30:16.023717Z",
     "start_time": "2023-09-27T14:30:15.762196Z"
    }
   }
  },
  {
   "cell_type": "code",
   "execution_count": 120,
   "outputs": [],
   "source": [
    "corruption_scores = [col_name for col_name in corruption.columns if col_name.startswith(\"CPI Score\") or col_name.startswith(\"CPI score\")]\n",
    "corruption_sources = [col_name for col_name in corruption.columns if col_name.startswith(\"Sources\")]\n",
    "standard_errors = [col_name for col_name in corruption.columns if col_name.startswith(\"Standard error\")]\n",
    "ranks  = [col_name for col_name in corruption.columns if col_name.startswith(\"Rank\")]"
   ],
   "metadata": {
    "collapsed": false,
    "ExecuteTime": {
     "end_time": "2023-09-27T14:30:16.029846Z",
     "start_time": "2023-09-27T14:30:16.026545Z"
    }
   }
  },
  {
   "cell_type": "code",
   "execution_count": 121,
   "outputs": [],
   "source": [
    "remaining_columns = [\n",
    "    col for col in corruption.columns\n",
    "    if col not in corruption_sources\n",
    "       and col not in corruption_scores\n",
    "       and col not in standard_errors\n",
    "       and col not in ranks\n",
    "]"
   ],
   "metadata": {
    "collapsed": false,
    "ExecuteTime": {
     "end_time": "2023-09-27T14:30:16.036553Z",
     "start_time": "2023-09-27T14:30:16.033419Z"
    }
   }
  },
  {
   "cell_type": "markdown",
   "source": [
    "Dropping Rank from data sources as it is not available for all years (only available 2017 - 2022)"
   ],
   "metadata": {
    "collapsed": false
   }
  },
  {
   "cell_type": "code",
   "execution_count": 122,
   "outputs": [],
   "source": [
    "corruption = corruption.drop(ranks, axis=1)"
   ],
   "metadata": {
    "collapsed": false,
    "ExecuteTime": {
     "end_time": "2023-09-27T14:30:16.042158Z",
     "start_time": "2023-09-27T14:30:16.038034Z"
    }
   }
  },
  {
   "cell_type": "markdown",
   "source": [
    "Converting from a long to a short column format"
   ],
   "metadata": {
    "collapsed": false
   }
  },
  {
   "cell_type": "code",
   "execution_count": 123,
   "outputs": [],
   "source": [
    "corruption_scores_table =  corruption.melt(id_vars = remaining_columns, value_name=\"corruption_scores\", value_vars=corruption_scores, var_name=\"indicator\")\n",
    "corruption_scores_table['year'] = corruption_scores_table['indicator'].str.split().apply(lambda x: x[-1])\n",
    "corruption_scores_table = corruption_scores_table.drop(\"indicator\", axis=1)"
   ],
   "metadata": {
    "collapsed": false,
    "ExecuteTime": {
     "end_time": "2023-09-27T14:30:16.056769Z",
     "start_time": "2023-09-27T14:30:16.045349Z"
    }
   }
  },
  {
   "cell_type": "code",
   "execution_count": 124,
   "outputs": [],
   "source": [
    "corruption_sources_table =  corruption.melt(id_vars = remaining_columns, value_name=\"corruption_sources\", value_vars=corruption_sources, var_name=\"indicator\")\n",
    "corruption_sources_table['year'] = corruption_sources_table['indicator'].str.split().apply(lambda x: x[-1])\n",
    "corruption_sources_table = corruption_sources_table.drop(\"indicator\", axis=1)"
   ],
   "metadata": {
    "collapsed": false,
    "ExecuteTime": {
     "end_time": "2023-09-27T14:30:16.071187Z",
     "start_time": "2023-09-27T14:30:16.060063Z"
    }
   }
  },
  {
   "cell_type": "code",
   "execution_count": 125,
   "outputs": [],
   "source": [
    "standard_errors_table =  corruption.melt(id_vars = remaining_columns, value_name=\"corruption_standard_errors\", value_vars=corruption_sources, var_name=\"indicator\")\n",
    "standard_errors_table['year'] = standard_errors_table['indicator'].str.split().apply(lambda x: x[-1])\n",
    "standard_errors_table = standard_errors_table.drop(\"indicator\", axis=1)"
   ],
   "metadata": {
    "collapsed": false,
    "ExecuteTime": {
     "end_time": "2023-09-27T14:30:16.093640Z",
     "start_time": "2023-09-27T14:30:16.072262Z"
    }
   }
  },
  {
   "cell_type": "code",
   "execution_count": 126,
   "outputs": [],
   "source": [
    "corruption = corruption_sources_table.merge(corruption_scores_table, on=remaining_columns + [\"year\"]).merge(standard_errors_table, on=remaining_columns + [\"year\"])"
   ],
   "metadata": {
    "collapsed": false,
    "ExecuteTime": {
     "end_time": "2023-09-27T14:30:16.103373Z",
     "start_time": "2023-09-27T14:30:16.093221Z"
    }
   }
  },
  {
   "cell_type": "code",
   "execution_count": 131,
   "outputs": [],
   "source": [
    "corruption[\"year\"] = corruption['year'].astype(int)"
   ],
   "metadata": {
    "collapsed": false,
    "ExecuteTime": {
     "end_time": "2023-09-27T14:37:30.199205Z",
     "start_time": "2023-09-27T14:37:30.194207Z"
    }
   }
  },
  {
   "cell_type": "code",
   "execution_count": 132,
   "outputs": [],
   "source": [
    "corruption.rename(columns={\"Country / Territory\": \"country_name\", \"ISO3\": \"iso_3\"}).to_parquet(cleaned_data_folder / 'corruption_index.parquet')"
   ],
   "metadata": {
    "collapsed": false,
    "ExecuteTime": {
     "end_time": "2023-09-27T14:37:31.917725Z",
     "start_time": "2023-09-27T14:37:31.904284Z"
    }
   }
  },
  {
   "cell_type": "code",
   "execution_count": null,
   "outputs": [],
   "source": [],
   "metadata": {
    "collapsed": false
   }
  }
 ],
 "metadata": {
  "kernelspec": {
   "display_name": "Python 3",
   "language": "python",
   "name": "python3"
  },
  "language_info": {
   "codemirror_mode": {
    "name": "ipython",
    "version": 2
   },
   "file_extension": ".py",
   "mimetype": "text/x-python",
   "name": "python",
   "nbconvert_exporter": "python",
   "pygments_lexer": "ipython2",
   "version": "2.7.6"
  }
 },
 "nbformat": 4,
 "nbformat_minor": 0
}
