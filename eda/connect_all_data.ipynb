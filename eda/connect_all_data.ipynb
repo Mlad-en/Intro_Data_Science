{
 "cells": [
  {
   "cell_type": "code",
   "execution_count": 133,
   "metadata": {
    "collapsed": true,
    "ExecuteTime": {
     "end_time": "2023-09-27T14:56:52.277130Z",
     "start_time": "2023-09-27T14:56:52.199385Z"
    }
   },
   "outputs": [],
   "source": [
    "import pandas as pd\n",
    "\n",
    "import os\n",
    "from pathlib import Path\n",
    "import re\n"
   ]
  },
  {
   "cell_type": "code",
   "execution_count": 134,
   "outputs": [],
   "source": [
    "root_folder = Path(\"./..\").resolve()\n",
    "datasets_folder = root_folder / 'cleaned_data'"
   ],
   "metadata": {
    "collapsed": false,
    "ExecuteTime": {
     "end_time": "2023-09-27T14:56:52.278410Z",
     "start_time": "2023-09-27T14:56:52.206447Z"
    }
   }
  },
  {
   "cell_type": "code",
   "execution_count": 135,
   "outputs": [],
   "source": [
    "speeches_file = datasets_folder / \"all_speeches_2013_2022.parquet\"\n",
    "corruption_file = datasets_folder / \"corruption_index.parquet\"\n",
    "fos_file = datasets_folder / \"freedom_of_the_press_2013_2023.parquet\""
   ],
   "metadata": {
    "collapsed": false,
    "ExecuteTime": {
     "end_time": "2023-09-27T14:56:52.297238Z",
     "start_time": "2023-09-27T14:56:52.212178Z"
    }
   }
  },
  {
   "cell_type": "code",
   "execution_count": 136,
   "outputs": [],
   "source": [
    "speeches = pd.read_parquet(speeches_file)\n",
    "corruption = pd.read_parquet(corruption_file)\n",
    "fos = pd.read_parquet(fos_file)"
   ],
   "metadata": {
    "collapsed": false,
    "ExecuteTime": {
     "end_time": "2023-09-27T14:56:52.311527Z",
     "start_time": "2023-09-27T14:56:52.217555Z"
    }
   }
  },
  {
   "cell_type": "code",
   "execution_count": 137,
   "outputs": [],
   "source": [
    "combined = pd.merge(left=corruption, right=fos, on=[\"country_name\", \"iso_3\", \"year\"], how=\"right\")"
   ],
   "metadata": {
    "collapsed": false,
    "ExecuteTime": {
     "end_time": "2023-09-27T14:56:52.333255Z",
     "start_time": "2023-09-27T14:56:52.319837Z"
    }
   }
  },
  {
   "cell_type": "code",
   "execution_count": 138,
   "outputs": [],
   "source": [
    "combined = combined.merge(speeches, on=[\"iso_3\", \"year\"], how=\"left\")"
   ],
   "metadata": {
    "collapsed": false,
    "ExecuteTime": {
     "end_time": "2023-09-27T14:56:52.337442Z",
     "start_time": "2023-09-27T14:56:52.331385Z"
    }
   }
  },
  {
   "cell_type": "code",
   "execution_count": 160,
   "outputs": [],
   "source": [
    "def replace_new_paragraph_line(text):\n",
    "    pattern = re.compile(\"[\\. ! \\?]\\n[A-Z]\")\n",
    "    matches = re.finditer(pattern, text)\n",
    "    positions = [match.start() for match in matches]\n",
    "    initial_position = 0\n",
    "    text_list = []\n",
    "    for end_position in positions[1:]:\n",
    "        text_list.append(text[initial_position:end_position])\n",
    "        initial_position = end_position + 2\n",
    "    text_list.append(text[initial_position:])\n",
    "    return text_list"
   ],
   "metadata": {
    "collapsed": false,
    "ExecuteTime": {
     "end_time": "2023-09-27T15:06:35.831989Z",
     "start_time": "2023-09-27T15:06:35.825303Z"
    }
   }
  },
  {
   "cell_type": "code",
   "execution_count": 145,
   "outputs": [],
   "source": [
    "combined_before_2023 = combined.loc[combined['year'] < 2023]"
   ],
   "metadata": {
    "collapsed": false,
    "ExecuteTime": {
     "end_time": "2023-09-27T14:57:14.839549Z",
     "start_time": "2023-09-27T14:57:14.829366Z"
    }
   }
  },
  {
   "cell_type": "markdown",
   "source": [
    "Countries that are missing from UN speeches during the years"
   ],
   "metadata": {
    "collapsed": false
   }
  },
  {
   "cell_type": "code",
   "execution_count": 149,
   "outputs": [
    {
     "data": {
      "text/plain": "                    country_name iso_3 Region  corruption_sources  year  \\\n22                   Afghanistan   AFG     AP                 5.0  2021   \n192                       Taiwan   TWN     AP                 8.0  2022   \n279                         OECS   XCD    NaN                 NaN  2022   \n309                       Kosovo   XKO    NaN                 NaN  2022   \n409                 Cyprus North   CTU    NaN                 NaN  2022   \n438            Brunei Darussalam   BRN     AP                 3.0  2016   \n448            Brunei Darussalam   BRN     AP                 3.0  2020   \n482                      Myanmar   MMR     AP                 7.0  2021   \n527                     Cameroon   CMR    SSA                 8.0  2015   \n631                    Hong Kong   HKG     AP                 8.0  2022   \n632   Taiwan (Province of China)   TWN    NaN                 NaN  2013   \n633   Taiwan (Province of China)   TWN    NaN                 NaN  2014   \n635   Taiwan (Province of China)   TWN    NaN                 NaN  2015   \n636   Taiwan (Province of China)   TWN    NaN                 NaN  2016   \n638   Taiwan (Province of China)   TWN    NaN                 NaN  2017   \n639   Taiwan (Province of China)   TWN    NaN                 NaN  2018   \n641   Taiwan (Province of China)   TWN    NaN                 NaN  2019   \n642   Taiwan (Province of China)   TWN    NaN                 NaN  2020   \n644   Taiwan (Province of China)   TWN    NaN                 NaN  2021   \n655                  Afghanistan   AFG     AP                 4.0  2022   \n715                      Myanmar   MMR     AP                 7.0  2022   \n862                     Djibouti   DJI    SSA                 3.0  2013   \n863                     Djibouti   DJI    SSA                 3.0  2014   \n865                     Djibouti   DJI    SSA                 3.0  2016   \n1096                       Kenya   KEN    SSA                 8.0  2013   \n1265                        Mali   MLI    SSA                 8.0  2020   \n1555                Saudi Arabia   SAU   MENA                 5.0  2013   \n1556                Saudi Arabia   SAU   MENA                 5.0  2014   \n1602                   Singapore   SGP     AP                 8.0  2015   \n1679                 South Sudan   SSD    SSA                 5.0  2020   \n1899                  Uzbekistan   UZB    ECA                 6.0  2015   \n1903                  Uzbekistan   UZB    ECA                 7.0  2019   \n\n      corruption_scores  corruption_standard_errors  global_score  \\\n22                 16.0                         5.0         59.81   \n192                68.0                         8.0         74.00   \n279                 NaN                         NaN         68.00   \n309                 NaN                         NaN         67.00   \n409                 NaN                         NaN         61.00   \n438                58.0                         3.0         46.15   \n448                60.0                         3.0         50.35   \n482                28.0                         7.0         53.86   \n527                27.0                         8.0         60.37   \n631                76.0                         8.0         41.00   \n632                 NaN                         NaN         76.18   \n633                 NaN                         NaN         76.18   \n635                 NaN                         NaN         75.17   \n636                 NaN                         NaN         75.63   \n638                 NaN                         NaN         75.63   \n639                 NaN                         NaN         76.64   \n641                 NaN                         NaN         75.02   \n642                 NaN                         NaN         76.24   \n644                 NaN                         NaN         76.14   \n655                24.0                         4.0         38.00   \n715                23.0                         7.0         25.00   \n862                36.0                         3.0         32.60   \n863                34.0                         3.0         29.66   \n865                30.0                         3.0         29.10   \n1096               27.0                         8.0         72.20   \n1265               30.0                         8.0         65.88   \n1555               46.0                         5.0         43.12   \n1556               49.0                         5.0         41.70   \n1602               85.0                         8.0         54.13   \n1679               12.0                         5.0         55.51   \n1899               19.0                         6.0         38.86   \n1903               25.0                         7.0         46.48   \n\n      fos_yearly_evolution text  \n22                   -2.49  NaN  \n192                  -2.14  NaN  \n279                   0.00  NaN  \n309                   0.00  NaN  \n409                   0.00  NaN  \n438                 -17.09  NaN  \n448                   1.83  NaN  \n482                  -1.37  NaN  \n527                  -1.50  NaN  \n631                   0.00  NaN  \n632                   0.00  NaN  \n633                   0.00  NaN  \n635                  -1.01  NaN  \n636                   0.46  NaN  \n638                   0.00  NaN  \n639                   1.01  NaN  \n641                  -1.62  NaN  \n642                   1.22  NaN  \n644                  -0.10  NaN  \n655                 -21.81  NaN  \n715                 -28.86  NaN  \n862                   0.00  NaN  \n863                  -2.94  NaN  \n865                   0.14  NaN  \n1096                  0.00  NaN  \n1265                  1.11  NaN  \n1555                  0.00  NaN  \n1556                 -1.42  NaN  \n1602                 -1.58  NaN  \n1679                  1.16  NaN  \n1899                 -0.13  NaN  \n1903                  7.32  NaN  ",
      "text/html": "<div>\n<style scoped>\n    .dataframe tbody tr th:only-of-type {\n        vertical-align: middle;\n    }\n\n    .dataframe tbody tr th {\n        vertical-align: top;\n    }\n\n    .dataframe thead th {\n        text-align: right;\n    }\n</style>\n<table border=\"1\" class=\"dataframe\">\n  <thead>\n    <tr style=\"text-align: right;\">\n      <th></th>\n      <th>country_name</th>\n      <th>iso_3</th>\n      <th>Region</th>\n      <th>corruption_sources</th>\n      <th>year</th>\n      <th>corruption_scores</th>\n      <th>corruption_standard_errors</th>\n      <th>global_score</th>\n      <th>fos_yearly_evolution</th>\n      <th>text</th>\n    </tr>\n  </thead>\n  <tbody>\n    <tr>\n      <th>22</th>\n      <td>Afghanistan</td>\n      <td>AFG</td>\n      <td>AP</td>\n      <td>5.0</td>\n      <td>2021</td>\n      <td>16.0</td>\n      <td>5.0</td>\n      <td>59.81</td>\n      <td>-2.49</td>\n      <td>NaN</td>\n    </tr>\n    <tr>\n      <th>192</th>\n      <td>Taiwan</td>\n      <td>TWN</td>\n      <td>AP</td>\n      <td>8.0</td>\n      <td>2022</td>\n      <td>68.0</td>\n      <td>8.0</td>\n      <td>74.00</td>\n      <td>-2.14</td>\n      <td>NaN</td>\n    </tr>\n    <tr>\n      <th>279</th>\n      <td>OECS</td>\n      <td>XCD</td>\n      <td>NaN</td>\n      <td>NaN</td>\n      <td>2022</td>\n      <td>NaN</td>\n      <td>NaN</td>\n      <td>68.00</td>\n      <td>0.00</td>\n      <td>NaN</td>\n    </tr>\n    <tr>\n      <th>309</th>\n      <td>Kosovo</td>\n      <td>XKO</td>\n      <td>NaN</td>\n      <td>NaN</td>\n      <td>2022</td>\n      <td>NaN</td>\n      <td>NaN</td>\n      <td>67.00</td>\n      <td>0.00</td>\n      <td>NaN</td>\n    </tr>\n    <tr>\n      <th>409</th>\n      <td>Cyprus North</td>\n      <td>CTU</td>\n      <td>NaN</td>\n      <td>NaN</td>\n      <td>2022</td>\n      <td>NaN</td>\n      <td>NaN</td>\n      <td>61.00</td>\n      <td>0.00</td>\n      <td>NaN</td>\n    </tr>\n    <tr>\n      <th>438</th>\n      <td>Brunei Darussalam</td>\n      <td>BRN</td>\n      <td>AP</td>\n      <td>3.0</td>\n      <td>2016</td>\n      <td>58.0</td>\n      <td>3.0</td>\n      <td>46.15</td>\n      <td>-17.09</td>\n      <td>NaN</td>\n    </tr>\n    <tr>\n      <th>448</th>\n      <td>Brunei Darussalam</td>\n      <td>BRN</td>\n      <td>AP</td>\n      <td>3.0</td>\n      <td>2020</td>\n      <td>60.0</td>\n      <td>3.0</td>\n      <td>50.35</td>\n      <td>1.83</td>\n      <td>NaN</td>\n    </tr>\n    <tr>\n      <th>482</th>\n      <td>Myanmar</td>\n      <td>MMR</td>\n      <td>AP</td>\n      <td>7.0</td>\n      <td>2021</td>\n      <td>28.0</td>\n      <td>7.0</td>\n      <td>53.86</td>\n      <td>-1.37</td>\n      <td>NaN</td>\n    </tr>\n    <tr>\n      <th>527</th>\n      <td>Cameroon</td>\n      <td>CMR</td>\n      <td>SSA</td>\n      <td>8.0</td>\n      <td>2015</td>\n      <td>27.0</td>\n      <td>8.0</td>\n      <td>60.37</td>\n      <td>-1.50</td>\n      <td>NaN</td>\n    </tr>\n    <tr>\n      <th>631</th>\n      <td>Hong Kong</td>\n      <td>HKG</td>\n      <td>AP</td>\n      <td>8.0</td>\n      <td>2022</td>\n      <td>76.0</td>\n      <td>8.0</td>\n      <td>41.00</td>\n      <td>0.00</td>\n      <td>NaN</td>\n    </tr>\n    <tr>\n      <th>632</th>\n      <td>Taiwan (Province of China)</td>\n      <td>TWN</td>\n      <td>NaN</td>\n      <td>NaN</td>\n      <td>2013</td>\n      <td>NaN</td>\n      <td>NaN</td>\n      <td>76.18</td>\n      <td>0.00</td>\n      <td>NaN</td>\n    </tr>\n    <tr>\n      <th>633</th>\n      <td>Taiwan (Province of China)</td>\n      <td>TWN</td>\n      <td>NaN</td>\n      <td>NaN</td>\n      <td>2014</td>\n      <td>NaN</td>\n      <td>NaN</td>\n      <td>76.18</td>\n      <td>0.00</td>\n      <td>NaN</td>\n    </tr>\n    <tr>\n      <th>635</th>\n      <td>Taiwan (Province of China)</td>\n      <td>TWN</td>\n      <td>NaN</td>\n      <td>NaN</td>\n      <td>2015</td>\n      <td>NaN</td>\n      <td>NaN</td>\n      <td>75.17</td>\n      <td>-1.01</td>\n      <td>NaN</td>\n    </tr>\n    <tr>\n      <th>636</th>\n      <td>Taiwan (Province of China)</td>\n      <td>TWN</td>\n      <td>NaN</td>\n      <td>NaN</td>\n      <td>2016</td>\n      <td>NaN</td>\n      <td>NaN</td>\n      <td>75.63</td>\n      <td>0.46</td>\n      <td>NaN</td>\n    </tr>\n    <tr>\n      <th>638</th>\n      <td>Taiwan (Province of China)</td>\n      <td>TWN</td>\n      <td>NaN</td>\n      <td>NaN</td>\n      <td>2017</td>\n      <td>NaN</td>\n      <td>NaN</td>\n      <td>75.63</td>\n      <td>0.00</td>\n      <td>NaN</td>\n    </tr>\n    <tr>\n      <th>639</th>\n      <td>Taiwan (Province of China)</td>\n      <td>TWN</td>\n      <td>NaN</td>\n      <td>NaN</td>\n      <td>2018</td>\n      <td>NaN</td>\n      <td>NaN</td>\n      <td>76.64</td>\n      <td>1.01</td>\n      <td>NaN</td>\n    </tr>\n    <tr>\n      <th>641</th>\n      <td>Taiwan (Province of China)</td>\n      <td>TWN</td>\n      <td>NaN</td>\n      <td>NaN</td>\n      <td>2019</td>\n      <td>NaN</td>\n      <td>NaN</td>\n      <td>75.02</td>\n      <td>-1.62</td>\n      <td>NaN</td>\n    </tr>\n    <tr>\n      <th>642</th>\n      <td>Taiwan (Province of China)</td>\n      <td>TWN</td>\n      <td>NaN</td>\n      <td>NaN</td>\n      <td>2020</td>\n      <td>NaN</td>\n      <td>NaN</td>\n      <td>76.24</td>\n      <td>1.22</td>\n      <td>NaN</td>\n    </tr>\n    <tr>\n      <th>644</th>\n      <td>Taiwan (Province of China)</td>\n      <td>TWN</td>\n      <td>NaN</td>\n      <td>NaN</td>\n      <td>2021</td>\n      <td>NaN</td>\n      <td>NaN</td>\n      <td>76.14</td>\n      <td>-0.10</td>\n      <td>NaN</td>\n    </tr>\n    <tr>\n      <th>655</th>\n      <td>Afghanistan</td>\n      <td>AFG</td>\n      <td>AP</td>\n      <td>4.0</td>\n      <td>2022</td>\n      <td>24.0</td>\n      <td>4.0</td>\n      <td>38.00</td>\n      <td>-21.81</td>\n      <td>NaN</td>\n    </tr>\n    <tr>\n      <th>715</th>\n      <td>Myanmar</td>\n      <td>MMR</td>\n      <td>AP</td>\n      <td>7.0</td>\n      <td>2022</td>\n      <td>23.0</td>\n      <td>7.0</td>\n      <td>25.00</td>\n      <td>-28.86</td>\n      <td>NaN</td>\n    </tr>\n    <tr>\n      <th>862</th>\n      <td>Djibouti</td>\n      <td>DJI</td>\n      <td>SSA</td>\n      <td>3.0</td>\n      <td>2013</td>\n      <td>36.0</td>\n      <td>3.0</td>\n      <td>32.60</td>\n      <td>0.00</td>\n      <td>NaN</td>\n    </tr>\n    <tr>\n      <th>863</th>\n      <td>Djibouti</td>\n      <td>DJI</td>\n      <td>SSA</td>\n      <td>3.0</td>\n      <td>2014</td>\n      <td>34.0</td>\n      <td>3.0</td>\n      <td>29.66</td>\n      <td>-2.94</td>\n      <td>NaN</td>\n    </tr>\n    <tr>\n      <th>865</th>\n      <td>Djibouti</td>\n      <td>DJI</td>\n      <td>SSA</td>\n      <td>3.0</td>\n      <td>2016</td>\n      <td>30.0</td>\n      <td>3.0</td>\n      <td>29.10</td>\n      <td>0.14</td>\n      <td>NaN</td>\n    </tr>\n    <tr>\n      <th>1096</th>\n      <td>Kenya</td>\n      <td>KEN</td>\n      <td>SSA</td>\n      <td>8.0</td>\n      <td>2013</td>\n      <td>27.0</td>\n      <td>8.0</td>\n      <td>72.20</td>\n      <td>0.00</td>\n      <td>NaN</td>\n    </tr>\n    <tr>\n      <th>1265</th>\n      <td>Mali</td>\n      <td>MLI</td>\n      <td>SSA</td>\n      <td>8.0</td>\n      <td>2020</td>\n      <td>30.0</td>\n      <td>8.0</td>\n      <td>65.88</td>\n      <td>1.11</td>\n      <td>NaN</td>\n    </tr>\n    <tr>\n      <th>1555</th>\n      <td>Saudi Arabia</td>\n      <td>SAU</td>\n      <td>MENA</td>\n      <td>5.0</td>\n      <td>2013</td>\n      <td>46.0</td>\n      <td>5.0</td>\n      <td>43.12</td>\n      <td>0.00</td>\n      <td>NaN</td>\n    </tr>\n    <tr>\n      <th>1556</th>\n      <td>Saudi Arabia</td>\n      <td>SAU</td>\n      <td>MENA</td>\n      <td>5.0</td>\n      <td>2014</td>\n      <td>49.0</td>\n      <td>5.0</td>\n      <td>41.70</td>\n      <td>-1.42</td>\n      <td>NaN</td>\n    </tr>\n    <tr>\n      <th>1602</th>\n      <td>Singapore</td>\n      <td>SGP</td>\n      <td>AP</td>\n      <td>8.0</td>\n      <td>2015</td>\n      <td>85.0</td>\n      <td>8.0</td>\n      <td>54.13</td>\n      <td>-1.58</td>\n      <td>NaN</td>\n    </tr>\n    <tr>\n      <th>1679</th>\n      <td>South Sudan</td>\n      <td>SSD</td>\n      <td>SSA</td>\n      <td>5.0</td>\n      <td>2020</td>\n      <td>12.0</td>\n      <td>5.0</td>\n      <td>55.51</td>\n      <td>1.16</td>\n      <td>NaN</td>\n    </tr>\n    <tr>\n      <th>1899</th>\n      <td>Uzbekistan</td>\n      <td>UZB</td>\n      <td>ECA</td>\n      <td>6.0</td>\n      <td>2015</td>\n      <td>19.0</td>\n      <td>6.0</td>\n      <td>38.86</td>\n      <td>-0.13</td>\n      <td>NaN</td>\n    </tr>\n    <tr>\n      <th>1903</th>\n      <td>Uzbekistan</td>\n      <td>UZB</td>\n      <td>ECA</td>\n      <td>7.0</td>\n      <td>2019</td>\n      <td>25.0</td>\n      <td>7.0</td>\n      <td>46.48</td>\n      <td>7.32</td>\n      <td>NaN</td>\n    </tr>\n  </tbody>\n</table>\n</div>"
     },
     "execution_count": 149,
     "metadata": {},
     "output_type": "execute_result"
    }
   ],
   "source": [
    "combined_before_2023[combined_before_2023['text'].isna()]"
   ],
   "metadata": {
    "collapsed": false,
    "ExecuteTime": {
     "end_time": "2023-09-27T14:58:25.454060Z",
     "start_time": "2023-09-27T14:58:25.449388Z"
    }
   }
  },
  {
   "cell_type": "code",
   "execution_count": 152,
   "outputs": [],
   "source": [
    "combined_before_2023_given_speech = combined_before_2023[combined_before_2023['text'].notna()]"
   ],
   "metadata": {
    "collapsed": false,
    "ExecuteTime": {
     "end_time": "2023-09-27T15:03:59.442422Z",
     "start_time": "2023-09-27T15:03:59.436399Z"
    }
   }
  },
  {
   "cell_type": "code",
   "execution_count": 163,
   "outputs": [],
   "source": [
    "combined_before_2023_given_speech.loc[:,:][\"text_split\"] = combined_before_2023_given_speech['text'].apply(lambda x: replace_new_paragraph_line(x)).apply(lambda x: x[1:])"
   ],
   "metadata": {
    "collapsed": false,
    "ExecuteTime": {
     "end_time": "2023-09-27T15:07:40.467201Z",
     "start_time": "2023-09-27T15:07:40.212588Z"
    }
   }
  },
  {
   "cell_type": "code",
   "execution_count": 166,
   "outputs": [],
   "source": [
    "combined_before_2023_given_speech = combined_before_2023_given_speech.drop(\"text\", axis=1)"
   ],
   "metadata": {
    "collapsed": false,
    "ExecuteTime": {
     "end_time": "2023-09-27T15:08:17.291344Z",
     "start_time": "2023-09-27T15:08:17.262743Z"
    }
   }
  },
  {
   "cell_type": "code",
   "execution_count": 174,
   "outputs": [],
   "source": [
    "combined_before_2023_given_speech.explode(\"text_split\").to_parquet(\"combined_data_2013_2022_per_paragraph.parquet\")"
   ],
   "metadata": {
    "collapsed": false,
    "ExecuteTime": {
     "end_time": "2023-09-27T15:11:33.252052Z",
     "start_time": "2023-09-27T15:11:33.070874Z"
    }
   }
  },
  {
   "cell_type": "code",
   "execution_count": 175,
   "outputs": [],
   "source": [
    "combined.to_parquet(\"combined_data_2013_2023.parquet\")"
   ],
   "metadata": {
    "collapsed": false,
    "ExecuteTime": {
     "end_time": "2023-09-27T15:11:58.589996Z",
     "start_time": "2023-09-27T15:11:58.469781Z"
    }
   }
  },
  {
   "cell_type": "code",
   "execution_count": 176,
   "outputs": [],
   "source": [
    "combined_before_2023.to_parquet(\"combined_data_2013_2022_with_missing_speeches.parquet\")"
   ],
   "metadata": {
    "collapsed": false,
    "ExecuteTime": {
     "end_time": "2023-09-27T15:12:42.512363Z",
     "start_time": "2023-09-27T15:12:42.207715Z"
    }
   }
  },
  {
   "cell_type": "code",
   "execution_count": null,
   "outputs": [],
   "source": [],
   "metadata": {
    "collapsed": false
   }
  }
 ],
 "metadata": {
  "kernelspec": {
   "display_name": "Python 3",
   "language": "python",
   "name": "python3"
  },
  "language_info": {
   "codemirror_mode": {
    "name": "ipython",
    "version": 2
   },
   "file_extension": ".py",
   "mimetype": "text/x-python",
   "name": "python",
   "nbconvert_exporter": "python",
   "pygments_lexer": "ipython2",
   "version": "2.7.6"
  }
 },
 "nbformat": 4,
 "nbformat_minor": 0
}
