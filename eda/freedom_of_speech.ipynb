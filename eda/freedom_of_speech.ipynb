{
 "cells": [
  {
   "cell_type": "code",
   "execution_count": 18,
   "metadata": {
    "collapsed": true,
    "ExecuteTime": {
     "end_time": "2023-09-27T14:34:22.604176Z",
     "start_time": "2023-09-27T14:34:22.577945Z"
    }
   },
   "outputs": [],
   "source": [
    "import os.path\n",
    "\n",
    "import pandas as pd\n",
    "from os import listdir, path\n",
    "from pathlib import Path"
   ]
  },
  {
   "cell_type": "code",
   "execution_count": 19,
   "outputs": [],
   "source": [
    "root_folder = Path(\"./..\").resolve()\n",
    "datasets_folder = root_folder / 'exploratory_datasets'\n",
    "clean_data_folder = root_folder / 'cleaned_data'\n",
    "file = datasets_folder / \"qogdata2013.csv\""
   ],
   "metadata": {
    "collapsed": false,
    "ExecuteTime": {
     "end_time": "2023-09-27T14:34:22.605440Z",
     "start_time": "2023-09-27T14:34:22.585968Z"
    }
   }
  },
  {
   "cell_type": "code",
   "execution_count": 20,
   "outputs": [],
   "source": [
    "fos = pd.read_csv(file, sep=\";\")\n",
    "report_2022 = pd.read_csv(datasets_folder / \"Freedom_of_the_press\" / \"2022.csv\")\n",
    "report_2023 = pd.read_csv(datasets_folder / \"Freedom_of_the_press\" / \"2023.csv\", sep=\";\")"
   ],
   "metadata": {
    "collapsed": false,
    "ExecuteTime": {
     "end_time": "2023-09-27T14:34:22.622341Z",
     "start_time": "2023-09-27T14:34:22.591164Z"
    }
   }
  },
  {
   "cell_type": "code",
   "execution_count": 21,
   "outputs": [],
   "source": [
    "report_2022 = report_2022.dropna(how=\"all\", axis=0)"
   ],
   "metadata": {
    "collapsed": false,
    "ExecuteTime": {
     "end_time": "2023-09-27T14:34:22.622556Z",
     "start_time": "2023-09-27T14:34:22.611438Z"
    }
   }
  },
  {
   "cell_type": "code",
   "execution_count": 22,
   "outputs": [],
   "source": [
    "report_2022 = report_2022.rename(columns={\"ISO\": \"iso_3\", \"Score N\" : \"global_score\", \"Rank N-1\": \"country_name\" })\n",
    "report_2022[\"year\"] = 2022\n",
    "report_2022 = report_2022[['country_name', 'year', 'iso_3', 'global_score']]"
   ],
   "metadata": {
    "collapsed": false,
    "ExecuteTime": {
     "end_time": "2023-09-27T14:34:22.625877Z",
     "start_time": "2023-09-27T14:34:22.618877Z"
    }
   }
  },
  {
   "cell_type": "code",
   "execution_count": 23,
   "outputs": [],
   "source": [
    "report_2023 = report_2023.rename(columns={\"ISO\": \"iso_3\", \"Score\" : \"global_score\", \"Country_EN\": \"country_name\" })\n",
    "report_2023[\"year\"] = 2023\n",
    "report_2023 = report_2023[['country_name', 'year', 'iso_3', 'global_score']]\n",
    "report_2023['global_score'] = pd.to_numeric(report_2023['global_score'].str.replace(\",\", \".\"))"
   ],
   "metadata": {
    "collapsed": false,
    "ExecuteTime": {
     "end_time": "2023-09-27T14:34:22.633853Z",
     "start_time": "2023-09-27T14:34:22.629686Z"
    }
   }
  },
  {
   "cell_type": "code",
   "execution_count": 24,
   "outputs": [],
   "source": [
    "fos[\"year\"] += 1\n",
    "fos = fos.loc[:,['cname', 'year', 'ccodealp', 'rsf_pfi1321']]\n",
    "fos['rsf_pfi1321'] = pd.to_numeric(fos['rsf_pfi1321'].str.replace(\",\", \".\"))\n",
    "fos = fos.rename(columns={\"cname\": \"country_name\", \"ccodealp\": \"iso_3\", \"rsf_pfi1321\": \"global_score\"})"
   ],
   "metadata": {
    "collapsed": false,
    "ExecuteTime": {
     "end_time": "2023-09-27T14:34:22.643108Z",
     "start_time": "2023-09-27T14:34:22.640471Z"
    }
   }
  },
  {
   "cell_type": "code",
   "execution_count": 25,
   "outputs": [],
   "source": [
    "full_data = pd.concat([fos, report_2022, report_2023])"
   ],
   "metadata": {
    "collapsed": false,
    "ExecuteTime": {
     "end_time": "2023-09-27T14:34:22.651886Z",
     "start_time": "2023-09-27T14:34:22.646951Z"
    }
   }
  },
  {
   "cell_type": "code",
   "execution_count": 26,
   "outputs": [],
   "source": [
    "evolution = (\n",
    "    full_data\n",
    "    .sort_values(\"year\")\n",
    "    .groupby(\"iso_3\", as_index=False)[\"global_score\"]\n",
    "    .rolling(2)\n",
    "    .apply(lambda x: x.iloc[1] - x.iloc[0])\n",
    "    .fillna(0)\n",
    "    .rename(columns={\"global_score\": \"fos_yearly_evolution\", \"iso_3\": \"iso_3_copy\"})\n",
    ")"
   ],
   "metadata": {
    "collapsed": false,
    "ExecuteTime": {
     "end_time": "2023-09-27T14:34:22.742148Z",
     "start_time": "2023-09-27T14:34:22.654021Z"
    }
   }
  },
  {
   "cell_type": "code",
   "execution_count": 27,
   "outputs": [],
   "source": [
    "full_data_with_evolution = full_data.sort_values(\"year\").join(evolution)"
   ],
   "metadata": {
    "collapsed": false,
    "ExecuteTime": {
     "end_time": "2023-09-27T14:34:22.752743Z",
     "start_time": "2023-09-27T14:34:22.745343Z"
    }
   }
  },
  {
   "cell_type": "code",
   "execution_count": 28,
   "outputs": [],
   "source": [
    "full_data_with_evolution = full_data_with_evolution[full_data_with_evolution[\"iso_3\"]==full_data_with_evolution[\"iso_3_copy\"]]"
   ],
   "metadata": {
    "collapsed": false,
    "ExecuteTime": {
     "end_time": "2023-09-27T14:34:22.760952Z",
     "start_time": "2023-09-27T14:34:22.757763Z"
    }
   }
  },
  {
   "cell_type": "code",
   "execution_count": 29,
   "outputs": [],
   "source": [
    "full_data_with_evolution = full_data_with_evolution.drop(\"iso_3_copy\", axis=1)"
   ],
   "metadata": {
    "collapsed": false,
    "ExecuteTime": {
     "end_time": "2023-09-27T14:34:22.771677Z",
     "start_time": "2023-09-27T14:34:22.764035Z"
    }
   }
  },
  {
   "cell_type": "code",
   "execution_count": 30,
   "outputs": [],
   "source": [
    "full_data_with_evolution.to_parquet(clean_data_folder / \"freedom_of_the_press_2013_2023.parquet\")"
   ],
   "metadata": {
    "collapsed": false,
    "ExecuteTime": {
     "end_time": "2023-09-27T14:34:22.784395Z",
     "start_time": "2023-09-27T14:34:22.769896Z"
    }
   }
  },
  {
   "cell_type": "code",
   "execution_count": 30,
   "outputs": [],
   "source": [],
   "metadata": {
    "collapsed": false,
    "ExecuteTime": {
     "end_time": "2023-09-27T14:34:22.792375Z",
     "start_time": "2023-09-27T14:34:22.790015Z"
    }
   }
  }
 ],
 "metadata": {
  "kernelspec": {
   "display_name": "Python 3",
   "language": "python",
   "name": "python3"
  },
  "language_info": {
   "codemirror_mode": {
    "name": "ipython",
    "version": 2
   },
   "file_extension": ".py",
   "mimetype": "text/x-python",
   "name": "python",
   "nbconvert_exporter": "python",
   "pygments_lexer": "ipython2",
   "version": "2.7.6"
  }
 },
 "nbformat": 4,
 "nbformat_minor": 0
}
