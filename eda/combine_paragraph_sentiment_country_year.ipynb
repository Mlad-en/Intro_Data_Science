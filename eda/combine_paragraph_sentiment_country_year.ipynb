{
 "cells": [
  {
   "cell_type": "code",
   "execution_count": 80,
   "metadata": {
    "collapsed": true,
    "ExecuteTime": {
     "end_time": "2023-09-28T13:33:39.653031Z",
     "start_time": "2023-09-28T13:33:39.649191Z"
    }
   },
   "outputs": [],
   "source": [
    "import  pandas as pd\n",
    "from pathlib import Path\n",
    "from os.path import exists"
   ]
  },
  {
   "cell_type": "code",
   "execution_count": 81,
   "outputs": [],
   "source": [
    "root = Path(\"./..\")\n",
    "cleaned_data = root / \"cleaned_data\"\n",
    "sentiments_climate_file = cleaned_data / \"Sentiment_cleaned_data_climate.parquet\"\n",
    "speeches_file = cleaned_data / \"combined_data_2013_2022_per_paragraph.parquet\""
   ],
   "metadata": {
    "collapsed": false,
    "ExecuteTime": {
     "end_time": "2023-09-28T13:33:39.659041Z",
     "start_time": "2023-09-28T13:33:39.655291Z"
    }
   }
  },
  {
   "cell_type": "code",
   "execution_count": 82,
   "outputs": [],
   "source": [
    "sentiments_climate = pd.read_parquet(sentiments_climate_file)\n",
    "speeches = pd.read_parquet(speeches_file)"
   ],
   "metadata": {
    "collapsed": false,
    "ExecuteTime": {
     "end_time": "2023-09-28T13:33:39.904590Z",
     "start_time": "2023-09-28T13:33:39.660411Z"
    }
   }
  },
  {
   "cell_type": "code",
   "execution_count": 83,
   "outputs": [],
   "source": [
    "merged_info = speeches.merge(sentiments_climate, left_on=\"text_split\", right_on=\"Document\", how=\"left\")"
   ],
   "metadata": {
    "collapsed": false,
    "ExecuteTime": {
     "end_time": "2023-09-28T13:33:39.967034Z",
     "start_time": "2023-09-28T13:33:39.903556Z"
    }
   }
  },
  {
   "cell_type": "code",
   "execution_count": 84,
   "outputs": [],
   "source": [
    "sentiments_climate = merged_info.drop([\"corruption_scores\", \"corruption_sources\", \"corruption_standard_errors\", \"fos_yearly_evolution\", \"global_score\", \"Document\"], axis=1)"
   ],
   "metadata": {
    "collapsed": false,
    "ExecuteTime": {
     "end_time": "2023-09-28T13:33:39.981728Z",
     "start_time": "2023-09-28T13:33:39.974066Z"
    }
   }
  },
  {
   "cell_type": "code",
   "execution_count": 85,
   "outputs": [],
   "source": [
    "sentiments_climate_per_year_mean_together = sentiments_climate.groupby([\"iso_3\", \"year\"], as_index=False)[\"sentiment\"].mean()"
   ],
   "metadata": {
    "collapsed": false,
    "ExecuteTime": {
     "end_time": "2023-09-28T13:33:39.998628Z",
     "start_time": "2023-09-28T13:33:39.982703Z"
    }
   }
  },
  {
   "cell_type": "code",
   "execution_count": 86,
   "outputs": [],
   "source": [
    "paragraphs = sentiments_climate.groupby([\"iso_3\", \"year\"], as_index=False, observed=True)[\"text_split\"].count()"
   ],
   "metadata": {
    "collapsed": false,
    "ExecuteTime": {
     "end_time": "2023-09-28T13:33:40.009508Z",
     "start_time": "2023-09-28T13:33:39.996158Z"
    }
   }
  },
  {
   "cell_type": "code",
   "execution_count": 87,
   "outputs": [],
   "source": [
    "paragraphs_sentiment = sentiments_climate.groupby([\"iso_3\", \"year\"], as_index=False)[\"sentiment\"].count()"
   ],
   "metadata": {
    "collapsed": false,
    "ExecuteTime": {
     "end_time": "2023-09-28T13:33:40.021564Z",
     "start_time": "2023-09-28T13:33:40.011511Z"
    }
   }
  },
  {
   "cell_type": "code",
   "execution_count": 88,
   "outputs": [],
   "source": [
    "amount_of_time_spent_on_climate = paragraphs[paragraphs['text_split'] > 0].merge(paragraphs_sentiment, on=[\"iso_3\", \"year\"])\n",
    "amount_of_time_spent_on_climate[\"amount_of_time_spent_on_climate\"] = amount_of_time_spent_on_climate.apply(lambda x: x[\"sentiment\"] / x[\"text_split\"], axis=1)"
   ],
   "metadata": {
    "collapsed": false,
    "ExecuteTime": {
     "end_time": "2023-09-28T13:33:40.054164Z",
     "start_time": "2023-09-28T13:33:40.025933Z"
    }
   }
  },
  {
   "cell_type": "code",
   "execution_count": 89,
   "outputs": [],
   "source": [
    "amount_of_time_spent_on_climate = amount_of_time_spent_on_climate.rename(columns={\"text_split\": \"total_amount_paragraphs\", \"sentiment\":\"amount_climate_change_paragraphs\"})"
   ],
   "metadata": {
    "collapsed": false,
    "ExecuteTime": {
     "end_time": "2023-09-28T13:33:40.059572Z",
     "start_time": "2023-09-28T13:33:40.055129Z"
    }
   }
  },
  {
   "cell_type": "code",
   "execution_count": 91,
   "outputs": [],
   "source": [
    "sentiments_climate_per_year_mean_together.merge(amount_of_time_spent_on_climate, on=['iso_3', 'year']).to_parquet(cleaned_data / \"climate_change_sentiment_and_proportion_talked_about_climate_change.parquet\")"
   ],
   "metadata": {
    "collapsed": false,
    "ExecuteTime": {
     "end_time": "2023-09-28T13:36:48.881100Z",
     "start_time": "2023-09-28T13:36:48.859232Z"
    }
   }
  }
 ],
 "metadata": {
  "kernelspec": {
   "display_name": "Python 3",
   "language": "python",
   "name": "python3"
  },
  "language_info": {
   "codemirror_mode": {
    "name": "ipython",
    "version": 2
   },
   "file_extension": ".py",
   "mimetype": "text/x-python",
   "name": "python",
   "nbconvert_exporter": "python",
   "pygments_lexer": "ipython2",
   "version": "2.7.6"
  }
 },
 "nbformat": 4,
 "nbformat_minor": 0
}
